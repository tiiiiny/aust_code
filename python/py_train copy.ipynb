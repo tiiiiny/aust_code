{
 "cells": [
  {
   "cell_type": "markdown",
   "metadata": {},
   "source": [
    "# 1_29"
   ]
  },
  {
   "cell_type": "code",
   "execution_count": null,
   "metadata": {},
   "outputs": [],
   "source": [
    "str1 = input(\"请输入一个人的名字：\")\n",
    "str2 = input(\"请输入一个国家名字：\")\n",
    "print (\"世界这么大，{}想去{}看看。\".format(str1,str2))"
   ]
  },
  {
   "cell_type": "code",
   "execution_count": null,
   "metadata": {},
   "outputs": [],
   "source": [
    "n = input(\"请输入整数N：\")\n",
    "sum = 0\n",
    "for i in range (int(n)):\n",
    "\tsum += i+1\n",
    "print(\"1到N求和结果：\",sum)"
   ]
  },
  {
   "cell_type": "code",
   "execution_count": null,
   "metadata": {},
   "outputs": [],
   "source": [
    "for i in range (1,10):\n",
    "    for j in range (1,i+1):\n",
    "        print(\"{}*{}={:2}\".format(j,i,i*j),end = '  ')\n",
    "    print('')"
   ]
  },
  {
   "cell_type": "code",
   "execution_count": null,
   "metadata": {},
   "outputs": [],
   "source": [
    "sum ,tmp= 0,1\n",
    "for i in range (1,11):\n",
    "    tmp*=i\n",
    "    sum+=tmp\n",
    "print(\"运算结果是：{}\".format(sum))"
   ]
  },
  {
   "cell_type": "code",
   "execution_count": null,
   "metadata": {},
   "outputs": [],
   "source": [
    "n = 1\n",
    "for i in range(4,0,-1):\n",
    "    n = (n+1)<<1\n",
    "    print(n)"
   ]
  },
  {
   "cell_type": "markdown",
   "metadata": {},
   "source": [
    "# 2_56"
   ]
  },
  {
   "cell_type": "code",
   "execution_count": null,
   "metadata": {},
   "outputs": [],
   "source": [
    "#e1.1TempConvert.py\n",
    "TempStr = input(\"请输入带有符号的温度值：\")\n",
    "if TempStr[-1] in ['F','f']:\n",
    "    C = (eval(TempStr[0:-1])-32)/1.8\n",
    "    print(\"转换后的温度是{:.0f}C\".format(C))\n",
    "elif TempStr[-1] in ['C','c']:\n",
    "    F = 1.8*eval(TempStr[0:-1]) + 32\n",
    "    print(\"转换后的温度是{:.0f}F\".format(F))\n",
    "else:\n",
    "    print(\"输入格式错误\")"
   ]
  },
  {
   "cell_type": "code",
   "execution_count": null,
   "metadata": {},
   "outputs": [],
   "source": [
    "#e1.1TempConvert.py\n",
    "TempStr = input(\"请输入带有符号的温度值：\")\n",
    "if TempStr[-1] in ['F','f']:\n",
    "    C = (eval(TempStr[0:-1])-32)/1.8\n",
    "    print(\"转换后的温度是{:.0f}C\".format(C))\n",
    "elif TempStr[-1] in ['C','c']:\n",
    "    F = 1.8*eval(TempStr[0:-1]) + 32\n",
    "    print(\"转换后的温度是{:.0f}F\".format(F))\n",
    "else:\n",
    "    print(\"输入格式错误\")"
   ]
  },
  {
   "cell_type": "code",
   "execution_count": null,
   "metadata": {},
   "outputs": [],
   "source": [
    "TempStr = input(\"请输入带有符号的金额：(¥/$)\")\n",
    "if TempStr[-1] in ['¥']:\n",
    "    C = eval(TempStr[0:-1])/6\n",
    "    print(\"转换后的金额是{:.0f}$\".format(C))\n",
    "elif TempStr[-1] in ['$']:\n",
    "    F = 6*eval(TempStr[0:-1])\n",
    "    print(\"转换后的金额是{:.0f}¥\".format(F))\n",
    "else:\n",
    "    print(\"输入格式错误\")"
   ]
  },
  {
   "cell_type": "code",
   "execution_count": 3,
   "metadata": {},
   "outputs": [
    {
     "name": "stdout",
     "output_type": "stream",
     "text": [
      "祝张三:2024新年快乐!\n"
     ]
    }
   ],
   "source": [
    "str1 = \"张三\"\n",
    "str2 = \"2024\"\t\n",
    "print (\"祝{}:{}新年快乐!\".format(str1,str2))"
   ]
  },
  {
   "cell_type": "markdown",
   "metadata": {},
   "source": [
    "# 2_3-15"
   ]
  },
  {
   "cell_type": "code",
   "execution_count": 1,
   "metadata": {},
   "outputs": [],
   "source": [
    "import turtle as t\n",
    "t.setup(6500,6500,200,200)\n",
    "t.penup()\n",
    "t.fd(-250)\n",
    "t.pendown()\n",
    "t.pensize(25)\n",
    "t.pencolor(\"purple\")\n",
    "t.seth(-40)\n",
    "# for i in range(2):\n",
    "# \tt.fd(100)\n",
    "# \tt.circle(40,80)\n",
    "# \tt.fd(100)\n",
    "# \tt.circle(-40,80)\n",
    "for i in range(2):\n",
    "\tt.fd(100)\n",
    "\tt.circle(40,80)\n",
    "\tt.seth(120)\n",
    "\tt.fd(100)\n",
    "\tt.circle(-40,80)\n",
    "t.circle(40,80/2)\n",
    "t.fd(40)\n",
    "# t.circle(16,180)\n",
    "# t.fd(40*2/3)\n",
    "t.done()"
   ]
  },
  {
   "cell_type": "code",
   "execution_count": null,
   "metadata": {},
   "outputs": [],
   "source": [
    "import turtle as t\n",
    "t.setup(650,350,200,200)\n",
    "t.penup()\n",
    "t.fd(-250)\n",
    "t.pendown()\n",
    "t.pensize(25)\n",
    "t.pencolor(\"purple\")\n",
    "t.seth(-40)\n",
    "for i in range(4):\n",
    "\tt.circle(40,80)\n",
    "\tt.pencolor(\"red\")\n",
    "\tt.circle(-40,80)\n",
    "\tt.pencolor(\"green\")\n",
    "t.circle(40,80/2)\n",
    "t.pencolor(\"blue\")\n",
    "t.fd(40)\n",
    "t.circle(16,180)\n",
    "t.pencolor(\"black\")\n",
    "t.fd(40*2/3)\n",
    "t.done()"
   ]
  },
  {
   "cell_type": "code",
   "execution_count": 3,
   "metadata": {},
   "outputs": [],
   "source": [
    "# 等边三角形\n",
    "import turtle as t\n",
    "t.setup(650,350,200,200)\n",
    "t.penup()\n",
    "t.fd(-250)\n",
    "t.pendown()\n",
    "t.pensize(25)\n",
    "t.pencolor(\"purple\")\n",
    "t.seth(0)\n",
    "t.fd(100)\n",
    "t.pencolor(\"blue\")\n",
    "t.seth(120)\n",
    "t.fd(100)\n",
    "t.pencolor(\"green\")\n",
    "t.seth(240)\n",
    "t.fd(100)\n",
    "t.done()"
   ]
  },
  {
   "cell_type": "code",
   "execution_count": null,
   "metadata": {},
   "outputs": [],
   "source": [
    "# 等边三角形\n",
    "import turtle\n",
    "d = 0\n",
    "for i in range(3):\n",
    "    turtle.fd(100)\n",
    "    d = d+120\n",
    "    turtle.seth(d)\n",
    "t.done()"
   ]
  },
  {
   "cell_type": "code",
   "execution_count": null,
   "metadata": {},
   "outputs": [],
   "source": [
    "# 叠加三角形\n",
    "import turtle as t\n",
    "t.setup(650,350,200,200)\n",
    "t.pensize(2)x\n",
    "for i in range(3):\n",
    "\tt.penup()\n",
    "\tif(i==0):\n",
    "\t\tt.fd(-250)\n",
    "\telif(i==1):\n",
    "\t\tt.fd(100)\n",
    "\telse:\n",
    "\t\tt.seth(0)\n",
    "\t\tt.fd(100)\n",
    "\n",
    "\tt.pendown()\n",
    "\tt.seth(0)\n",
    "\tt.fd(100)\n",
    "\tt.seth(120)\n",
    "\tt.fd(100)\n",
    "\tt.seth(240)\n",
    "\tt.fd(100)\n",
    "t.done()"
   ]
  },
  {
   "cell_type": "code",
   "execution_count": 1,
   "metadata": {},
   "outputs": [],
   "source": [
    "# 叠加三角形\n",
    "import turtle\n",
    "turtle.setup(800,600)\n",
    "turtle.pensize(20)\n",
    "#设置画笔大小\n",
    "turtle.pencolor('pink')\n",
    "#设置颜色\n",
    "for i in range(7):\n",
    "\t#绘制外层大三角形\n",
    "    if i<3:\n",
    "        turtle.fd(200)\n",
    "        turtle.left(120)\n",
    "        #每次前进之后转向\n",
    "        \n",
    "    #绘制内层小三角形\n",
    "    elif i<5:\n",
    "        turtle.fd(100)\n",
    "        turtle.left(120)\n",
    "    else:\n",
    "        turtle.left(120)\n",
    "        turtle.fd(100)\n",
    "        turtle.left(120)\n",
    "turtle.done()\n"
   ]
  },
  {
   "cell_type": "code",
   "execution_count": null,
   "metadata": {},
   "outputs": [],
   "source": [
    "import turtle as t\n",
    "t.setup(650,650,200,200)\n",
    "t.penup()\n",
    "t.pensize(10)\n",
    "t.pencolor(\"green\")\n",
    "for i in range(4):\n",
    "\tt.seth(i*90)\n",
    "\tfor j in range(3):\n",
    "\t\tif(j==1):\n",
    "\t\t\tt.pendown()\n",
    "\t\t\tt.fd(100)\n",
    "\t\telse:\n",
    "\t\t\tt.penup()\n",
    "\t\t\tt.fd(50)\n",
    "t.done()"
   ]
  },
  {
   "cell_type": "code",
   "execution_count": null,
   "metadata": {},
   "outputs": [],
   "source": [
    "import turtle as t\n",
    "t.setup(650,350,200,200)    #窗口大小及左上角位置\n",
    "t.seth(30)                  #画笔起始方向\n",
    "for i in range(6):\n",
    "    t.fd(30)                #六角形边长30\n",
    "    t.left(120)\n",
    "    t.fd(30)\n",
    "    t.left(120)\n",
    "    t.fd(30)\n",
    "    t.left(120)             #画完一个三角形\n",
    "    t.fd(30)\n",
    "    t.right(60)             #转换方向，开始准备新的三角形"
   ]
  },
  {
   "cell_type": "code",
   "execution_count": 1,
   "metadata": {},
   "outputs": [],
   "source": [
    "import turtle as a\n",
    "a.left(30)#画第一个三角形\n",
    "a.fd(200)\n",
    "for i in range(2):\n",
    "    a.right(120)2\n",
    "    a.fd(300)\n",
    "a.right(120)\n",
    "a.fd(100)\n",
    "a.right(120)#画第二个三角形\n",
    "a.fd(200)\n",
    "for i in range(2):\n",
    "    a.left(120)\n",
    "    a.fd(300)\n",
    "a.left(120)\n",
    "a.fd(100)\n",
    "a.done()"
   ]
  },
  {
   "cell_type": "code",
   "execution_count": 1,
   "metadata": {},
   "outputs": [
    {
     "ename": "",
     "evalue": "",
     "output_type": "error",
     "traceback": [
      "\u001b[1;31m在当前单元格或上一个单元格中执行代码时 Kernel 崩溃。\n",
      "\u001b[1;31m请查看单元格中的代码，以确定故障的可能原因。\n",
      "\u001b[1;31m单击<a href='https://aka.ms/vscodeJupyterKernelCrash'>此处</a>了解详细信息。\n",
      "\u001b[1;31m有关更多详细信息，请查看 Jupyter <a href='command:jupyter.viewOutput'>log</a>。"
     ]
    }
   ],
   "source": [
    "import turtle as t\n",
    "\n",
    "t.pensize(2)\n",
    "for i in range(4):\n",
    "    t.seth(90*i)\n",
    "    t.fd(150)\n",
    "    t.right(90)\n",
    "    t.circle(-150,45)\n",
    "    t.goto(0,0)\n",
    "t.done()\n"
   ]
  },
  {
   "cell_type": "code",
   "execution_count": null,
   "metadata": {},
   "outputs": [],
   "source": [
    "# 绘制正方形螺旋线\n",
    "from turtle import *\n",
    "\n",
    "speed(0)  # 调节画笔速度\n",
    "pensize(3)\n",
    "pencolor(\"green\")  # 画笔颜色\n",
    "for i in range(60):  # 利用for循环画出正方形螺旋线\n",
    "    # seth(90 * i + 90)  # 改变画笔方向\n",
    "    left(90)\n",
    "    fd(10 + 5 * i)  # 改变画线长度\n",
    "done()"
   ]
  },
  {
   "attachments": {
    "image.png": {
     "image/png": "[encoded data removed]"
    }
   },
   "cell_type": "markdown",
   "metadata": {},
   "source": [
    "![image.png](attachment:image.png)"
   ]
  },
  {
   "cell_type": "code",
   "execution_count": 3,
   "metadata": {},
   "outputs": [],
   "source": [
    "# 绘制正方形螺旋线\n",
    "from turtle import *\n",
    "\n",
    "speed(0)  # 调节画笔速度\n",
    "pensize(3)\n",
    "pencolor(\"green\")  # 画笔颜色\n",
    "for i in range(60):  # 利用for循环画出正方形螺旋线\n",
    "    seth(90 * i + 90)  # 改变画笔方向\n",
    "    fd(8+  10* i)  # 改变画线长度???\n",
    "    # rt(1)  # 改变画笔方向\n",
    "done()"
   ]
  },
  {
   "cell_type": "code",
   "execution_count": 1,
   "metadata": {},
   "outputs": [
    {
     "ename": "Terminator",
     "evalue": "",
     "output_type": "error",
     "traceback": [
      "\u001b[0;31m---------------------------------------------------------------------------\u001b[0m",
      "\u001b[0;31mTerminator\u001b[0m                                Traceback (most recent call last)",
      "Cell \u001b[0;32mIn[1], line 257\u001b[0m\n\u001b[1;32m    254\u001b[0m heart(\u001b[38;5;241m-\u001b[39m\u001b[38;5;241m132\u001b[39m,\u001b[38;5;241m-\u001b[39m\u001b[38;5;241m85\u001b[39m,\u001b[38;5;241m30\u001b[39m)\n\u001b[1;32m    255\u001b[0m exitonclick()\n\u001b[0;32m--> 257\u001b[0m done()\n",
      "File \u001b[0;32m<string>:5\u001b[0m, in \u001b[0;36mmainloop\u001b[0;34m()\u001b[0m\n",
      "\u001b[0;31mTerminator\u001b[0m: "
     ]
    }
   ],
   "source": [
    "from turtle import *\n",
    "#两个函数用于画心\n",
    "def curvemove():\n",
    "    for i in range(200):\n",
    "        right(1)\n",
    "        forward(0.1)\n",
    "def heart(x,y,s):\n",
    "    pu()\n",
    "    goto(x,y)\n",
    "    seth(s)\n",
    "    pendown()\n",
    "    begin_fill()\n",
    "    left(140)\n",
    "    forward(11.1)\n",
    "    curvemove()\n",
    "    left(120)\n",
    "    curvemove()\n",
    "    forward(11.1)\n",
    "    end_fill()\n",
    "#初始化\n",
    "setup(600,600)\n",
    "pu()\n",
    "goto(60,100)\n",
    "pensize(4)\n",
    "pendown()\n",
    "#画左半边的头\n",
    "for i in range(150,212,2):\n",
    "    seth(i)\n",
    "    fd(3)\n",
    "seth(145)\n",
    "fd(50)\n",
    "left(125)\n",
    "fd(50)\n",
    "for i in range(240,318,2):\n",
    "    if i==290:\n",
    "        seth(190)\n",
    "        fd(10)\n",
    "        seth(10)\n",
    "        fd(10)\n",
    "    elif i==300:\n",
    "        seth(200)\n",
    "        fd(10)\n",
    "        seth(20)\n",
    "        fd(10)\n",
    "    seth(i)\n",
    "    fd(3)\n",
    "#画右半边的头\n",
    "pu()\n",
    "goto(60,100)\n",
    "pendown()\n",
    "seth(45)\n",
    "fd(50)\n",
    "right(125)\n",
    "fd(50)\n",
    "for i in range(-60,-138,-2):\n",
    "    if i==-110:\n",
    "        seth(-10)\n",
    "        fd(10)\n",
    "        seth(170)\n",
    "        fd(10)\n",
    "    elif i==-120:\n",
    "        seth(-20)\n",
    "        fd(10)\n",
    "        seth(160)\n",
    "        fd(10)\n",
    "    seth(i)\n",
    "    fd(3)\n",
    "#头部到这里就画好外观了\n",
    "seth(-40)\n",
    "fd(52)\n",
    "seth(-135)\n",
    "fd(45)\n",
    "pu()\n",
    "seth(-105)\n",
    "fd(5)\n",
    "pendown()\n",
    "fd(17)\n",
    "for i in range(130,106,-3):\n",
    "    seth(i)\n",
    "    fd(2.5)\n",
    "for i in range(106,30,-10):\n",
    "    seth(i)\n",
    "    fd(2)\n",
    "seth(38)\n",
    "fd(25)\n",
    "seth(135)\n",
    "fd(31)\n",
    "seth(169)\n",
    "fd(6)\n",
    "seth(270)\n",
    "fd(105)\n",
    "#右边的身子画好了\n",
    "#开始画左边的身子\n",
    "pu()\n",
    "goto(-52,-30)\n",
    "pendown()\n",
    "seth(220)\n",
    "fd(48)#52\n",
    "seth(250)\n",
    "fd(3)\n",
    "seth(270)\n",
    "fd(3)\n",
    "seth(290)\n",
    "fd(2)\n",
    "seth(-40)\n",
    "fd(44)\n",
    "seth(228)\n",
    "fd(20)\n",
    "seth(5)\n",
    "fd(22)\n",
    "#画叉腰的动作\n",
    "pu()\n",
    "goto(-52,-84)\n",
    "seth(133)\n",
    "pendown()\n",
    "fd(22)\n",
    "seth(90)\n",
    "fd(2)\n",
    "seth(60)\n",
    "fd(2)\n",
    "seth(45)\n",
    "fd(29)\n",
    "seth(0)\n",
    "fd(3)\n",
    "seth(-93)\n",
    "fd(102)\n",
    "#叉腰动作结束 接下来画嘴巴 眼睛\n",
    "pu()\n",
    "goto(-43,38)\n",
    "seth(0)\n",
    "pendown()\n",
    "begin_fill()\n",
    "circle(5)\n",
    "end_fill()\n",
    "pu()\n",
    "fd(108)\n",
    "pendown()\n",
    "begin_fill()\n",
    "circle(5)\n",
    "end_fill()\n",
    "#调色环节\n",
    "pu()\n",
    "goto(60,24)\n",
    "pencolor(\"pink\")\n",
    "pensize(6)\n",
    "seth(225)\n",
    "pendown()\n",
    "fd(7)\n",
    "pu()\n",
    "goto(70,24)\n",
    "seth(225)\n",
    "pendown()\n",
    "fd(7)\n",
    "#右半边调色完毕\n",
    "pu()\n",
    "goto(-49,24)\n",
    "seth(225)\n",
    "pendown()\n",
    "fd(7)\n",
    "#画嘴巴\n",
    "pu()\n",
    "pensize(4)\n",
    "pencolor(\"black\")\n",
    "goto(5,21)\n",
    "seth(-45)\n",
    "pendown()\n",
    "fd(5)\n",
    "goto(5,21)\n",
    "seth(225)\n",
    "fd(5)\n",
    "#左边的颜色\n",
    "pu()\n",
    "pencolor(\"pink\")\n",
    "pensize(6)\n",
    "goto(-39,24)\n",
    "seth(225)\n",
    "pendown()\n",
    "fd(7)\n",
    "\n",
    "#给耳朵填充颜色\n",
    "pu()\n",
    "goto(-40,92)\n",
    "seth(80)\n",
    "pendown()\n",
    "fillcolor(\"pink\")\n",
    "begin_fill()\n",
    "circle(14,360,3)\n",
    "end_fill()\n",
    "pu()\n",
    "goto(72,100)\n",
    "seth(-74)\n",
    "pendown()\n",
    "begin_fill()\n",
    "circle(14,360,3)\n",
    "end_fill()\n",
    "#酷酷的黑翅膀\n",
    "pu()\n",
    "pensize(4)\n",
    "color('black', 'black')\n",
    "begin_fill()\n",
    "goto(-90,-35)\n",
    "seth(135)\n",
    "pendown()\n",
    "fd(25)\n",
    "seth(225)\n",
    "fd(45)\n",
    "seth(25)\n",
    "fd(15)\n",
    "seth(-80)\n",
    "pensize(2)\n",
    "fd(15)\n",
    "seth(55)\n",
    "fd(15)\n",
    "seth(25)\n",
    "fd(10)\n",
    "seth(-80)\n",
    "fd(15)\n",
    "seth(75)\n",
    "fd(15)\n",
    "goto(-90,-35)\n",
    "end_fill()\n",
    "#最后一个翅膀\n",
    "pu()\n",
    "goto(125,-30)\n",
    "seth(45)\n",
    "pendown()\n",
    "begin_fill()\n",
    "fd(25)\n",
    "seth(-45)\n",
    "fd(45)\n",
    "seth(155)\n",
    "fd(15)\n",
    "seth(-80)\n",
    "fd(15)\n",
    "seth(120)\n",
    "fd(17)\n",
    "seth(170)\n",
    "fd(15)\n",
    "seth(-80)\n",
    "fd(15)\n",
    "seth(120)\n",
    "fd(17)\n",
    "goto(125,-30)\n",
    "end_fill()\n",
    "\n",
    "#画5颗心\n",
    "speed(10)\n",
    "color('red', 'pink')\n",
    "pensize(2)\n",
    "heart(0,140,0)\n",
    "heart(-125,0,30)\n",
    "heart(140,0,-30)\n",
    "heart(145,-85,-30)\n",
    "heart(-132,-85,30)\n",
    "exitonclick()\n",
    "\n",
    "done()"
   ]
  },
  {
   "attachments": {
    "image.png": {
     "image/png": "[encoded data removed]"
    }
   },
   "cell_type": "markdown",
   "metadata": {},
   "source": [
    "![image.png](attachment:image.png)"
   ]
  },
  {
   "cell_type": "code",
   "execution_count": null,
   "metadata": {},
   "outputs": [],
   "source": [
    "# coding:utf-8\n",
    "import turtle as t\n",
    "t.pensize(4) # 设置画笔的大小\n",
    "t.colormode(255) # 设置GBK颜色范围为0-255\n",
    "t.color((255,155,192),\"pink\") # 设置画笔颜色和填充颜色(pink)\n",
    "t.setup(840,500) # 设置主窗口的大小为840*500\n",
    "t.speed(10) # 设置画笔速度为10\n",
    "#鼻子\n",
    "t.pu() # 提笔\n",
    "t.goto(-100,100) # 画笔前往坐标(-100,100)\n",
    "t.pd() # 下笔\n",
    "t.seth(-30) # 笔的角度为-30°\n",
    "t.begin_fill() # 外形填充的开始标志\n",
    "a=0.4\n",
    "for i in range(120):\n",
    "   if 0<=i<30 or 60<=i<90:\n",
    "       a=a+0.08\n",
    "       t.lt(3) #向左转3度\n",
    "       t.fd(a) #向前走a的步长\n",
    "   else:\n",
    "       a=a-0.08\n",
    "       t.lt(3)\n",
    "       t.fd(a)\n",
    "t.end_fill() # 依据轮廓填充\n",
    "t.pu() # 提笔\n",
    "t.seth(90) # 笔的角度为90度\n",
    "t.fd(25) # 向前移动25\n",
    "t.seth(0) # 转换画笔的角度为0\n",
    "t.fd(10)\n",
    "t.pd()\n",
    "t.pencolor(255,155,192) # 设置画笔颜色\n",
    "t.seth(10)\n",
    "t.begin_fill()\n",
    "t.circle(5) # 画一个半径为5的圆\n",
    "t.color(160,82,45) # 设置画笔和填充颜色\n",
    "t.end_fill()\n",
    "t.pu()\n",
    "t.seth(0)\n",
    "t.fd(20)\n",
    "t.pd()\n",
    "t.pencolor(255,155,192)\n",
    "t.seth(10)\n",
    "t.begin_fill()\n",
    "t.circle(5)\n",
    "t.color(160,82,45)\n",
    "t.end_fill()\n",
    "#头\n",
    "t.color((255,155,192),\"pink\")\n",
    "t.pu()\n",
    "t.seth(90)\n",
    "t.fd(41)\n",
    "t.seth(0)\n",
    "t.fd(0)\n",
    "t.pd()\n",
    "t.begin_fill()\n",
    "t.seth(180)\n",
    "t.circle(300,-30) # 顺时针画一个半径为300,圆心角为30°的园\n",
    "t.circle(100,-60)\n",
    "t.circle(80,-100)\n",
    "t.circle(150,-20)\n",
    "t.circle(60,-95)\n",
    "t.seth(161)\n",
    "t.circle(-300,15)\n",
    "t.pu()\n",
    "t.goto(-100,100)\n",
    "t.pd()\n",
    "t.seth(-30)\n",
    "a=0.4\n",
    "for i in range(60):\n",
    "   if 0<=i<30 or 60<=i<90:\n",
    "       a=a+0.08\n",
    "       t.lt(3) #向左转3度\n",
    "       t.fd(a) #向前走a的步长\n",
    "   else:\n",
    "       a=a-0.08\n",
    "       t.lt(3)\n",
    "       t.fd(a)\n",
    "t.end_fill()\n",
    "#耳朵\n",
    "t.color((255,155,192),\"pink\")\n",
    "t.pu()\n",
    "t.seth(90)\n",
    "t.fd(-7)\n",
    "t.seth(0)\n",
    "t.fd(70)\n",
    "t.pd()\n",
    "t.begin_fill()\n",
    "t.seth(100)\n",
    "t.circle(-50,50)\n",
    "t.circle(-10,120)\n",
    "t.circle(-50,54)\n",
    "t.end_fill()\n",
    "t.pu()\n",
    "t.seth(90)\n",
    "t.fd(-12)\n",
    "t.seth(0)\n",
    "t.fd(30)\n",
    "t.pd()\n",
    "t.begin_fill()\n",
    "t.seth(100)\n",
    "t.circle(-50,50)\n",
    "t.circle(-10,120)\n",
    "t.circle(-50,56)\n",
    "t.end_fill()\n",
    "#眼睛\n",
    "t.color((255,155,192),\"white\")\n",
    "t.pu()\n",
    "t.seth(90)\n",
    "t.fd(-20)\n",
    "t.seth(0)\n",
    "t.fd(-95)\n",
    "t.pd()\n",
    "t.begin_fill()\n",
    "t.circle(15)\n",
    "t.end_fill()\n",
    "t.color(\"black\")\n",
    "t.pu()\n",
    "t.seth(90)\n",
    "t.fd(12)\n",
    "t.seth(0)\n",
    "t.fd(-3)\n",
    "t.pd()\n",
    "t.begin_fill()\n",
    "t.circle(3)\n",
    "t.end_fill()\n",
    "t.color((255,155,192),\"white\")\n",
    "t.pu()\n",
    "t.seth(90)\n",
    "t.fd(-25)\n",
    "t.seth(0)\n",
    "t.fd(40)\n",
    "t.pd()\n",
    "t.begin_fill()\n",
    "t.circle(15)\n",
    "t.end_fill()\n",
    "t.color(\"black\")\n",
    "t.pu()\n",
    "t.seth(90)\n",
    "t.fd(12)\n",
    "t.seth(0)\n",
    "t.fd(-3)\n",
    "t.pd()\n",
    "t.begin_fill()\n",
    "t.circle(3)\n",
    "t.end_fill()\n",
    "#腮\n",
    "t.color((255,155,192))\n",
    "t.pu()\n",
    "t.seth(90)\n",
    "t.fd(-95)\n",
    "t.seth(0)\n",
    "t.fd(65)\n",
    "t.pd()\n",
    "t.begin_fill()\n",
    "t.circle(30)\n",
    "t.end_fill()\n",
    "#嘴\n",
    "t.color(239,69,19)\n",
    "t.pu()\n",
    "t.seth(90)\n",
    "t.fd(15)\n",
    "t.seth(0)\n",
    "t.fd(-100)\n",
    "t.pd()\n",
    "t.seth(-80)\n",
    "t.circle(30,40)\n",
    "t.circle(40,80)\n",
    "#身体\n",
    "t.color(\"red\",(255,99,71))\n",
    "t.pu()\n",
    "t.seth(90)\n",
    "t.fd(-20)\n",
    "t.seth(0)\n",
    "t.fd(-78)\n",
    "t.pd()\n",
    "t.begin_fill()\n",
    "t.seth(-130)\n",
    "t.circle(100,10)\n",
    "t.circle(300,30)\n",
    "t.seth(0)\n",
    "t.fd(230)\n",
    "t.seth(90)\n",
    "t.circle(300,30)\n",
    "t.circle(100,3)\n",
    "t.color((255,155,192),(255,100,100))\n",
    "t.seth(-135)\n",
    "t.circle(-80,63)\n",
    "t.circle(-150,24)\n",
    "t.end_fill()\n",
    "#手\n",
    "t.color((255,155,192))\n",
    "t.pu()\n",
    "t.seth(90)\n",
    "t.fd(-40)\n",
    "t.seth(0)\n",
    "t.fd(-27)\n",
    "t.pd()\n",
    "t.seth(-160)\n",
    "t.circle(300,15)\n",
    "t.pu()\n",
    "t.seth(90)\n",
    "t.fd(15)\n",
    "t.seth(0)\n",
    "t.fd(0)\n",
    "t.pd()\n",
    "t.seth(-10)\n",
    "t.circle(-20,90)\n",
    "t.pu()\n",
    "t.seth(90)\n",
    "t.fd(30)\n",
    "t.seth(0)\n",
    "t.fd(237)\n",
    "t.pd()\n",
    "t.seth(-20)\n",
    "t.circle(-300,15)\n",
    "t.pu()\n",
    "t.seth(90)\n",
    "t.fd(20)\n",
    "t.seth(0)\n",
    "t.fd(0)\n",
    "t.pd()\n",
    "t.seth(-170)\n",
    "t.circle(20,90)\n",
    "#脚\n",
    "t.pensize(10)\n",
    "t.color((240,128,128))\n",
    "t.pu()\n",
    "t.seth(90)\n",
    "t.fd(-75)\n",
    "t.seth(0)\n",
    "t.fd(-180)\n",
    "t.pd()\n",
    "t.seth(-90)\n",
    "t.fd(40)\n",
    "t.seth(-180)\n",
    "t.color(\"black\")\n",
    "t.pensize(15)\n",
    "t.fd(20)\n",
    "t.pensize(10)\n",
    "t.color((240,128,128))\n",
    "t.pu()\n",
    "t.seth(90)\n",
    "t.fd(40)\n",
    "t.seth(0)\n",
    "t.fd(90)\n",
    "t.pd()\n",
    "t.seth(-90)\n",
    "t.fd(40)\n",
    "t.seth(-180)\n",
    "t.color(\"black\")\n",
    "t.pensize(15)\n",
    "t.fd(20)\n",
    "#尾巴\n",
    "t.pensize(4)\n",
    "t.color((255,155,192))\n",
    "t.pu()\n",
    "t.seth(90)\n",
    "t.fd(70)\n",
    "t.seth(0)\n",
    "t.fd(95)\n",
    "t.pd()\n",
    "t.seth(0)\n",
    "t.circle(70,20)\n",
    "t.circle(10,330)\n",
    "t.circle(70,30)"
   ]
  },
  {
   "attachments": {
    "image.png": {
     "image/png": "[encoded data removed]"
    }
   },
   "cell_type": "markdown",
   "metadata": {},
   "source": [
    "![image.png](attachment:image.png)"
   ]
  },
  {
   "cell_type": "code",
   "execution_count": null,
   "metadata": {},
   "outputs": [],
   "source": [
    "# waiting...\n",
    "\n",
    "import turtle as t\n",
    "t.setup(650,650,200,200)\n",
    "t.penup()\n",
    "t.pensize(10)\n",
    "t.pencolor(\"green\")\n",
    "t.pendown()\n",
    "x=0\n",
    "for j in range(4):\n",
    "\tx+=100\n",
    "\tfor i in range(3):\n",
    "\t\tt.seth((i+1)*90)\n",
    "\t\tt.fd(x)\n",
    "\tt.fd(x)\n",
    "\tx+=40\n",
    "\tt.seth(0)\n",
    "\tt.fd(x)"
   ]
  },
  {
   "cell_type": "code",
   "execution_count": null,
   "metadata": {},
   "outputs": [],
   "source": [
    "import turtle\n",
    "import math\n",
    " \n",
    "turtle.pensize(3)\n",
    "turtle.colormode(255)\n",
    " \n",
    "# 画背景\n",
    "turtle.pencolor(\"#ed120c\")\n",
    "turtle.fillcolor(\"#ed120c\")\n",
    "turtle.begin_fill()\n",
    "turtle.penup()\n",
    "turtle.goto(-150, 100)\n",
    "turtle.pendown()\n",
    " \n",
    "for i in [300, 200, 300, 200]:\n",
    "    turtle.forward(i)\n",
    "    turtle.right(90)\n",
    "turtle.left(90)\n",
    "turtle.end_fill()\n",
    "turtle.penup()\n",
    " \n",
    " \n",
    "# 画五角星函数，要求传入五角星中心坐标，五角星外接圆半径，五角星逆时针旋转角度（默认角度0度为向上，即大五角星方向）\n",
    "def Pentagram(x, y, radius, degree):\n",
    "    length = (radius * math.sqrt(8) // 3) * 2  # 根据五角星外接圆半径计算五角星长度\n",
    " \n",
    "    turtle.goto(x, y)  # 五角星外接圆中心坐标（即五角星中心坐标）\n",
    "    turtle.left(degree)  # 五角星逆时针旋转多少度\n",
    "    turtle.forward(radius)  # 前进外接圆半径距离，到达五角星顶点\n",
    "    turtle.pendown()\n",
    " \n",
    "    # 以下为标准画五角星代码，画笔颜色及填充颜色可以通过取色器取\n",
    "    turtle.right(162)\n",
    "    turtle.pencolor(\"#f4ec20\")\n",
    "    turtle.fillcolor(\"#f4ec20\")\n",
    "    turtle.begin_fill()\n",
    "    for _ in range(5):\n",
    "        turtle.forward(length)\n",
    "        turtle.right(144)\n",
    "    turtle.end_fill()\n",
    "    turtle.left(162)\n",
    " \n",
    "    turtle.right(degree)\n",
    "    turtle.penup()\n",
    " \n",
    " \n",
    "# 画大五角星\n",
    "Pentagram(-100, 50, 30, 0)\n",
    " \n",
    "# 画第一个小五角星\n",
    "degree1 = 90 + math.atan(3 / 5) * 180 / math.pi  # 计算第一个小五角星相对于大五角星的逆时针旋转角度，atan计算弧度需要转化为角度\n",
    "Pentagram(-50, 80, 10, degree1)\n",
    " \n",
    "# 画第二个小五角星\n",
    "degree2 = 90 + math.atan(1 / 7) * 180 / math.pi\n",
    "Pentagram(-30, 60, 10, degree2)\n",
    " \n",
    "# 画第三个小五角星\n",
    "degree3 = 90 - math.atan(2 / 7) * 180 / math.pi\n",
    "Pentagram(-30, 30, 10, degree3)\n",
    " \n",
    "# 画第四个小五角星\n",
    "degree4 = 90 - math.atan(4 / 5) * 180 / math.pi\n",
    "Pentagram(-50, 10, 10, degree4)\n",
    " \n",
    "turtle.hideturtle()\n",
    "turtle.done()"
   ]
  },
  {
   "cell_type": "code",
   "execution_count": null,
   "metadata": {},
   "outputs": [],
   "source": [
    "import turtle\n",
    "\n",
    "\n",
    "def flyTo(x, y):\n",
    "    turtle.penup()\n",
    "    turtle.goto(x, y)\n",
    "    turtle.pendown()\n",
    "def drawEye():\n",
    "    turtle.tracer(False)\n",
    "    a = 2.5\n",
    "    for i in range(120):\n",
    "        if 0 <= i < 30 or 60 <= i < 90:\n",
    "            a -= 0.05\n",
    "        else:\n",
    "            a += 0.05\n",
    "        turtle.left(3)\n",
    "        turtle.fd(a)\n",
    "    turtle.tracer(True)\n",
    "def beard():\n",
    "    \"\"\" 画胡子， 一共六根\n",
    "    \"\"\"\n",
    "    # 左边第一根胡子\n",
    "    flyTo(-37, 135)\n",
    "    turtle.seth(165)\n",
    "    turtle.fd(60)\n",
    "    # 左边第二根胡子\n",
    "    flyTo(-37, 125)\n",
    "    turtle.seth(180)\n",
    "    turtle.fd(60)\n",
    "    # 左边第三根胡子\n",
    "    flyTo(-37, 115)\n",
    "    turtle.seth(193)\n",
    "    turtle.fd(60)\n",
    "    # 右边第一根胡子\n",
    "    flyTo(37, 135)\n",
    "    turtle.seth(15)\n",
    "    turtle.fd(60)\n",
    "    # 右边第二根胡子\n",
    "    flyTo(37, 125)\n",
    "    turtle.seth(0)\n",
    "    turtle.fd(60)\n",
    "    # 右边第三根胡子\n",
    "    flyTo(37, 115)\n",
    "    turtle.seth(-13)\n",
    "    turtle.fd(60)\n",
    "def drawRedScarf():\n",
    "    \"\"\" 画围巾\n",
    "    \"\"\"\n",
    "    turtle.fillcolor(\"red\")  # 填充颜色\n",
    "    turtle.begin_fill()\n",
    "    turtle.seth(0)  # 朝向右\n",
    "    turtle.fd(200)  # 前进10个单位\n",
    "    turtle.circle(-5, 90)\n",
    "    turtle.fd(10)\n",
    "    turtle.circle(-5, 90)\n",
    "    turtle.fd(207)\n",
    "    turtle.circle(-5, 90)\n",
    "    turtle.fd(10)\n",
    "    turtle.circle(-5, 90)\n",
    "    turtle.end_fill()\n",
    "def drawMouse():\n",
    "    flyTo(5, 148)\n",
    "    turtle.seth(270)\n",
    "    turtle.fd(100)\n",
    "    turtle.seth(0)\n",
    "    turtle.circle(120, 50)\n",
    "    turtle.seth(230)\n",
    "    turtle.circle(-120, 100)\n",
    "def drawRedNose():\n",
    "    flyTo(-10, 158)\n",
    "    turtle.fillcolor(\"red\")  # 填充颜色\n",
    "    turtle.begin_fill()\n",
    "    turtle.circle(20)\n",
    "    turtle.end_fill()\n",
    "def drawBlackdrawEye():\n",
    "    turtle.seth(0)\n",
    "    flyTo(-20, 195)\n",
    "    turtle.fillcolor(\"#000000\")  # 填充颜色\n",
    "    turtle.begin_fill()\n",
    "    turtle.circle(13)\n",
    "    turtle.end_fill()\n",
    "    turtle.pensize(6)\n",
    "    flyTo(20, 205)\n",
    "    turtle.seth(75)\n",
    "    turtle.circle(-10, 150)\n",
    "    turtle.pensize(3)\n",
    "    flyTo(-17, 200)\n",
    "    turtle.seth(0)\n",
    "    turtle.fillcolor(\"#ffffff\")\n",
    "    turtle.begin_fill()\n",
    "    turtle.circle(5)\n",
    "    turtle.end_fill()\n",
    "    flyTo(0, 0)\n",
    "def drawFace():\n",
    "    turtle.forward(183)  # 前行183个单位\n",
    "    turtle.fillcolor(\"white\")  # 填充颜色为白色\n",
    "    turtle.begin_fill()  # 开始填充\n",
    "    turtle.left(45)  # 左转45度\n",
    "    turtle.circle(120, 100)  # 右边那半边脸\n",
    "    turtle.seth(90)  # 朝向向上\n",
    "    drawEye()  # 画右眼睛\n",
    "    turtle.seth(180)  # 朝向左\n",
    "    turtle.penup()  # 抬笔\n",
    "    turtle.fd(60)  # 前行60\n",
    "    turtle.pendown()  # 落笔\n",
    "    turtle.seth(90)  # 朝向上\n",
    "    drawEye()  # 画左眼睛\n",
    "    turtle.penup()  # 抬笔\n",
    "    turtle.seth(180)  # 朝向左\n",
    "    turtle.fd(64)  # 前进64\n",
    "    turtle.pendown()  # 落笔\n",
    "    turtle.seth(215)  # 修改朝向\n",
    "    turtle.circle(120, 100)  # 左边那半边脸\n",
    "    turtle.end_fill()  #\n",
    "def drawHead():\n",
    "    \"\"\" 画了一个被切掉下半部分的圆\n",
    "    \"\"\"\n",
    "    turtle.penup()  # 抬笔\n",
    "    turtle.circle(150, 40)  # 画圆, 半径150，圆周角40\n",
    "    turtle.pendown()  # 落笔\n",
    "    turtle.fillcolor(\"#00a0de\")  # 填充色\n",
    "    turtle.begin_fill()  # 开始填充\n",
    "    turtle.circle(150, 280)  # 画圆，半径150, 圆周角280\n",
    "    turtle.end_fill()\n",
    "def drawAll():\n",
    "    drawHead()\n",
    "    drawRedScarf()\n",
    "    drawFace()\n",
    "    drawRedNose()\n",
    "    drawMouse()\n",
    "    beard()\n",
    "    flyTo(0, 0)\n",
    "    turtle.seth(0)\n",
    "    turtle.penup()\n",
    "    turtle.circle(150, 50)\n",
    "    turtle.pendown()\n",
    "    turtle.seth(30)\n",
    "    turtle.fd(40)\n",
    "    turtle.seth(70)\n",
    "    turtle.circle(-30, 270)\n",
    "    turtle.fillcolor(\"#00a0de\")\n",
    "    turtle.begin_fill()\n",
    "    turtle.seth(230)\n",
    "    turtle.fd(80)\n",
    "    turtle.seth(90)\n",
    "    turtle.circle(1000, 1)\n",
    "    turtle.seth(-89)\n",
    "    turtle.circle(-1000, 10)\n",
    "    turtle.seth(180)\n",
    "    turtle.fd(70)\n",
    "    turtle.seth(90)\n",
    "    turtle.circle(30, 180)\n",
    "    turtle.seth(180)\n",
    "    turtle.fd(70)\n",
    "    turtle.seth(100)\n",
    "    turtle.circle(-1000, 9)\n",
    "    turtle.seth(-86)\n",
    "    turtle.circle(1000, 2)\n",
    "    turtle.seth(230)\n",
    "    turtle.fd(40)\n",
    "    turtle.circle(-30, 230)\n",
    "    turtle.seth(45)\n",
    "    turtle.fd(81)\n",
    "    turtle.seth(0)\n",
    "    turtle.fd(203)\n",
    "    turtle.circle(5, 90)\n",
    "    turtle.fd(10)\n",
    "    turtle.circle(5, 90)\n",
    "    turtle.fd(7)\n",
    "    turtle.seth(40)\n",
    "    turtle.circle(150, 10)\n",
    "    turtle.seth(30)\n",
    "    turtle.fd(40)\n",
    "    turtle.end_fill()\n",
    "    # 左手\n",
    "    turtle.seth(70)\n",
    "    turtle.fillcolor(\"#FFFFFF\")\n",
    "    turtle.begin_fill()\n",
    "    turtle.circle(-30)\n",
    "    turtle.end_fill()\n",
    "    # 脚\n",
    "    flyTo(103.74, -182.59)\n",
    "    turtle.seth(0)\n",
    "    turtle.fillcolor(\"#FFFFFF\")\n",
    "    turtle.begin_fill()\n",
    "    turtle.fd(15)\n",
    "    turtle.circle(-15, 180)\n",
    "    turtle.fd(90)\n",
    "    turtle.circle(-15, 180)\n",
    "    turtle.fd(10)\n",
    "    turtle.end_fill()\n",
    "    flyTo(-96.26, -182.59)\n",
    "    turtle.seth(180)\n",
    "    turtle.fillcolor(\"#FFFFFF\")\n",
    "    turtle.begin_fill()\n",
    "    turtle.fd(15)\n",
    "    turtle.circle(15, 180)\n",
    "    turtle.fd(90)\n",
    "    turtle.circle(15, 180)\n",
    "    turtle.fd(10)\n",
    "    turtle.end_fill()\n",
    "    # 右手\n",
    "    flyTo(-133.97, -91.81)\n",
    "    turtle.seth(50)\n",
    "    turtle.fillcolor(\"#FFFFFF\")\n",
    "    turtle.begin_fill()\n",
    "    turtle.circle(30)\n",
    "    turtle.end_fill()\n",
    "    # 口袋\n",
    "    flyTo(-103.42, 15.09)\n",
    "    turtle.seth(0)\n",
    "    turtle.fd(38)\n",
    "    turtle.seth(230)\n",
    "    turtle.begin_fill()\n",
    "    turtle.circle(90, 260)\n",
    "    turtle.end_fill()\n",
    "    flyTo(5, -40)\n",
    "    turtle.seth(0)\n",
    "    turtle.fd(70)\n",
    "    turtle.seth(-90)\n",
    "    turtle.circle(-70, 180)\n",
    "    turtle.seth(0)\n",
    "    turtle.fd(70)\n",
    "    # 铃铛\n",
    "    flyTo(-103.42, 15.09)\n",
    "    turtle.fd(90)\n",
    "    turtle.seth(70)\n",
    "    turtle.fillcolor(\"#ffd200\")\n",
    "    turtle.begin_fill()\n",
    "    turtle.circle(-20)\n",
    "    turtle.end_fill()\n",
    "    turtle.seth(170)\n",
    "    turtle.fillcolor(\"#ffd200\")\n",
    "    turtle.begin_fill()\n",
    "    turtle.circle(-2, 180)\n",
    "    turtle.seth(10)\n",
    "    turtle.circle(-100, 22)\n",
    "    turtle.circle(-2, 180)\n",
    "    turtle.seth(180 - 10)\n",
    "    turtle.circle(100, 22)\n",
    "    turtle.end_fill()\n",
    "    flyTo(-13.42, 15.09)\n",
    "    turtle.seth(250)\n",
    "    turtle.circle(20, 110)\n",
    "    turtle.seth(90)\n",
    "    turtle.fd(15)\n",
    "    turtle.dot(10)\n",
    "    flyTo(0, -150)\n",
    "    drawBlackdrawEye()\n",
    "def main():\n",
    "    turtle.screensize(800, 6000, \"#F0F0F0\")\n",
    "    turtle.pensize(3)\n",
    "    turtle.speed(9)\n",
    "    drawAll()\n",
    "if __name__ == \"__main__\":\n",
    "    main()\n",
    "    turtle.mainloop()\n"
   ]
  },
  {
   "cell_type": "code",
   "execution_count": null,
   "metadata": {},
   "outputs": [],
   "source": [
    "from turtle import * #导入turtle库\n",
    "height=160*3 #设置高\n",
    "width=240*3 #设置长\n",
    "a=pen()\n",
    "penup()\n",
    "goto(-400,400) #我测试了一下，-400，400作为国旗的左上角比较合适\n",
    "pencolor('red')\n",
    "pendown() #下笔\n",
    "def star(angle,long):\n",
    "    pencolor('yellow')\n",
    "    pendown()\n",
    "    setheading(0)\n",
    "    right(angle)\n",
    "    fillcolor('yellow')\n",
    "    begin_fill()\n",
    "    for i in range(5):\n",
    "        forward(long)\n",
    "        right(144)\n",
    "    end_fill()\n",
    " \n",
    "begin_fill()\n",
    "fillcolor('red')\n",
    " \n",
    "for j in range(2):\n",
    "    forward(width)\n",
    "    right(90)\n",
    "    forward(height)\n",
    "    right(90)\n",
    " \n",
    "end_fill()\n",
    " \n",
    "penup()\n",
    "goto(-400+width/30*2,400-height/20*4)\n",
    "star(0,width/30*6)\n",
    " \n",
    "penup()\n",
    "goto(-400+width/30*9,400-height/20*2)\n",
    "star(-45,width/30*2)\n",
    " \n",
    "penup()\n",
    "goto(-400+width/30*11,400-height/20*4)\n",
    "star(-10,width/30*2)\n",
    " \n",
    "penup()\n",
    "goto(-400+width/30*11,400-height/20*7)\n",
    "star(0,width/30*2)\n",
    " \n",
    "penup()\n",
    "goto(-400+width/30*9,400-height/20*10)\n",
    "star(-45,width/30*2)"
   ]
  },
  {
   "cell_type": "markdown",
   "metadata": {},
   "source": [
    "# 3_74"
   ]
  },
  {
   "cell_type": "code",
   "execution_count": 4,
   "metadata": {},
   "outputs": [
    {
     "data": {
      "text/plain": [
       "-2.4492935982947064e-16"
      ]
     },
     "execution_count": 4,
     "metadata": {},
     "output_type": "execute_result"
    }
   ],
   "source": [
    "# 3.8\n",
    "import math\n",
    "math.sin(2*math.pi)"
   ]
  },
  {
   "cell_type": "code",
   "execution_count": 5,
   "metadata": {},
   "outputs": [
    {
     "data": {
      "text/plain": [
       "-3"
      ]
     },
     "execution_count": 5,
     "metadata": {},
     "output_type": "execute_result"
    }
   ],
   "source": [
    "math.floor(-2.5)"
   ]
  },
  {
   "cell_type": "code",
   "execution_count": 6,
   "metadata": {},
   "outputs": [
    {
     "data": {
      "text/plain": [
       "1"
      ]
     },
     "execution_count": 6,
     "metadata": {},
     "output_type": "execute_result"
    }
   ],
   "source": [
    "math.ceil(3.5+math.floor(-2.5))"
   ]
  },
  {
   "cell_type": "code",
   "execution_count": 7,
   "metadata": {},
   "outputs": [
    {
     "data": {
      "text/plain": [
       "2"
      ]
     },
     "execution_count": 7,
     "metadata": {},
     "output_type": "execute_result"
    }
   ],
   "source": [
    "round(math.fabs(-2.5))"
   ]
  },
  {
   "cell_type": "code",
   "execution_count": 8,
   "metadata": {},
   "outputs": [
    {
     "data": {
      "text/plain": [
       "4.0"
      ]
     },
     "execution_count": 8,
     "metadata": {},
     "output_type": "execute_result"
    }
   ],
   "source": [
    "math.sqrt(math.pow(2,4))"
   ]
  },
  {
   "cell_type": "code",
   "execution_count": 9,
   "metadata": {},
   "outputs": [
    {
     "data": {
      "text/plain": [
       "1.0"
      ]
     },
     "execution_count": 9,
     "metadata": {},
     "output_type": "execute_result"
    }
   ],
   "source": [
    "math.log(math.e)"
   ]
  },
  {
   "cell_type": "code",
   "execution_count": 10,
   "metadata": {},
   "outputs": [
    {
     "data": {
      "text/plain": [
       "3"
      ]
     },
     "execution_count": 10,
     "metadata": {},
     "output_type": "execute_result"
    }
   ],
   "source": [
    "math.gcd(12,9)"
   ]
  },
  {
   "cell_type": "code",
   "execution_count": 11,
   "metadata": {},
   "outputs": [
    {
     "data": {
      "text/plain": [
       "1.0"
      ]
     },
     "execution_count": 11,
     "metadata": {},
     "output_type": "execute_result"
    }
   ],
   "source": [
    "math.fmod(36,5)"
   ]
  },
  {
   "cell_type": "code",
   "execution_count": 12,
   "metadata": {},
   "outputs": [
    {
     "name": "stdout",
     "output_type": "stream",
     "text": [
      "0.8203047484373349\n"
     ]
    }
   ],
   "source": [
    "# 3.9\n",
    "ans = math.radians(47)\n",
    "print(ans)"
   ]
  },
  {
   "cell_type": "code",
   "execution_count": 13,
   "metadata": {},
   "outputs": [
    {
     "name": "stdout",
     "output_type": "stream",
     "text": [
      "25.714285714285715\n"
     ]
    }
   ],
   "source": [
    "# 3.10\n",
    "ans = math.degrees(math.pi/7)\n",
    "print(ans)"
   ]
  },
  {
   "cell_type": "code",
   "execution_count": 71,
   "metadata": {},
   "outputs": [
    {
     "name": "stdout",
     "output_type": "stream",
     "text": [
      "0.001\n"
     ]
    }
   ],
   "source": [
    "print(1/1000)"
   ]
  },
  {
   "cell_type": "code",
   "execution_count": 73,
   "metadata": {},
   "outputs": [
    {
     "name": "stdout",
     "output_type": "stream",
     "text": [
      "1.23\n",
      "1.52\n",
      "1.87\n",
      "2.30\n",
      "2.84\n",
      "3.49\n",
      "4.30\n",
      "5.29\n",
      "6.51\n",
      "8.00\n"
     ]
    },
    {
     "data": {
      "text/plain": [
       "'# 3.12\\ndef update_value(N):\\n\\tday = 1.0\\n\\tn = -0.001\\n\\tsum = 0.0\\n\\tfor i in range(365):\\n\\t\\tif i%7 in [1,2,3,4] :\\n\\t\\t\\tn += N\\n\\t\\tday = day*n\\n\\t\\tsum += day\\n\\treturn day\\n\\n\\nfor N in [0.001,0.002,0.003,0.004,0.005,0.006,0.007,0.008,0.009,0.010]:\\n\\tprint(update_value(N))\\n'"
      ]
     },
     "execution_count": 73,
     "metadata": {},
     "output_type": "execute_result"
    }
   ],
   "source": [
    "# 3.12\n",
    "def update_value(N):\n",
    "  dayup = 1.0\n",
    "  for i in range(365):\n",
    "    if i%7 in range(4) :\n",
    "      dayup = dayup*(1+N)\n",
    "  return dayup\n",
    "\n",
    "\n",
    "# for N in [0.001,0.002,0.003,0.004,0.005,0.006,0.007,0.008,0.009,0.010]:\n",
    "for N in range(1,11):\n",
    "  N = N/1000\n",
    "  print(f\"{update_value(N):.2f}\")\n",
    "\n",
    "'''# 3.12\n",
    "def update_value(N):\n",
    "\tday = 1.0\n",
    "\tn = -0.001\n",
    "\tsum = 0.0\n",
    "\tfor i in range(365):\n",
    "\t\tif i%7 in [1,2,3,4] :\n",
    "\t\t\tn += N\n",
    "\t\tday = day*n\n",
    "\t\tsum += day\n",
    "\treturn day\n",
    "\n",
    "\n",
    "for N in [0.001,0.002,0.003,0.004,0.005,0.006,0.007,0.008,0.009,0.010]:\n",
    "\tprint(update_value(N))\n",
    "'''"
   ]
  },
  {
   "cell_type": "code",
   "execution_count": 59,
   "metadata": {},
   "outputs": [
    {
     "name": "stdout",
     "output_type": "stream",
     "text": [
      "1.13\n",
      "1.27\n",
      "1.43\n",
      "1.61\n",
      "1.82\n",
      "2.05\n",
      "2.31\n",
      "2.60\n",
      "2.93\n",
      "3.30\n"
     ]
    }
   ],
   "source": [
    "# 3.15\n",
    "def update(N):\n",
    "  dayup = 1.0\n",
    "  for i in range(360):\n",
    "    if i%30 in range(10) :\n",
    "      dayup = dayup*(1+N)\n",
    "  return dayup\n",
    "\n",
    "for N in [0.001,0.002,0.003,0.004,0.005,0.006,0.007,0.008,0.009,0.010]:\n",
    "\tprint(f\"{update(N):.2f}\")\n"
   ]
  },
  {
   "cell_type": "code",
   "execution_count": 32,
   "metadata": {},
   "outputs": [
    {
     "name": "stdout",
     "output_type": "stream",
     "text": [
      "Starting  0%\n",
      "Starting · 1%\n",
      "Starting ·· 2%\n",
      "Starting ··· 3%\n",
      "Starting ···· 4%\n",
      "Starting ····· 5%\n",
      "Starting ······ 6%\n",
      "Starting ······· 7%\n",
      "Starting ········ 8%\n",
      "Starting ········· 9%\n",
      "Starting ·········· 10%\n",
      "Starting ··········· 11%\n",
      "Starting ············ 12%\n",
      "Starting ············· 13%\n",
      "Starting ·············· 14%\n",
      "Starting ··············· 15%\n",
      "Starting ················ 16%\n",
      "Starting ················· 17%\n",
      "Starting ·················· 18%\n",
      "Starting ··················· 19%\n",
      "Starting ···················· 20%\n",
      "Starting ····················· 21%\n",
      "Starting ······················ 22%\n",
      "Starting ······················· 23%\n",
      "Starting ························ 24%\n",
      "Starting ························· 25%\n",
      "Starting ·························· 26%\n",
      "Starting ··························· 27%\n",
      "Starting ···························· 28%\n",
      "Starting ····························· 29%\n",
      "Starting ······························ 30%\n",
      "Starting ······························· 31%\n",
      "Starting ································ 32%\n",
      "Starting ································· 33%\n",
      "Starting ·································· 34%\n",
      "Starting ··································· 35%\n",
      "Starting ···································· 36%\n",
      "Starting ····································· 37%\n",
      "Starting ······································ 38%\n",
      "Starting ······································· 39%\n",
      "Starting ········································ 40%\n",
      "Starting ········································· 41%\n",
      "Starting ·········································· 42%\n",
      "Starting ··········································· 43%\n",
      "Starting ············································ 44%\n",
      "Starting ············································· 45%\n",
      "Starting ·············································· 46%\n",
      "Starting ··············································· 47%\n",
      "Starting ················································ 48%\n",
      "Starting ················································· 49%\n",
      "Starting ·················································· 50%\n",
      "Starting ··················································· 51%\n",
      "Starting ···················································· 52%\n",
      "Starting ····················································· 53%\n",
      "Starting ······················································ 54%\n",
      "Starting ······················································· 55%\n",
      "Starting ························································ 56%\n",
      "Starting ························································· 57%\n",
      "Starting ·························································· 58%\n",
      "Starting ··························································· 59%\n",
      "Starting ···························································· 60%\n",
      "Starting ····························································· 61%\n",
      "Starting ······························································ 62%\n",
      "Starting ······························································· 63%\n",
      "Starting ································································ 64%\n",
      "Starting ································································· 65%\n",
      "Starting ·································································· 66%\n",
      "Starting ··································································· 67%\n",
      "Starting ···································································· 68%\n",
      "Starting ····································································· 69%\n",
      "Starting ······································································ 70%\n",
      "Starting ······································································· 71%\n",
      "Starting ········································································ 72%\n",
      "Starting ········································································· 73%\n",
      "Starting ·········································································· 74%\n",
      "Starting ··········································································· 75%\n",
      "Starting ············································································ 76%\n",
      "Starting ············································································· 77%\n",
      "Starting ·············································································· 78%\n",
      "Starting ··············································································· 79%\n",
      "Starting ················································································ 80%\n",
      "Starting ················································································· 81%\n",
      "Starting ·················································································· 82%\n",
      "Starting ··················································································· 83%\n",
      "Starting ···················································································· 84%\n",
      "Starting ····················································································· 85%\n",
      "Starting ······················································································ 86%\n",
      "Starting ······················································································· 87%\n",
      "Starting ························································································ 88%\n",
      "Starting ························································································· 89%\n",
      "Starting ·························································································· 90%\n",
      "Starting ··························································································· 91%\n",
      "Starting ···························································································· 92%\n",
      "Starting ····························································································· 93%\n",
      "Starting ······························································································ 94%\n",
      "Starting ······························································································· 95%\n",
      "Starting ································································································ 96%\n",
      "Starting ································································································· 97%\n",
      "Starting ·································································································· 98%\n",
      "Starting ··································································································· 99%\n",
      "Starting ···································································································· Done!\n"
     ]
    }
   ],
   "source": [
    "# p94 3.6\n",
    "'''\n",
    "import time \n",
    "scale = 10\n",
    "print(\"------执行开始------\")\n",
    "for i in range(scale+1):\n",
    "    a,b = '**'*i,'..'*(scale-i)\n",
    "    c = (i/scale)*100\n",
    "    print(\"%{:^3.0f}[{}->{}]\" .format(c,a,b))\n",
    "    time.sleep(0.1)\n",
    "print(\"------执行结束------\")\n",
    "'''\n",
    "import time \n",
    "scale = 100\n",
    "for i in range(scale):\n",
    "    a = '·'*i\n",
    "    print(\"Starting {} {}%\" .format(a,i))\n",
    "    time.sleep(0.01)\n",
    "i+=1\n",
    "a = '·'*i\n",
    "print(\"Starting {} Done!\" .format(a))"
   ]
  },
  {
   "cell_type": "markdown",
   "metadata": {},
   "source": []
  },
  {
   "cell_type": "code",
   "execution_count": 6,
   "metadata": {},
   "outputs": [
    {
     "name": "stdout",
     "output_type": "stream",
     "text": [
      "每天的努力参数是：0.017\n"
     ]
    }
   ],
   "source": [
    "# 如果一年365天，90天是寒暑假，请问假期不学习能力下降0.01，其他学期的日子应该如何努力才能达到跟每天努力都一样的水平？\n",
    "\n",
    "def dayUP(df):\n",
    "\tdayup= 1.0\n",
    "\tfor i in range (365):\n",
    "\t\tif i in range(31,61) or i in range(181,243):\n",
    "\t\t\tdayup= dayup* (1 -0.01)\n",
    "\t\telse:\n",
    "\t\t\tdayup= dayup* (1+ df)\n",
    "\treturn dayup\n",
    "dayfactor= 0.01\n",
    "while dayUP(dayfactor)<37.78:\n",
    "\tdayfactor += 0.001\n",
    "print(\"每天的努力参数是：{:.3f}\".format(dayfactor))"
   ]
  },
  {
   "cell_type": "code",
   "execution_count": null,
   "metadata": {},
   "outputs": [],
   "source": []
  },
  {
   "cell_type": "code",
   "execution_count": 3,
   "metadata": {},
   "outputs": [
    {
     "data": {
      "text/plain": [
       "243"
      ]
     },
     "execution_count": 3,
     "metadata": {},
     "output_type": "execute_result"
    }
   ],
   "source": [
    "31+28+31+30+31+30+31+31"
   ]
  },
  {
   "cell_type": "code",
   "execution_count": 33,
   "metadata": {},
   "outputs": [
    {
     "name": "stdout",
     "output_type": "stream",
     "text": [
      "向上5天向下2天的力量：4.63.\n"
     ]
    }
   ],
   "source": [
    "# p7576 3.4\n",
    "dayup, dayfactor = 1.0, 0.01\n",
    "for i in range(365) :\n",
    "    if i % 7 in [6,0]:\n",
    "        dayup = dayup * (1 - dayfactor)\n",
    "    else:\n",
    "        dayup = dayup * (1 + dayfactor)\n",
    "print(\"向上5天向下2天的力量：{:.2f}.\".format(dayup))\n"
   ]
  },
  {
   "cell_type": "code",
   "execution_count": null,
   "metadata": {},
   "outputs": [],
   "source": [
    "dayup,N = 1.0,0.01\n",
    "for i in range(365):\n",
    "  if \n",
    "  dayup = dayup * (1+0.01)"
   ]
  },
  {
   "cell_type": "code",
   "execution_count": 60,
   "metadata": {},
   "outputs": [
    {
     "name": "stdout",
     "output_type": "stream",
     "text": [
      "在学期日子里，每天的学习强度应该约为: 0.0032727272727272726\n"
     ]
    }
   ],
   "source": [
    "def f(vacation_days, decrease_rate):\n",
    "    study_intensity = (vacation_days * decrease_rate) / (365 - vacation_days)\n",
    "    return study_intensity\n",
    "\n",
    "vacation_days = 90\n",
    "decrease_rate = 0.01\n",
    "\n",
    "study_intensity = f(vacation_days, decrease_rate)\n",
    "print(\"在学期日子里，每天的学习强度应该约为:\", study_intensity)\n"
   ]
  },
  {
   "cell_type": "code",
   "execution_count": 70,
   "metadata": {},
   "outputs": [
    {
     "name": "stdout",
     "output_type": "stream",
     "text": [
      "0.0032727272727272726\n",
      "0.9967272727272728\n",
      "0.32400000000000007\n"
     ]
    }
   ],
   "source": [
    "print(0.01*90/(365-90) )\n",
    "print(((365-90)*1 -90*0.01)/(365-90))\n",
    "print(((365)*1 -90*0.01)/(365-90)-1)"
   ]
  },
  {
   "cell_type": "code",
   "execution_count": 106,
   "metadata": {},
   "outputs": [
    {
     "name": "stdout",
     "output_type": "stream",
     "text": [
      "1.00235246290312\n"
     ]
    }
   ],
   "source": [
    "n = 0.00104\n",
    "# print(1*(1-0.01)*90*n*275)\n",
    "# n = 0.324\n",
    "\n",
    "# print(1*(1-0.01)*90*n*275)\n",
    "day = 1.0\n",
    "for i in range (365):\n",
    "  if i >31 and i <62:\n",
    "    day = day*(1-0.01)\n",
    "  elif i>360 and i<421:\n",
    "    day = day*(1-0.01)\n",
    "  else:\n",
    "    day = day*(1+n)\n",
    "print(day)\n",
    "    "
   ]
  },
  {
   "cell_type": "code",
   "execution_count": 74,
   "metadata": {},
   "outputs": [
    {
     "name": "stdout",
     "output_type": "stream",
     "text": [
      "在其他学期的每天需要提高的学习能力： 0.0032727272727272726\n"
     ]
    }
   ],
   "source": [
    "# 定义变量\n",
    "daily_learning_ability = 1.0\n",
    "holiday_days = 90\n",
    "holiday_learning_decrease = 0.01\n",
    "other_days = 365 - holiday_days\n",
    "other_learning_increase = (holiday_days * holiday_learning_decrease) / other_days\n",
    "\n",
    "print(\"在其他学期的每天需要提高的学习能力：\", other_learning_increase)\n"
   ]
  },
  {
   "cell_type": "code",
   "execution_count": 67,
   "metadata": {},
   "outputs": [
    {
     "name": "stdout",
     "output_type": "stream",
     "text": [
      "每天需要增加的努力为： 0.9967272727272728\n"
     ]
    }
   ],
   "source": [
    "# 定义变量\n",
    "holiday_days = 90\n",
    "semester_days = 365 - holiday_days\n",
    "daily_ability_increase = 1\n",
    "holiday_ability_decrease = 0.01\n",
    "\n",
    "# 计算学期每天需要增加的努力\n",
    "x = (semester_days * daily_ability_increase - holiday_days * holiday_ability_decrease) / semester_days\n",
    "\n",
    "print(\"每天需要增加的努力为：\", x)\n"
   ]
  },
  {
   "cell_type": "markdown",
   "metadata": {},
   "source": [
    "# 4_329"
   ]
  },
  {
   "cell_type": "code",
   "execution_count": 14,
   "metadata": {},
   "outputs": [
    {
     "name": "stdout",
     "output_type": "stream",
     "text": [
      "+ -  -  -  - + -  -  -  - +\n",
      "|            |            |\n",
      "|            |            |\n",
      "|            |            |\n",
      "|            |            |\n",
      "+ -  -  -  - + -  -  -  - +\n",
      "|            |            |\n",
      "|            |            |\n",
      "|            |            |\n",
      "|            |            |\n",
      "+ -  -  -  - + -  -  -  - +\n"
     ]
    }
   ],
   "source": [
    "# 1\n",
    "s = \" - \"*4\n",
    "for i in range(11):\n",
    "  if i%5==0 :\n",
    "    print(\"+\" + s + \"+\" +s+\"+\")\n",
    "  else:\n",
    "    print(\"|\" + \" \"*12 + \"|\"+ \" \"*12 + \"|\")"
   ]
  },
  {
   "cell_type": "code",
   "execution_count": 15,
   "metadata": {},
   "outputs": [
    {
     "name": "stdout",
     "output_type": "stream",
     "text": [
      "+ -  -  -  - + -  -  -  - +\n",
      "|            |            |\n",
      "|            |            |\n",
      "|            |            |\n",
      "|            |            |\n",
      "+ -  -  -  - + -  -  -  - +\n",
      "|            |            |\n",
      "|            |            |\n",
      "|            |            |\n",
      "|            |            |\n",
      "+ -  -  -  - + -  -  -  - +\n"
     ]
    }
   ],
   "source": [
    "# 1 双重循环\n",
    "#  使用双层循环语句控制单个字符打印完成94页田字格的输出\n",
    "for i in range(11):\n",
    "  if i%5==0 :\n",
    "    for j in range(11):\n",
    "      if j%5==0 :\n",
    "        print(\"+\",end ='')\n",
    "      else:\n",
    "        print(\" - \",end ='')\n",
    "  else:\n",
    "    for j in range(11):\n",
    "      if j%5==0 :\n",
    "        print(\"|\",end ='')\n",
    "      else:\n",
    "        print(\"   \",end ='')\n",
    "  print()"
   ]
  },
  {
   "cell_type": "code",
   "execution_count": null,
   "metadata": {},
   "outputs": [],
   "source": [
    "# 2 猜字游戏\n",
    "# 4.4\n",
    "\t\t# 4.1\n",
    "# import random\n",
    "from random import *\n",
    "rand=randint(0,10)\n",
    "guess = int(input())\n",
    "i =1\n",
    "while guess != rand :\n",
    "  i+=1\n",
    "  if rand > guess:\n",
    "    print(\"遗憾，太小了\")\n",
    "  elif rand < guess:\n",
    "    print(\"遗憾，太大了\")\n",
    "  else:\n",
    "    break\n",
    "  guess = int(input())\n",
    "print(\"预测{}次，你猜中了！\".format(i))\n",
    "\n",
    "#4.4\n",
    "\n"
   ]
  },
  {
   "cell_type": "code",
   "execution_count": null,
   "metadata": {},
   "outputs": [],
   "source": [
    "#4.4\n",
    "from random import *\n",
    "from numpy import double\n",
    "r=random()*100\n",
    "guess = double(input())\n",
    "i =1\n",
    "while guess != r :\n",
    "  i+=1\n",
    "  if r > guess:\n",
    "    print(\"遗憾，太小了\")\n",
    "  elif r < guess:\n",
    "    print(\"遗憾，太大了\")\n",
    "  else:\n",
    "    break\n",
    "  guess = double(input())\n",
    "print(\"预测{}次，你猜中了！\".format(i))"
   ]
  },
  {
   "cell_type": "code",
   "execution_count": 54,
   "metadata": {},
   "outputs": [
    {
     "name": "stdout",
     "output_type": "stream",
     "text": [
      "输入内容必须为整数！\n",
      "输入内容必须为整数！\n",
      "输入内容必须为整数！\n",
      "输入内容必须为整数！\n",
      "输入内容必须为整数！\n",
      "输入内容必须为整数！\n",
      "输入内容必须为整数！\n"
     ]
    }
   ],
   "source": [
    "# 4.5\n",
    "from random import *\n",
    "\n",
    "def check_guess(gu):\n",
    "  try:\n",
    "    gu = int(gu)\n",
    "    i =1\n",
    "    while gu != r :\n",
    "      i+=1\n",
    "      if r > gu:\n",
    "        print(\"遗憾，太小了\")\n",
    "      elif r < gu:\n",
    "        print(\"遗憾，太大了\")\n",
    "      else:\n",
    "        break\n",
    "      gu = int(input())\n",
    "    print(\"预测{}次，你猜中了！\".format(i))\n",
    "  except ValueError:\n",
    "    print(\"输入内容必须为整数！\")\n",
    "    check_guess(input(\"请重新输入：\"))\n",
    "    \n",
    "    \n",
    "r=randint(0,9)\n",
    "gu = input()\n",
    "check_guess(gu)\n"
   ]
  },
  {
   "cell_type": "code",
   "execution_count": 37,
   "metadata": {},
   "outputs": [
    {
     "name": "stdout",
     "output_type": "stream",
     "text": [
      "3.75\n",
      "3.140452\n"
     ]
    }
   ],
   "source": [
    "# 3 蒙特卡洛方法计算曲线y=x3在区间(1, 2)内和x轴所围面积\n",
    "from random import *\n",
    "m = 1000000\n",
    "count =0\n",
    "for i in range (1,m+1):\n",
    "  # x,y=random()+1,random()*10-2\n",
    "  x,y = uniform(1,2), uniform(0, 8)\n",
    "  if pow(x,3) >= y:\n",
    "    count+=1\n",
    "print(\"{:.2f}\".format(count/m*8)) #3.75\n",
    "\n",
    "# 4 蒙特卡洛方法计算圆周率\n",
    "from random import *\n",
    "m = 1000000\n",
    "count =0\n",
    "for i in range (1,m+1):\n",
    "  x,y = uniform(-1,1), uniform(-1,1)\n",
    "  if pow(x,2)+pow(y,2) <= 1:\n",
    "    count+=1\n",
    "print(\"{}\".format(count/m*4))\t"
   ]
  },
  {
   "cell_type": "code",
   "execution_count": 31,
   "metadata": {},
   "outputs": [
    {
     "name": "stdout",
     "output_type": "stream",
     "text": [
      "3.757728\n"
     ]
    }
   ],
   "source": [
    "import random\n",
    "m = 1000000 #使用100000个点进行计算\n",
    "n = 0.0 #计数落在圆中的点\n",
    "# random.seed(190)\n",
    "for i in range(1,m+1):\n",
    "    x,y = random.uniform(1,2), random.uniform(0, 8)\n",
    "    # x,y=random.random()+1,random.random()*10-2 \n",
    "    if y <=x*x*x :\n",
    "        n += 1\n",
    "    area = n/m\n",
    "print(\"{}\".format(area*8))"
   ]
  },
  {
   "cell_type": "code",
   "execution_count": 3,
   "metadata": {},
   "outputs": [
    {
     "ename": "TypeError",
     "evalue": "'module' object is not callable",
     "output_type": "error",
     "traceback": [
      "\u001b[0;31m---------------------------------------------------------------------------\u001b[0m",
      "\u001b[0;31mTypeError\u001b[0m                                 Traceback (most recent call last)",
      "Cell \u001b[0;32mIn[3], line 3\u001b[0m\n\u001b[1;32m      1\u001b[0m \u001b[38;5;28;01mimport\u001b[39;00m \u001b[38;5;21;01mrandom\u001b[39;00m\n\u001b[1;32m      2\u001b[0m \u001b[38;5;66;03m# x,y = random.random()+1, random.uniform(1, 8) \u001b[39;00m\n\u001b[0;32m----> 3\u001b[0m x,y\u001b[38;5;241m=\u001b[39mrandom()\u001b[38;5;241m+\u001b[39m\u001b[38;5;241m1\u001b[39m,random()\u001b[38;5;241m*\u001b[39m\u001b[38;5;241m10\u001b[39m\u001b[38;5;241m-\u001b[39m\u001b[38;5;241m2\u001b[39m\n\u001b[1;32m      4\u001b[0m \u001b[38;5;28mprint\u001b[39m(x,y)\n",
      "\u001b[0;31mTypeError\u001b[0m: 'module' object is not callable"
     ]
    }
   ],
   "source": [
    "import random\n",
    "# x,y = random.random()+1, random.uniform(1, 8) \n",
    "x,y=random()+1,random()*10-2\n",
    "print(x,y)"
   ]
  },
  {
   "cell_type": "code",
   "execution_count": 28,
   "metadata": {},
   "outputs": [
    {
     "name": "stdout",
     "output_type": "stream",
     "text": [
      "468431 1000000\n",
      "Iteration 1000000: 468431/1000000 = 0.468431\n",
      "The area of the cube is 3.75\n"
     ]
    }
   ],
   "source": [
    "import random\n",
    "def monte_carlo_area(n):\n",
    "  count = 0\n",
    "  # total = 0\n",
    "  for _ in range(n):\n",
    "    x = random.uniform(1, 2)\n",
    "    y = random.uniform(0, 8)\n",
    "    if y<= x**3:\n",
    "      count += 1\n",
    "    # total += 1\n",
    "  print(count,n)\n",
    "  print(f\"Iteration {n}: {count}/{n} = {count/n}\")\n",
    "  return count/n*(2-1)*8\n",
    "n = 1000000\n",
    "area = monte_carlo_area(n)\n",
    "print(f\"The area of the cube is {area:.2f}\")"
   ]
  },
  {
   "cell_type": "markdown",
   "metadata": {},
   "source": [
    "# 5"
   ]
  },
  {
   "cell_type": "code",
   "execution_count": 4,
   "metadata": {},
   "outputs": [
    {
     "data": {
      "text/plain": [
       "False"
      ]
     },
     "execution_count": 4,
     "metadata": {},
     "output_type": "execute_result"
    }
   ],
   "source": [
    "# 5.1 回文数判定\n",
    "def isPalindrome(s):\n",
    "    return s == s[::-1]\n",
    "  \n",
    "isPalindrome(input(\"Enter a string: \"))\n"
   ]
  },
  {
   "cell_type": "code",
   "execution_count": 8,
   "metadata": {},
   "outputs": [
    {
     "name": "stdout",
     "output_type": "stream",
     "text": [
      "12345\n",
      "0987654321\n",
      "08642\n",
      "0741\n"
     ]
    }
   ],
   "source": [
    "#test\n",
    "s = '1234567890'\n",
    "print(s[0:5])\n",
    "print(s[::-1])\n",
    "print(s[::-2])\n",
    "print(s[::-3])"
   ]
  },
  {
   "cell_type": "code",
   "execution_count": 37,
   "metadata": {},
   "outputs": [
    {
     "name": "stdout",
     "output_type": "stream",
     "text": [
      "0 0 0 0\n"
     ]
    }
   ],
   "source": [
    "# 5.2\t\twrong\n",
    "\n",
    "def Count(str,n1,n2,n3,n4):\n",
    "  if(str == ' '):\n",
    "    n1+=1\n",
    "  elif str in [1,2,3,4,5,6,7,8,9,0]:\n",
    "    n2+=1\n",
    "  elif (str <'z' and str >'a') or (str <'Z' and str >'A') :\n",
    "    n3+=1\n",
    "  else:\n",
    "    n4+=1\n",
    "    \n",
    "\n",
    "n1,n2,n3,n4 = 0,0,0,0\n",
    "str = input()\n",
    "for i in str:\n",
    "  Count(i,n1,n2,n3,n4)\n",
    "print(n1,n2,n3,n4)"
   ]
  },
  {
   "cell_type": "code",
   "execution_count": 8,
   "metadata": {},
   "outputs": [
    {
     "name": "stdout",
     "output_type": "stream",
     "text": [
      "3 2 7 2\n",
      "kgb: 3 ,kbj 2 7 2\n"
     ]
    }
   ],
   "source": [
    "# 5.2\t\tright\n",
    "def Count(str):\n",
    "  n1,n2,n3,n4 = 0,0,0,0\n",
    "  for i in str:\n",
    "    # if(i == ' '):\n",
    "    if(i.isspace()):\n",
    "      n1+=1\n",
    "    # elif i in ['1','2','3','4','5','6','7','8','9','0']:\n",
    "    elif i.isdigit():\n",
    "      n2+=1\n",
    "    elif i.isalpha() :\n",
    "      n3+=1\n",
    "    else:\n",
    "      n4+=1\n",
    "  print(n1,n2,n3,n4)\n",
    "  print(\"kgb:\",n1,\",kbj\",n2,n3,n4)\n",
    "    \n",
    "\n",
    "# str = input()\n",
    "str = ' 0 ii.n9d;sfv '\n",
    "Count(str)\t\t# 3 2 7 2"
   ]
  },
  {
   "cell_type": "code",
   "execution_count": 10,
   "metadata": {},
   "outputs": [
    {
     "data": {
      "text/plain": [
       "False"
      ]
     },
     "execution_count": 10,
     "metadata": {},
     "output_type": "execute_result"
    }
   ],
   "source": [
    "# 5.3\n",
    "def isPrime(n):\n",
    "    if n == 1:\n",
    "        return False\n",
    "    for i in range(2, int(n ** 0.5) + 1):\n",
    "        if n % i == 0:\n",
    "            return False\n",
    "    return True\n",
    "  \n",
    "isPrime(int(input()))"
   ]
  },
  {
   "cell_type": "code",
   "execution_count": 11,
   "metadata": {},
   "outputs": [
    {
     "name": "stdout",
     "output_type": "stream",
     "text": [
      "True\n"
     ]
    }
   ],
   "source": [
    "def isPrime(num):\n",
    "    # 判断输入是否为整数\n",
    "    # if not isinstance(num, int):\n",
    "    #     raise TypeError(\"参数必须为整数\")\n",
    "\n",
    "    # 负数和0、1都不是质数\n",
    "    if num <= 1:\n",
    "        return False\n",
    "\n",
    "    # 判断是否为质数\n",
    "    for i in range(2, int(num ** 0.5) + 1):\n",
    "        if num % i == 0:\n",
    "            return False\n",
    "    return True\n",
    "\n",
    "try:\n",
    "    num = int(input(\"请输入一个整数：\"))\n",
    "    print(isPrime(num))\n",
    "# except ValueError:\n",
    "#     print(\"输入错误，请输入一个整数\")\n",
    "except TypeError as e:\n",
    "    print(e)\n"
   ]
  },
  {
   "cell_type": "code",
   "execution_count": 13,
   "metadata": {},
   "outputs": [
    {
     "name": "stdout",
     "output_type": "stream",
     "text": [
      "4181\n"
     ]
    }
   ],
   "source": [
    "# 5.4\n",
    "def fib(a,b,n):\n",
    "  if(n==1):\n",
    "    return a\n",
    "  elif(n==2):\n",
    "    return b\n",
    "  else:\n",
    "    return fib(b,a+b,n-1)\n",
    "\n",
    "maxs = 0\n",
    "n=1\n",
    "while(maxs<5000):\n",
    "  res = maxs\n",
    "  maxs=max(maxs,fib(1,1,n))\n",
    "  n+=1\n",
    "\n",
    "print(res)"
   ]
  },
  {
   "cell_type": "code",
   "execution_count": 12,
   "metadata": {},
   "outputs": [
    {
     "name": "stdout",
     "output_type": "stream",
     "text": [
      "5000之内最大的斐波那契数是: 4181\n"
     ]
    }
   ],
   "source": [
    "def fib(a, b, n):\n",
    "    if n == 1:\n",
    "        return a\n",
    "    elif n == 2:\n",
    "        return b\n",
    "    else:\n",
    "        return fib(b, a + b, n - 1)\n",
    "\n",
    "def find_largest_fibonacci():\n",
    "    a, b = 1, 1\n",
    "    n = 1\n",
    "    largest_fib = 0\n",
    "    while True:\n",
    "        current_fib = fib(a, b, n)\n",
    "        if current_fib <= 5000:\n",
    "            largest_fib = current_fib\n",
    "            n += 1\n",
    "        else:\n",
    "            break\n",
    "    return largest_fib\n",
    "\n",
    "largest_fib = find_largest_fibonacci()\n",
    "print(\"5000之内最大的斐波那契数是:\", largest_fib)\n"
   ]
  },
  {
   "cell_type": "markdown",
   "metadata": {},
   "source": [
    "# 6"
   ]
  },
  {
   "cell_type": "code",
   "execution_count": 2,
   "metadata": {},
   "outputs": [
    {
     "name": "stdout",
     "output_type": "stream",
     "text": [
      "4.106372549019609   4.0045918367346935\n",
      "52.80\n"
     ]
    }
   ],
   "source": [
    "# 6.1\n",
    "\n",
    "s=[5.0,4.7,3.6,4.7,5.0,4.2,3.5,3.9,5.0,3.2,4.6,4.5,3.5,3.2,4.9,3.3,4.1,4.3,3.2,4.8,4.3,3.5,3.2,3.3,4.1,3.8,4.1,3.6,5.1,4.2,3.6,3.9,4.0,4.5,4.7,3.5,3.8,3.6,4.5,3.2,4.5,3.4,4.5,4.6,4.2,4.2,5.0,3.2,4.0,3.2,4.3,3.0,3.7,4.8,5.0,3.8,4.4,4.7,4.5,3.2,4.1,3.6,4.8,5.0,5.1,4.9,3.9,4.1,4.6,3.0,4.7,4.2,4.6,3.7,5.1,4.5,4.5,4.4,3.3,4.6,3.6,3.7,4.9,3.1,3.0,4.5,4.7,4.0,4.1,5.1,4.7,4.7,4.1,4.2,3.9,4.4,3.9,4.5,3.9,4.8,4.5,3.0,3.3,3.2,3.0,3.5,3.6,4.8,4.6,3.3,4.5,3.7,4.0,3.4,4.8,3.6,4.4,4.4,4.8,5.0,3.2,3.6,4.1,3.3,3.7,3.4,4.1,4.1,3.6,5.1,4.5,3.3,4.6,4.9,4.6,3.8,3.4,4.7,4.7,4.6,4.4,3.0,4.3,4.6,3.8,4.4,3.8,3.0,5.0,3.6,4.7,3.9,4.3,4.4,4.2,4.0,3.8,5.0,4.2,3.4,4.1,4.1,4.0,5.0,4.7,4.8,3.9,4.4,3.5,4.4,3.6,3.2,4.7,3.1,4.4,3.7,3.3,4.5,3.7,4.3,4.7,4.6,5.1,3.2,3.8,3.6,3.7,4.2,4.5,4.5,3.5,3.2,3.8,3.6,3.3,3.7,4.8,3.5,3.1,5.0,4.8,3.6,3.5,3.5,4.1,3.9,4.4,4.1,4.7,3.2,4.3,4.4,3.5,4.5,4.0,3.3,3.3,3.5,4.8,4.6,3.4,4.4,3.4,4.0,3.9,5.1,3.8,3.2,4.9,3.9,4.7,3.1,4.5,3.6,3.2,3.3,4.5,4.4,4.1,3.2,4.7,4.9,3.7,3.7,3.1,3.9,4.5,3.1,3.8,4.5,5.0,5.0,5.0,4.0,5.0,4.9,3.8,4.2,3.4,4.9,4.3,4.0,4.2,3.2,4.2,3.1,4.2,4.0,4.6,4.9,4.7,3.3,3.4,3.8,3.7,4.4,3.4,3.2,4.5,3.8,4.8,4.1,4.1,4.7,3.4,3.7,4.6,4.3,3.3,3.0,4.8,3.7,3.0,4.7,3.4,3.4,3.9,3.6,3.4,4.2,3.7,4.7,3.3,5.0,3.3,4.0,3.1,3.2,4.5,4.1,3.9,3.1,3.2,4.9,3.5,3.8,4.5,3.5,4.2,4.5,3.5,4.7,3.3,4.7,4.3,4.9,4.5,4.5,3.6,4.8,3.8,4.5,3.1,3.5,4.6,4.5,3.9,3.5,5.0,4.1,4.6,4.8,4.8,4.4,3.8,4.5,3.2,3.6,3.4,5.0,4.4,3.7,3.6,3.2,4.5,3.0,3.9,3.6,4.6,4.4,4.4,3.4,3.8,4.4,4.4,3.5,4.9,4.2,4.6,3.4,4.9,3.9,5.1,4.2,4.8,3.1,3.9,4.7,4.8,4.1,3.8,3.4,4.5,4.5,3.1,3.2,3.3,4.0,4.5,3.8,4.5,3.8,4.2,4.4,3.5,4.5,3.3,4.9,3.2,3.0]\n",
    "t=[0,1,1,1,0,0,1,0,1,0,0,1,1,0,1,1,1,1,1,0,1,0,1,1,0,1,0,0,0,1,0,0,0,0,0,0,0,0,0,0,0,0,0,0,0,1,1,0,0,0,1,0,0,1,0,0,0,1,1,1,0,1,1,0,1,0,1,0,1,0,1,0,0,1,1,0,1,0,1,1,0,1,0,0,1,0,0,0,0,0,1,1,0,0,1,1,1,1,0,1,0,0,0,1,1,1,1,0,1,0,1,1,0,1,0,0,0,1,0,0,1,1,0,0,0,1,1,1,0,0,0,0,0,0,1,0,1,0,1,1,0,0,0,1,0,1,0,1,0,0,1,0,1,1,1,0,1,0,0,0,0,1,0,0,1,0,1,0,1,1,1,1,1,1,0,1,1,0,1,1,1,0,0,1,1,0,0,1,0,1,0,1,1,1,0,1,1,0,0,0,1,0,1,1,1,1,0,0,0,1,1,0,0,1,1,0,1,1,0,0,0,1,1,1,0,0,1,1,1,0,0,0,0,1,1,0,1,0,0,0,1,0,0,0,1,1,1,1,0,0,0,0,1,1,1,0,1,0,1,0,1,0,0,1,0,0,0,0,1,0,0,1,1,0,1,0,1,1,1,1,0,1,0,1,1,1,0,1,0,0,0,1,1,0,1,0,1,1,0,1,1,1,0,1,0,1,1,0,0,1,0,1,0,0,1,1,1,1,0,0,1,0,0,0,1,0,0,1,0,1,1,1,0,1,1,1,1,0,0,1,1,1,1,1,1,1,1,0,1,1,0,0,0,1,1,1,1,1,1,0,1,0,0,0,1,0,0,1,1,0,0,0,0,0,0,1,0,0,1,0,1,0,0,1,1,0,0,0,1,1,0,1,0,0,0,0,0,1,1,1]\n",
    "\n",
    "sum0,sum1,n0,n1 =0,0,0,0\n",
    "for i in range(len(s)):\n",
    "  if(t[i] == 0):\n",
    "    sum0 += s[i]\n",
    "    n0 += 1\n",
    "  else:\n",
    "    sum1 += s[i]\n",
    "    n1 += 1\n",
    "\n",
    "print(sum0/n0,' ',sum1/n1)\n",
    "print('{:.2f}'.format(abs(sum0-sum1)))\n"
   ]
  },
  {
   "cell_type": "code",
   "execution_count": 10,
   "metadata": {},
   "outputs": [
    {
     "name": "stdout",
     "output_type": "stream",
     "text": [
      "[0, 2, 0]\n"
     ]
    }
   ],
   "source": [
    "# 6.2\t\n",
    "def isf(n,i):\n",
    "  if n%i==0:\n",
    "    return True\n",
    "  else:\n",
    "    return False\n",
    "\n",
    "m=0\n",
    "n = int(input())\n",
    "a = [0]*n\n",
    "for i in range(2,n):\n",
    "  j=2\n",
    "  for j in range(2,i):\n",
    "    if isf(n,i):\n",
    "      break\n",
    "  if(j==i):\n",
    "    m+=1\n",
    "    a[m] = i\n",
    "print(a)"
   ]
  },
  {
   "cell_type": "code",
   "execution_count": 6,
   "metadata": {},
   "outputs": [
    {
     "name": "stdout",
     "output_type": "stream",
     "text": [
      "[True, True, True, True, True, True, True, True, True]\n",
      "[False, False, True, True, True, True, True, True, True]\n",
      "2到8范围内的全部素数为：\n",
      "[2, 3, 5, 7]\n"
     ]
    }
   ],
   "source": [
    "def sieve_of_eratosthenes(n):\n",
    "    # 初始化一个布尔列表，用于标记是否为素数，默认都是素数\n",
    "    is_prime = [True] * (n+1)\n",
    "    print(is_prime)\n",
    "    is_prime[0] = is_prime[1] = False  # 0和1不是素数\n",
    "    print(is_prime)\n",
    "\n",
    "    # 筛选法，从2开始遍历到根号n\n",
    "    for i in range(2, int(n**0.5) + 1):\n",
    "        if is_prime[i]:\n",
    "            # 将i的倍数标记为非素数\n",
    "            for j in range(i*i, n+1, i):\n",
    "                is_prime[j] = False\n",
    "\n",
    "    # 输出素数\n",
    "    primes = [i for i in range(2, n+1) if is_prime[i]]\n",
    "    return primes\n",
    "\n",
    "# 从键盘输入一个整数n\n",
    "n = int(input(\"请输入一个整数n: \"))\n",
    "\n",
    "# 调用筛选法求素数\n",
    "primes = sieve_of_eratosthenes(n)\n",
    "\n",
    "# 打印素数\n",
    "print(\"2到{}范围内的全部素数为：\".format(n))\n",
    "print(primes)\n"
   ]
  },
  {
   "cell_type": "code",
   "execution_count": 24,
   "metadata": {},
   "outputs": [
    {
     "name": "stdout",
     "output_type": "stream",
     "text": [
      "True\n"
     ]
    }
   ],
   "source": [
    "# 6.3\n",
    "import random\n",
    "\n",
    "def solve(a):\n",
    "  b = set(a)\n",
    "  c = list(b)\n",
    "  for i in a:\n",
    "    if(i in a and i in b):\n",
    "      return True\n",
    "  return False\n",
    "\n",
    "n =\trandint(2,100)\n",
    "a = [1,2,3,1,3,1,9]\n",
    "print(solve(a))\n"
   ]
  },
  {
   "cell_type": "code",
   "execution_count": null,
   "metadata": {},
   "outputs": [],
   "source": [
    "def has_duplicates(lst):\n",
    "    # 将列表转换为集合，利用集合的无重复性\n",
    "    unique_set = set(lst)\n",
    "    # 如果集合的长度小于列表的长度，说明有重复元素\n",
    "    return len(unique_set) < len(lst)\n",
    "\n",
    "# 测试函数\n",
    "def test_has_duplicates():\n",
    "    # 测试用例\n",
    "    test_cases = [\n",
    "        [1, 2, 3, 4, 5],\n",
    "        [1, 2, 3, 4, 5, 1],\n",
    "        [1, 2, 3, 4, 5, 5],\n",
    "        [1, 2, 3, 4, 4, 5, 5],\n",
    "        [],\n",
    "        [1],\n",
    "        [1, 1],\n",
    "        [1, 2, 3, 'a', 'b', 'a']\n",
    "    ]\n",
    "\n",
    "    # 执行测试\n",
    "    for lst in test_cases:\n",
    "        print(f\"List: {lst}, Has Duplicates: {has_duplicates(lst)}\")\n",
    "\n",
    "# 调用测试函数\n",
    "test_has_duplicates()\n"
   ]
  },
  {
   "cell_type": "code",
   "execution_count": 14,
   "metadata": {},
   "outputs": [
    {
     "data": {
      "text/plain": [
       "True"
      ]
     },
     "execution_count": 14,
     "metadata": {},
     "output_type": "execute_result"
    }
   ],
   "source": [
    "def check_list(lst):\n",
    "    lstx = list(set(lst))\n",
    "    return len(lst) > len(lstx)\n",
    "    # if len(lst) > len(lstx):\n",
    "    #     return True\n",
    "    # else:\n",
    "    #     return False\n",
    "# a = [1,1,2,3]\n",
    "l = list(map(int,input().split(\",\")))\n",
    "check_list(l)\n"
   ]
  },
  {
   "cell_type": "code",
   "execution_count": 25,
   "metadata": {},
   "outputs": [
    {
     "name": "stdout",
     "output_type": "stream",
     "text": [
      "40.00%\n",
      "51.00%\n",
      "49.40%\n",
      "51.07%\n"
     ]
    }
   ],
   "source": [
    "# 生日悖论分析。如果一个房间内有23人或以上，那么至少有两个人生日相同概率大于50%\n",
    "# 编写程序，输出随机样本为10^n时（n=1, 2, 3, 4），23人中至少两人生日相同的概率\n",
    "\n",
    "import random\n",
    "def p(num):\n",
    "    flag=0\n",
    "    for i in range(num):\n",
    "        ls=[]\n",
    "        for i in range(23):\n",
    "            birthday=random.choice(range(365))\n",
    "            ls.append(birthday)#列表储存生日信息\n",
    "        count=set(ls)#利用set函数生成一个集合\n",
    "        if len(count)!=len(ls):#利用集合里无重复元素性质，若两长度不等，说明列表含相同元素，即有人生日相同\n",
    "            flag+=1\n",
    "    return flag/num\n",
    "  \n",
    "for i in[10,100,1000,10000]:\n",
    "    # print(\"23个人当中至少有两人生日相同的概率为：{:.2f}%\".format(miss(i)*100))\n",
    "    print(\"{:.2f}%\".format(p(i)*100))"
   ]
  },
  {
   "cell_type": "code",
   "execution_count": 34,
   "metadata": {},
   "outputs": [
    {
     "name": "stdout",
     "output_type": "stream",
     "text": [
      "For 10 samples, probability of at least two sharing a birthday: 20.00%\n",
      "For 100 samples, probability of at least two sharing a birthday: 48.00%\n",
      "For 1000 samples, probability of at least two sharing a birthday: 52.20%\n",
      "For 10000 samples, probability of at least two sharing a birthday: 51.27%\n"
     ]
    }
   ],
   "source": [
    "import random\n",
    "\n",
    "# def has_shared_birthday(num_people):\n",
    "#     birthdays = [random.randint(1, 365) for _ in range(num_people)]\n",
    "#     return len(birthdays) != len(set(birthdays))\n",
    "\n",
    "def calculate_probability(n):\n",
    "    num_successes = 0\n",
    "    for _ in range(n):\n",
    "      # birthdays = [random.randint(0,365) for _ in range(23)]\n",
    "      birthdays = [random.choice(range(365)) for _ in range(23)]\n",
    "      if len(birthdays) != len(set(birthdays)):\n",
    "        num_successes += 1\n",
    "    return num_successes / n\n",
    "\n",
    "\n",
    "for i in [10,100,1000,10000]:\n",
    "    probability = calculate_probability(i)\n",
    "    print(f\"For {i} samples, probability of at least two sharing a birthday: {probability*100:.2f}%\")\n"
   ]
  },
  {
   "cell_type": "code",
   "execution_count": 23,
   "metadata": {},
   "outputs": [
    {
     "name": "stdout",
     "output_type": "stream",
     "text": [
      "[10, 100, 1000, 10000]\n",
      "10人中至少两人生日相同的概率: 11.42%\n",
      "100人中至少两人生日相同的概率: 100.00%\n",
      "1000人中至少两人生日相同的概率: 100.00%\n",
      "10000人中至少两人生日相同的概率: 100.00%\n"
     ]
    }
   ],
   "source": [
    "import random\n",
    "\n",
    "def has_duplicate_birthdays(n):\n",
    "    # 生成n个人的随机生日列表\n",
    "    birthdays = [random.randint(1, 365) for _ in range(n)]\n",
    "    # print(birthdays)\n",
    "    # 判断列表中是否有重复的生日\n",
    "    return len(birthdays) != len(set(birthdays))\n",
    "\n",
    "def birthday_paradox_probability(num_samples, n):\n",
    "    # 统计出现至少一次生日相同的样本数量\n",
    "    count = sum(1 for _ in range(num_samples) if has_duplicate_birthdays(n))\n",
    "    # 计算概率\n",
    "    probability = count / num_samples\n",
    "    return probability\n",
    "\n",
    "# 每个样本的大小\n",
    "sample_sizes = [23 * n for n in range(1, 5)]\n",
    "print(sample_sizes)\n",
    "# 重复随机实验的次数\n",
    "num_samples = 10000\n",
    "\n",
    "# 计算并输出概率\n",
    "for n in sample_sizes:\n",
    "    probability = birthday_paradox_probability(num_samples, n)\n",
    "    print(f\"{n}人中至少两人生日相同的概率: {probability:.2%}\")\n"
   ]
  },
  {
   "cell_type": "code",
   "execution_count": 33,
   "metadata": {},
   "outputs": [
    {
     "name": "stdout",
     "output_type": "stream",
     "text": [
      "随机样本为10时，23人中至少两人生日相同的概率: 51.40%\n",
      "随机样本为100时，23人中至少两人生日相同的概率: 50.69%\n",
      "随机样本为1000时，23人中至少两人生日相同的概率: 51.50%\n",
      "随机样本为10000时，23人中至少两人生日相同的概率: 50.36%\n"
     ]
    }
   ],
   "source": [
    "import random\n",
    "\n",
    "def has_duplicate_birthdays(n):\n",
    "    # 生成n个人的随机生日列表\n",
    "    birthdays = [random.randint(1, 365) for _ in range(n)]\n",
    "    # 判断列表中是否有重复的生日\n",
    "    return len(birthdays) != len(set(birthdays))\n",
    "\n",
    "def birthday_paradox_probability(num_samples, n):\n",
    "    # 统计出现至少一次生日相同的样本数量\n",
    "    count = sum(1 for _ in range(num_samples) if has_duplicate_birthdays(23))\n",
    "    # 计算概率\n",
    "    probability = count / num_samples\n",
    "    return probability\n",
    "\n",
    "# 重复随机实验的次数\n",
    "num_samples = 10000\n",
    "\n",
    "# 计算并输出概率\n",
    "for n in range(1, 5):\n",
    "    sample_size = 10 ** n\n",
    "    probability = birthday_paradox_probability(num_samples, sample_size)\n",
    "    print(f\"随机样本为{sample_size}时，23人中至少两人生日相同的概率: {probability:.2%}\")\n"
   ]
  },
  {
   "cell_type": "code",
   "execution_count": 1,
   "metadata": {},
   "outputs": [
    {
     "name": "stdout",
     "output_type": "stream",
     "text": [
      "n= 10 概率= 0.1167\n",
      "n= 11 概率= 0.1497\n",
      "n= 12 概率= 0.1645\n",
      "n= 13 概率= 0.1877\n",
      "n= 14 概率= 0.2241\n",
      "n= 15 概率= 0.2514\n",
      "n= 16 概率= 0.2765\n",
      "n= 17 概率= 0.3177\n",
      "n= 18 概率= 0.3468\n",
      "n= 19 概率= 0.3767\n",
      "n= 20 概率= 0.4153\n",
      "n= 21 概率= 0.4484\n",
      "n= 22 概率= 0.4768\n",
      "n= 23 概率= 0.5009\n",
      "n= 24 概率= 0.5441\n",
      "n= 25 概率= 0.5707\n",
      "n= 26 概率= 0.6047\n",
      "n= 27 概率= 0.6221\n",
      "n= 28 概率= 0.6473\n",
      "n= 29 概率= 0.6811\n",
      "n= 30 概率= 0.7054\n",
      "n= 31 概率= 0.7215\n",
      "n= 32 概率= 0.7546\n",
      "n= 33 概率= 0.7798\n",
      "n= 34 概率= 0.7999\n",
      "n= 35 概率= 0.8141\n",
      "n= 36 概率= 0.8331\n",
      "n= 37 概率= 0.8485\n",
      "n= 38 概率= 0.8637\n",
      "n= 39 概率= 0.8778\n",
      "n= 40 概率= 0.8892\n",
      "n= 41 概率= 0.9053\n",
      "n= 42 概率= 0.9171\n",
      "n= 43 概率= 0.923\n",
      "n= 44 概率= 0.9344\n",
      "n= 45 概率= 0.9434\n",
      "n= 46 概率= 0.9521\n",
      "n= 47 概率= 0.9567\n",
      "n= 48 概率= 0.9606\n",
      "n= 49 概率= 0.9633\n",
      "n= 50 概率= 0.971\n"
     ]
    },
    {
     "data": {
      "image/png": "[encoded data removed]",
      "text/plain": [
       "<Figure size 640x480 with 1 Axes>"
      ]
     },
     "metadata": {},
     "output_type": "display_data"
    }
   ],
   "source": [
    "import random\n",
    "import numpy as np\n",
    "import matplotlib.pyplot as plt\n",
    "\n",
    "#检测birthday中是否有同一天的生日\n",
    "def same(bir):\n",
    "    for i in bir:\n",
    "        num=0\n",
    "        for j in bir:\n",
    "            if i==j:\n",
    "                num=num+1\n",
    "        if num > 1:\n",
    "            return 1\n",
    "    return 0\n",
    "\n",
    "x=np.linspace(10,50,41)\n",
    "y=[]\n",
    "for i in range(10,51):\n",
    "    count=0\n",
    "    for j in range(10000):\n",
    "        birthday = []\n",
    "        for z in range(i):\n",
    "            #产生随机数\n",
    "            n = random.randint(1, 365)\n",
    "            birthday.append(n)\n",
    "        if same(birthday)==1:\n",
    "            #计数\n",
    "            count += 1\n",
    "    #得到概率\n",
    "    bit=count/10000\n",
    "    y.append(bit)\n",
    "    print(\"n=\",i,\"概率=\",bit)\n",
    "#绘图\n",
    "plt.plot(x,y)\n",
    "plt.show()\n"
   ]
  },
  {
   "cell_type": "markdown",
   "metadata": {},
   "source": [
    "# 7"
   ]
  },
  {
   "cell_type": "code",
   "execution_count": null,
   "metadata": {},
   "outputs": [],
   "source": [
    "excludes = {\"the\",\"and\",\"of\",\"you\",\"a\",\"i\",\"my\",\"in\"}\n",
    "\n",
    "def  getText():\n",
    "  txt = open(\"hamlet.txt\",\"r\").read()\n",
    "  txt = txt.lower()\n",
    "  for ch in '!\"#$%&()*+,-./:;<=>?@[\\\\]^_`{|}~':\n",
    "    txt = txt.replace(ch,\" \")\n",
    "    return txt\n",
    "\n",
    "halmetTxt = getText()\n",
    "words = halmetTxt.split()\n",
    "counts = {}\n",
    "for word in words:\n",
    "  counts[word] = counts.get(word,0) + 1\n",
    "  \n",
    "for word in excludes:\n",
    "  del(counts[word])\n",
    "  \n",
    "items = list(counts.items())\n",
    "items.sort(key=lambda x: x[1], reverse=True)\n",
    "for i in range(10):\n",
    "  word, count = items[i]\n",
    "  print(\"{0:<10} {1:>5}\".format(word, count))"
   ]
  },
  {
   "cell_type": "code",
   "execution_count": null,
   "metadata": {},
   "outputs": [],
   "source": [
    "import jieba\n",
    "excludes = {\"将军\",\"却说\",\"荆州\",\"二人\",\"不可\",\"不能\",\"如此\"}\n",
    "txt = open(\"三国演义.txt\",\"r\",encoding = \"utf-8\")\n",
    "words = jieba.lcut(txt)\n",
    "counts = {}\n",
    "for word in words:\n",
    "  if len(word) == 1:\n",
    "    continue\n",
    "  elif word ==\"诸葛亮\" or word ==\"孔明曰\":\n",
    "    rword = \"孔明\"\n",
    "  elif word ==\"关公\" or word ==\"云长\":\n",
    "    rword = \"关羽\"\n",
    "  elif word ==\"玄德\" or word ==\"玄德曰\":\n",
    "    rword = \"刘备\"\n",
    "  elif word ==\"孟德\" or word ==\"丞相\":\n",
    "    rword = \"曹操\"\n",
    "  else:\n",
    "    rword = word\n",
    "  counts[word] = counts.get(word,0) +1\n",
    "for word in excludes:\n",
    "  del(counts[word])\n",
    "items = list(counts.items())\n",
    "items.sort(key = lambda x:x[1],reverese = True)\n",
    "for i in range(15):\n",
    "  word, count = items[i]\n",
    "  print(\"{0:<10}{1:>5}\".format(word, count))"
   ]
  },
  {
   "cell_type": "code",
   "execution_count": null,
   "metadata": {},
   "outputs": [],
   "source": [
    "import random\n",
    "ls = [chr(ord(\"A\")+i) for i in range(26)] + [chr(ord(\"0\")+i) for i in range(10)] + [chr(ord(\"a\")+i) for i in range(26)]\n",
    "lt = []\n",
    "for i in range(10):\n",
    "  s = \"\"\n",
    "  for j in range(8):\n",
    "    s += ls[random.randint(0,26*2+10)]\n",
    "  lt.append(s)\n",
    "\n",
    "print(lt)"
   ]
  },
  {
   "cell_type": "code",
   "execution_count": 9,
   "metadata": {},
   "outputs": [
    {
     "name": "stdout",
     "output_type": "stream",
     "text": [
      "MGlVIsap\n",
      "3bx7WrpN\n",
      "OMUHF9pb\n",
      "vA44nHhf\n",
      "xsBGQiAj\n",
      "mBOOCJuA\n",
      "N2KXzzvC\n",
      "cVMogR7w\n",
      "dkfupRrA\n",
      "gw3VdjfN\n"
     ]
    }
   ],
   "source": [
    "import random\n",
    "\n",
    "# 定义包含26个大小写字母和9个数字的列表\n",
    "characters = [chr(i) for i in range(65, 91)] + [chr(i) for i in range(97, 123)] + [str(i) for i in range(10)]\n",
    "for _ in range(10):\n",
    "    password = ''.join(random.choices(characters, k=8))\n",
    "    print(password)\n"
   ]
  },
  {
   "cell_type": "code",
   "execution_count": 4,
   "metadata": {},
   "outputs": [
    {
     "name": "stdout",
     "output_type": "stream",
     "text": [
      "字符频率分析结果:\n"
     ]
    }
   ],
   "source": [
    "from collections import Counter\n",
    "import string\n",
    "\n",
    "def character_frequency(text):\n",
    "    # 移除标点符号\n",
    "    text = text.translate(str.maketrans('', '', string.punctuation))\n",
    "\n",
    "    # 移除空格\n",
    "    text = text.replace(' ', '')\n",
    "\n",
    "    # 统计每个字符的出现次数\n",
    "    freq = Counter(text)\n",
    "\n",
    "    # 按字符频率降序排序\n",
    "    freq = sorted(freq.items(), key=lambda x: x[1], reverse=True)\n",
    "\n",
    "    # 打印字符及其频率\n",
    "    for char, frequency in freq:\n",
    "        print(f\"{char}: {frequency}\")\n",
    "\n",
    "# 输入文本\n",
    "text = input(\"请输入文本: \")\n",
    "\n",
    "# 调用函数进行字符频率分析\n",
    "print(\"字符频率分析结果:\")\n",
    "character_frequency(text)\n"
   ]
  },
  {
   "cell_type": "code",
   "execution_count": null,
   "metadata": {},
   "outputs": [],
   "source": [
    "import jieba\n",
    "excludes = {\"大人\",\"却说\"}\n",
    "txt = open(\"红楼梦.txt\",\"r\",encoding = \"utf-8\")\n",
    "words = jieba.lcut(txt)\n",
    "counts = {}\n",
    "for word in words:\n",
    "  if len(word) == 1:\n",
    "    continue\n",
    "  elif word ==\"颦颦\" or word ==\"颦儿\" or word ==\"林姑娘\"or word ==\"林妹妹\"or word ==\"潇湘妃子\":\n",
    "    rword = \"林黛玉\"\n",
    "  elif word ==\"蘅芜君\" or word ==\"宝姐姐\" or word ==\"宝丫头\" or word ==\"宝姑娘\":\n",
    "    rword = \"薛宝钗\"\n",
    "  else:\n",
    "    rword = word\n",
    "  counts[word] = counts.get(word,0) +1\n",
    "for word in excludes:\n",
    "  del(counts[word])\n",
    "items = list(counts.items())\n",
    "items.sort(key = lambda x:x[1],reverese = True)\n",
    "for i in range(15):\n",
    "  word, count = items[i]\n",
    "  print(\"{0:<10}{1:>5}\".format(word, count))\n",
    "        "
   ]
  },
  {
   "cell_type": "markdown",
   "metadata": {},
   "source": [
    "# 8"
   ]
  },
  {
   "cell_type": "code",
   "execution_count": 5,
   "metadata": {},
   "outputs": [],
   "source": [
    "import keyword\n",
    "\n",
    "# 读取源文件\n",
    "with open(\"test1.py\", \"r\") as file:\n",
    "    lines = file.readlines()\n",
    "\n",
    "# 处理每一行，将非保留字的小写字母转换为大写字母\n",
    "new_lines = []\n",
    "for line in lines:\n",
    "    words = line.split()\n",
    "    new_words = []\n",
    "    for word in words:\n",
    "        if not keyword.iskeyword(word):\n",
    "            new_word = word.upper()\n",
    "        else:\n",
    "            new_word = word\n",
    "        new_words.append(new_word)\n",
    "    new_line = \" \".join(new_words)\n",
    "    new_lines.append(new_line)\n",
    "\n",
    "# 将修改后的内容写入新的源文件\n",
    "with open(\"modified_source.py\", \"w\") as file:\n",
    "    file.writelines(new_lines)\n"
   ]
  },
  {
   "cell_type": "code",
   "execution_count": 7,
   "metadata": {},
   "outputs": [
    {
     "name": "stdout",
     "output_type": "stream",
     "text": [
      "82.28712212515977\n"
     ]
    }
   ],
   "source": [
    "str = \"123456789\"\n",
    "s =0\n",
    "for i in range(8):\n",
    "  s += int(str[:i+2]) / int(str[:i+1])\n",
    "print(s)"
   ]
  },
  {
   "cell_type": "code",
   "execution_count": null,
   "metadata": {},
   "outputs": [],
   "source": [
    "import jieba\n",
    "with open('A.txt', 'r', encoding='utf-8 ') as file:\n",
    "    content = file.read()\n",
    "words = jieba.lcut(content)\n",
    "filtered_words = [word for word in words if len(word) > 2]\n",
    "\n",
    "word_counts = {}\n",
    "for word in filtered_words:\n",
    "    if word in word_counts:\n",
    "        word_counts[word] += 1\n",
    "    else:\n",
    "        word_counts[word] = 1\n",
    "\n",
    "with open('B.txt', 'w', encoding='utf-8') as file:\n",
    "    for word, count in word_counts.items():\n",
    "        file.write(f'{word}: {count}\\n')\n",
    "        # file.write(\"{}: {}\\n\".format(word, count))\n"
   ]
  },
  {
   "cell_type": "code",
   "execution_count": 4,
   "metadata": {},
   "outputs": [
    {
     "name": "stdout",
     "output_type": "stream",
     "text": [
      "中国是一个伟大的国家！\n",
      "\n",
      "['中国是一个伟大的国家！\\n', '中国是一个伟大的国家！']\n"
     ]
    }
   ],
   "source": [
    "# test\n",
    "t = open(\"demo.txt\",'rt')\n",
    "print(t.readline())\n",
    "print(t.readlines())\n",
    "t.close()"
   ]
  },
  {
   "cell_type": "code",
   "execution_count": 5,
   "metadata": {},
   "outputs": [
    {
     "name": "stdout",
     "output_type": "stream",
     "text": [
      "20\n"
     ]
    }
   ],
   "source": [
    "def count(m):\n",
    "    n = 0\n",
    "    for i in range(1, 101):\n",
    "        n += str(i).count(str(m))\n",
    "    return n\n",
    "print(count(3))"
   ]
  }
 ],
 "metadata": {
  "kernelspec": {
   "display_name": "Python 3",
   "language": "python",
   "name": "python3"
  },
  "language_info": {
   "codemirror_mode": {
    "name": "ipython",
    "version": 3
   },
   "file_extension": ".py",
   "mimetype": "text/x-python",
   "name": "python",
   "nbconvert_exporter": "python",
   "pygments_lexer": "ipython3",
   "version": "3.11.5"
  }
 },
 "nbformat": 4,
 "nbformat_minor": 2
}
