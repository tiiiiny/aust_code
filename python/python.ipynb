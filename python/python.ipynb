{
 "cells": [
  {
   "cell_type": "markdown",
   "metadata": {},
   "source": [
    "# 切片\n",
    "\n",
    "切片操作符 [] 可以用来从序列中取出一部分元素，语法格式如下：\n",
    "sequence[start:end:step]\n",
    "其中，start、end、step 都是可选参数，默认值分别为 0、序列长度、1。\n",
    "\n",
    "1. 取出序列的前 5 个元素\n",
    "\n",
    "numbers = [1, 2, 3, 4, 5, 6, 7, 8, 9]\n",
    "print(numbers[:5])  # [1, 2, 3, 4, 5]\n",
    "\n",
    "2. 取出序列的第 2 到 5 个元素\n",
    "\n",
    "print(numbers[1:5])  # [2, 3, 4, 5]\n",
    "\n",
    "3. 取出序列的第 2 到 8 步长为 2 的元素\n",
    "\n",
    "print(numbers[1:8:2])  # [2, 4, 6, 8]\n",
    "\n",
    "4. 取出序列的最后 3 个元素\n",
    "\n",
    "print(numbers[-3:])  # [7, 8, 9]\n",
    "\n",
    "5. 取出序列的倒数第 2 个元素\n",
    "\n",
    "print(numbers[-2])  # 8\n",
    "\n",
    "6. 取出序列的倒数第 2 到倒数第 5 个元素\n",
    "\n",
    "print(numbers[-2:-5:-1])  # [8, 7, 6]"
   ]
  },
  {
   "cell_type": "code",
   "execution_count": 1,
   "metadata": {},
   "outputs": [
    {
     "data": {
      "text/plain": [
       "'a,'"
      ]
     },
     "execution_count": 1,
     "metadata": {},
     "output_type": "execute_result"
    }
   ],
   "source": [
    "a = \"1a,2b,3c,4d,5e\"\n",
    "a[1:3]"
   ]
  },
  {
   "cell_type": "code",
   "execution_count": 2,
   "metadata": {},
   "outputs": [
    {
     "data": {
      "text/plain": [
       "'1a,2b,3c,4d,5e'"
      ]
     },
     "execution_count": 2,
     "metadata": {},
     "output_type": "execute_result"
    }
   ],
   "source": [
    "a[:]"
   ]
  },
  {
   "cell_type": "code",
   "execution_count": 7,
   "metadata": {},
   "outputs": [
    {
     "data": {
      "text/plain": [
       "'1a,2b,3c,4d,5e'"
      ]
     },
     "execution_count": 7,
     "metadata": {},
     "output_type": "execute_result"
    }
   ],
   "source": [
    "a[::]"
   ]
  },
  {
   "cell_type": "code",
   "execution_count": 5,
   "metadata": {},
   "outputs": [
    {
     "data": {
      "text/plain": [
       "'1a,2b,3c,4d,5e'"
      ]
     },
     "execution_count": 5,
     "metadata": {},
     "output_type": "execute_result"
    }
   ],
   "source": [
    "a[::1]\t\t# a[:::] \tinvalid syntax"
   ]
  },
  {
   "cell_type": "code",
   "execution_count": 6,
   "metadata": {},
   "outputs": [
    {
     "data": {
      "text/plain": [
       "'1,b3,d5'"
      ]
     },
     "execution_count": 6,
     "metadata": {},
     "output_type": "execute_result"
    }
   ],
   "source": [
    "a[::2]"
   ]
  },
  {
   "cell_type": "code",
   "execution_count": null,
   "metadata": {},
   "outputs": [
    {
     "data": {
      "text/plain": [
       "'a'"
      ]
     },
     "execution_count": 3,
     "metadata": {},
     "output_type": "execute_result"
    }
   ],
   "source": [
    "a[1:3:2]"
   ]
  },
  {
   "cell_type": "code",
   "execution_count": null,
   "metadata": {},
   "outputs": [
    {
     "data": {
      "text/plain": [
       "'a2,c'"
      ]
     },
     "execution_count": 4,
     "metadata": {},
     "output_type": "execute_result"
    }
   ],
   "source": [
    "a[1:9:2]"
   ]
  },
  {
   "cell_type": "code",
   "execution_count": null,
   "metadata": {},
   "outputs": [
    {
     "data": {
      "text/plain": [
       "'1,b3,'"
      ]
     },
     "execution_count": 5,
     "metadata": {},
     "output_type": "execute_result"
    }
   ],
   "source": [
    "a[:9:2]"
   ]
  },
  {
   "cell_type": "code",
   "execution_count": null,
   "metadata": {},
   "outputs": [
    {
     "data": {
      "text/plain": [
       "'1a,2b,3c,4d,5e'"
      ]
     },
     "execution_count": 6,
     "metadata": {},
     "output_type": "execute_result"
    }
   ],
   "source": [
    "a[::]"
   ]
  },
  {
   "cell_type": "code",
   "execution_count": 24,
   "metadata": {},
   "outputs": [
    {
     "data": {
      "text/plain": [
       "('e5,d4,c3,b2,a1', '1a,2b,3c,4d,5e')"
      ]
     },
     "execution_count": 24,
     "metadata": {},
     "output_type": "execute_result"
    }
   ],
   "source": [
    "a[::-1],a[::1]"
   ]
  },
  {
   "cell_type": "code",
   "execution_count": 23,
   "metadata": {},
   "outputs": [
    {
     "data": {
      "text/plain": [
       "('e,4c,2a', '1,b3,d5')"
      ]
     },
     "execution_count": 23,
     "metadata": {},
     "output_type": "execute_result"
    }
   ],
   "source": [
    "a[::-2],a[::2]"
   ]
  },
  {
   "cell_type": "code",
   "execution_count": 22,
   "metadata": {},
   "outputs": [
    {
     "data": {
      "text/plain": [
       "('edcba', '12345')"
      ]
     },
     "execution_count": 22,
     "metadata": {},
     "output_type": "execute_result"
    }
   ],
   "source": [
    "a[::-3],a[::3]"
   ]
  },
  {
   "cell_type": "code",
   "execution_count": 25,
   "metadata": {},
   "outputs": [
    {
     "data": {
      "text/plain": [
       "('e4,a', '1b,5')"
      ]
     },
     "execution_count": 25,
     "metadata": {},
     "output_type": "execute_result"
    }
   ],
   "source": [
    "a[::-4],a[::4]"
   ]
  },
  {
   "cell_type": "code",
   "execution_count": null,
   "metadata": {},
   "outputs": [],
   "source": []
  },
  {
   "cell_type": "code",
   "execution_count": 10,
   "metadata": {},
   "outputs": [
    {
     "data": {
      "text/plain": [
       "'1a,2b,3c,4d,5'"
      ]
     },
     "execution_count": 10,
     "metadata": {},
     "output_type": "execute_result"
    }
   ],
   "source": [
    "a[0:-1]\n",
    "a[:-1]"
   ]
  },
  {
   "cell_type": "code",
   "execution_count": 11,
   "metadata": {},
   "outputs": [
    {
     "data": {
      "text/plain": [
       "'1a,2b,3c,4d'"
      ]
     },
     "execution_count": 11,
     "metadata": {},
     "output_type": "execute_result"
    }
   ],
   "source": [
    "a[:-3]"
   ]
  },
  {
   "cell_type": "code",
   "execution_count": 19,
   "metadata": {},
   "outputs": [
    {
     "data": {
      "text/plain": [
       "(',', '5', 'e', '1')"
      ]
     },
     "execution_count": 19,
     "metadata": {},
     "output_type": "execute_result"
    }
   ],
   "source": [
    "a[-3],a[-2],a[-1],a[0]"
   ]
  },
  {
   "cell_type": "code",
   "execution_count": 13,
   "metadata": {},
   "outputs": [
    {
     "data": {
      "text/plain": [
       "',5'"
      ]
     },
     "execution_count": 13,
     "metadata": {},
     "output_type": "execute_result"
    }
   ],
   "source": [
    "a[-3:]"
   ]
  },
  {
   "cell_type": "code",
   "execution_count": 14,
   "metadata": {},
   "outputs": [
    {
     "data": {
      "text/plain": [
       "',5'"
      ]
     },
     "execution_count": 14,
     "metadata": {},
     "output_type": "execute_result"
    }
   ],
   "source": [
    "a[-3:-1]"
   ]
  },
  {
   "cell_type": "code",
   "execution_count": 15,
   "metadata": {},
   "outputs": [
    {
     "data": {
      "text/plain": [
       "''"
      ]
     },
     "execution_count": 15,
     "metadata": {},
     "output_type": "execute_result"
    }
   ],
   "source": [
    "a[-3:0]"
   ]
  },
  {
   "cell_type": "code",
   "execution_count": 16,
   "metadata": {},
   "outputs": [
    {
     "data": {
      "text/plain": [
       "'5'"
      ]
     },
     "execution_count": 16,
     "metadata": {},
     "output_type": "execute_result"
    }
   ],
   "source": [
    "a[-2:-1]"
   ]
  },
  {
   "cell_type": "code",
   "execution_count": null,
   "metadata": {},
   "outputs": [
    {
     "data": {
      "text/plain": [
       "[3]"
      ]
     },
     "execution_count": 9,
     "metadata": {},
     "output_type": "execute_result"
    }
   ],
   "source": [
    "# x = [1,a,2,b,3,c,4,d]\n",
    "x = [1,2,3,4,5,6]\n",
    "y = [1,'a',2,'b',3,'c',4,'d']\n",
    "z = ['1','a','2','b','3','c','4','d']\n",
    "x[2:3]"
   ]
  },
  {
   "cell_type": "code",
   "execution_count": null,
   "metadata": {},
   "outputs": [
    {
     "data": {
      "text/plain": [
       "[2, 'b', 3, 'c', 4]"
      ]
     },
     "execution_count": 10,
     "metadata": {},
     "output_type": "execute_result"
    }
   ],
   "source": [
    "y[2:7:]"
   ]
  },
  {
   "cell_type": "code",
   "execution_count": null,
   "metadata": {},
   "outputs": [
    {
     "data": {
      "text/plain": [
       "[2, 'b', 3, 'c', 4]"
      ]
     },
     "execution_count": 11,
     "metadata": {},
     "output_type": "execute_result"
    }
   ],
   "source": [
    "y[2:7:1]"
   ]
  },
  {
   "cell_type": "code",
   "execution_count": null,
   "metadata": {},
   "outputs": [
    {
     "data": {
      "text/plain": [
       "[2, 3, 4]"
      ]
     },
     "execution_count": 12,
     "metadata": {},
     "output_type": "execute_result"
    }
   ],
   "source": [
    "y[2:7:2]"
   ]
  },
  {
   "cell_type": "code",
   "execution_count": null,
   "metadata": {},
   "outputs": [
    {
     "data": {
      "text/plain": [
       "[2, 'c']"
      ]
     },
     "execution_count": 13,
     "metadata": {},
     "output_type": "execute_result"
    }
   ],
   "source": [
    "y[2:7:3]"
   ]
  },
  {
   "cell_type": "code",
   "execution_count": 26,
   "metadata": {},
   "outputs": [
    {
     "name": "stdout",
     "output_type": "stream",
     "text": [
      "Hlo ol!\n"
     ]
    }
   ],
   "source": [
    "# 注意空格\n",
    "s = \"Hello, World!\"\n",
    "print(s[::2])  # 输出: \"Hlo ol!\""
   ]
  },
  {
   "cell_type": "markdown",
   "metadata": {},
   "source": [
    "# 其他切片\n",
    "\n",
    "1.切片赋值： 切片不仅可以用于获取子序列，还可以用于对原序列进行赋值操作。\n",
    "\n",
    "a = [1, 2, 3, 4, 5]\n",
    "a[1:3] = [6, 7]  # 替换索引1和2的元素\n",
    "print(a)         # 输出: [1, 6, 7, 4, 5]\n",
    "\n",
    "2.切片删除： 也可以使用切片来删除序列中的元素。\n",
    "\n",
    "a = [1, 2, 3, 4, 5]\n",
    "a[1:3] = []      # 删除索引1和2的元素\n",
    "print(a)         # 输出: [1, 4, 5]\n",
    "\n",
    "3.空切片： 当起始索引等于结束索引时，会得到空切片。\n",
    "\n",
    "a = [1, 2, 3, 4, 5]\n",
    "print(a[2:2])    # 输出: []\n",
    "\n",
    "4。超出索引范围： 切片操作不会引发 IndexError，当索引超出序列范围时，切片会自动调整。\n",
    "\n",
    "a = [1, 2, 3, 4, 5]\n",
    "print(a[2:10])   # 输出: [3, 4, 5]\n",
    "\n",
    "5.切片对象： 使用内置的 slice() 函数创建切片对象，可以在多个地方重复使用。\n",
    "\n",
    "a = [1, 2, 3, 4, 5]\n",
    "s = slice(1, 4)\n",
    "print(a[s])      # 输出: [2, 3, 4]"
   ]
  },
  {
   "cell_type": "code",
   "execution_count": 28,
   "metadata": {},
   "outputs": [
    {
     "data": {
      "text/plain": [
       "(slice(1, 4, None), slice(2, 4, None), [2, 3, 4], [3, 4])"
      ]
     },
     "execution_count": 28,
     "metadata": {},
     "output_type": "execute_result"
    }
   ],
   "source": [
    "aa = [1,2,3,4,5]\n",
    "s = slice(1,4)\n",
    "ss = slice(2,4)\n",
    "s ,ss ,aa[s] ,aa[ss]"
   ]
  },
  {
   "cell_type": "markdown",
   "metadata": {},
   "source": [
    "# eval\n",
    "需要注意的是，eval() 函数具有潜在的安全风险，尤其是当传递给它的字符串来自不受信任的来源时。因此，应该尽量避免使用 eval() 来执行用户输入的字符串，以防止代码注入和其他安全漏洞。"
   ]
  },
  {
   "cell_type": "code",
   "execution_count": 29,
   "metadata": {},
   "outputs": [
    {
     "name": "stdout",
     "output_type": "stream",
     "text": [
      "30\n",
      "200\n",
      "15\n"
     ]
    }
   ],
   "source": [
    "x = 10\n",
    "y = 20\n",
    "print(eval('x + y'))  # 输出30，相当于执行了表达式 x + y\n",
    "\n",
    "expression = 'x * y'\n",
    "print(eval(expression))  # 输出200，相当于执行了表达式 x * y\n",
    "\n",
    "# 可以使用 globals 和 locals 参数来提供全局和局部命名空间\n",
    "globals_dict = {'x': 5, 'y': 3}\n",
    "print(eval(expression, globals_dict))  # 输出15，使用了指定的全局命名空间\n"
   ]
  },
  {
   "cell_type": "markdown",
   "metadata": {},
   "source": [
    "# print,input"
   ]
  },
  {
   "cell_type": "markdown",
   "metadata": {},
   "source": [
    "# math"
   ]
  },
  {
   "cell_type": "markdown",
   "metadata": {},
   "source": [
    "# format     f-string?  f\"{}\"  f\"string {expression}\"\n",
    "\n",
    "- 不同之处：\n",
    "- 语法： format() 方法使用的是字符串方法，而 f-string 使用的是一种特殊的语法。\n",
    "- 可读性： f-string 更加直观和易读，因为它直接在字符串中插入变量，不需要额外的格式说明符。\n",
    "- 性能： f-string 在某些情况下比 format() 方法更快，因为它是在编译时进行格式化的，而不是在运行时。\n",
    "- Python 版本： f-string 是 Python 3.6 引入的新特性，而 format() 方法在更早的版本中就存在了。"
   ]
  },
  {
   "cell_type": "code",
   "execution_count": 30,
   "metadata": {},
   "outputs": [
    {
     "name": "stdout",
     "output_type": "stream",
     "text": [
      "Name: Alice, Age: 30, Height: 5.8\n",
      "Name: Alice, Age: 30, Height: 5.8\n",
      "Name: Alice, Age: 30, Height: 5.8\n",
      "Height: 5.80\n"
     ]
    }
   ],
   "source": [
    "name = \"Alice\"\n",
    "age = 30\n",
    "height = 5.8\n",
    "\n",
    "# 使用位置参数\n",
    "print(\"Name: {}, Age: {}, Height: {}\".format(name, age, height))\n",
    "\n",
    "# 使用关键字参数\n",
    "print(\"Name: {n}, Age: {a}, Height: {h}\".format(n=name, a=age, h=height))\n",
    "\n",
    "# 使用索引\n",
    "print(\"Name: {0}, Age: {1}, Height: {2}\".format(name, age, height))\n",
    "\n",
    "# 格式化浮点数\n",
    "print(\"Height: {:.2f}\".format(height))\n"
   ]
  },
  {
   "cell_type": "code",
   "execution_count": 31,
   "metadata": {},
   "outputs": [
    {
     "name": "stdout",
     "output_type": "stream",
     "text": [
      "My name is Alice and I am 30 years old.\n",
      "I am 360 months old.\n",
      "Twice my age is 60.\n",
      "My name in uppercase is ALICE.\n",
      "His name is Bob and he is 25 years old.\n"
     ]
    }
   ],
   "source": [
    "name = \"Alice\"\n",
    "age = 30\n",
    "\n",
    "# 嵌入变量值\n",
    "print(f\"My name is {name} and I am {age} years old.\")\n",
    "\n",
    "# 嵌入表达式\n",
    "print(f\"I am {age * 12} months old.\")\n",
    "\n",
    "# 嵌入函数调用\n",
    "def double(x):\n",
    "    return x * 2\n",
    "\n",
    "print(f\"Twice my age is {double(age)}.\")\n",
    "\n",
    "# 嵌入字符串方法调用\n",
    "print(f\"My name in uppercase is {name.upper()}.\")\n",
    "\n",
    "# 嵌入字典值\n",
    "person = {'name': 'Bob', 'age': 25}\n",
    "print(f\"His name is {person['name']} and he is {person['age']} years old.\")\n"
   ]
  },
  {
   "cell_type": "markdown",
   "metadata": {},
   "source": [
    "# random"
   ]
  },
  {
   "cell_type": "markdown",
   "metadata": {},
   "source": [
    "# lambda 匿名函数\n",
    "lambda 是 Python 中的一个关键字，用于创建匿名函数。匿名函数是一种没有名称的函数，通常用于简单的功能性操作，可以在需要函数对象的地方使用。\n",
    "语法：lambda 参数列表: 函数体\n"
   ]
  },
  {
   "cell_type": "code",
   "execution_count": null,
   "metadata": {},
   "outputs": [],
   "source": [
    "# 举例：\t\n",
    "\n",
    "# 创建一个接受两个参数并返回它们的和的匿名函数\n",
    "add = lambda x, y: x + y\n",
    "\n",
    "print(add(2, 3))  # 输出: 5\n",
    "\n",
    "# 1. 计算平方\n",
    "square = lambda x: x ** 2\n",
    "print(square(5))  # 25\n",
    "\n",
    "# 2. 计算立方\n",
    "cube = lambda x: x ** 3\n",
    "print(cube(3))  # 27\n",
    "\n",
    "# 3. 计算阶乘\n",
    "factorial = lambda n: 1 if n == 0 else n * factorial(n-1)\n",
    "print(factorial(5))  # 120"
   ]
  },
  {
   "cell_type": "code",
   "execution_count": 32,
   "metadata": {},
   "outputs": [
    {
     "name": "stdout",
     "output_type": "stream",
     "text": [
      "5\n"
     ]
    }
   ],
   "source": []
  },
  {
   "cell_type": "markdown",
   "metadata": {},
   "source": [
    "# datetime"
   ]
  },
  {
   "cell_type": "markdown",
   "metadata": {},
   "source": [
    "# 递归，python内置函数"
   ]
  },
  {
   "cell_type": "markdown",
   "metadata": {},
   "source": [
    "# 序列list，集合set，映射dict，列表list，元组tuple，字符串str，布尔值bool，数字int，浮点数float，复数complex"
   ]
  },
  {
   "cell_type": "code",
   "execution_count": 48,
   "metadata": {},
   "outputs": [
    {
     "name": "stdout",
     "output_type": "stream",
     "text": [
      "-----------执行开始----------\n",
      "100%[**************************************************->]5.22s\n",
      "-----------执行结束----------\n"
     ]
    }
   ],
   "source": [
    "#TextProBarV3.py\n",
    "import time\n",
    "scale = 50\n",
    "print(\"执行开始\".center(scale//2, \"-\"))\n",
    "start = time.perf_counter()\n",
    "for i in range(scale+1):\n",
    "    a = '*' * i\n",
    "    b = '.' * (scale - i)\n",
    "    c = (i/scale)*100\n",
    "    dur = time.perf_counter() - start\n",
    "    # print(\"{:^3.0f}%[{}->{}]{:.2f}s\".format(c,a,b,dur))\n",
    "    print(\"\\r{:^3.0f}%[{}->{}]{:.2f}s\".format(c,a,b,dur),end='')\n",
    "    time.sleep(0.1)\n",
    "print(\"\\n\"+\"执行结束\".center(scale//2,'-'))\n"
   ]
  },
  {
   "cell_type": "code",
   "execution_count": 33,
   "metadata": {},
   "outputs": [],
   "source": [
    "my_list = [1,2,3,4,5]\n"
   ]
  },
  {
   "cell_type": "code",
   "execution_count": null,
   "metadata": {},
   "outputs": [],
   "source": [
    "my_set = {1,2,3,4,5}\n",
    "print(my_set)"
   ]
  },
  {
   "cell_type": "code",
   "execution_count": 35,
   "metadata": {},
   "outputs": [
    {
     "name": "stdout",
     "output_type": "stream",
     "text": [
      "{'name': 'Alice', 'age': 30, 'city': 'New York'}\n"
     ]
    }
   ],
   "source": [
    "my_dict = {\"name\":'Alice','age':30,'city':'New York'}\n",
    "print(my_dict)\t"
   ]
  },
  {
   "cell_type": "code",
   "execution_count": 36,
   "metadata": {},
   "outputs": [
    {
     "name": "stdout",
     "output_type": "stream",
     "text": [
      "Hello, World!\n"
     ]
    }
   ],
   "source": [
    "my_string = \"Hello, World!\"\n",
    "print(my_string)"
   ]
  },
  {
   "cell_type": "code",
   "execution_count": 37,
   "metadata": {},
   "outputs": [
    {
     "name": "stdout",
     "output_type": "stream",
     "text": [
      "(1, 2, 3)\n"
     ]
    }
   ],
   "source": [
    "my_tuple = (1, 2, 3)\n",
    "print(my_tuple)"
   ]
  },
  {
   "cell_type": "markdown",
   "metadata": {},
   "source": [
    "# 强制类型转换"
   ]
  },
  {
   "cell_type": "code",
   "execution_count": 26,
   "metadata": {},
   "outputs": [
    {
     "name": "stdout",
     "output_type": "stream",
     "text": [
      "123\n",
      "3.14\n",
      "123\n"
     ]
    }
   ],
   "source": [
    "x = \"123\"\n",
    "y = int(x)  # 将字符串转换为整数\n",
    "print(y)\n",
    "x = \"3.14\"\n",
    "y = float(x)  # 将字符串转换为浮点数\n",
    "print(y)\n",
    "x = 123\n",
    "y = str(x)  # 将整数转换为字符串\n",
    "print(y)\n"
   ]
  },
  {
   "cell_type": "code",
   "execution_count": 27,
   "metadata": {},
   "outputs": [
    {
     "name": "stdout",
     "output_type": "stream",
     "text": [
      "['h', 'e', 'l', 'l', 'o']\n",
      "['1', '2', '3', '4', '5', '6', '7']\n"
     ]
    }
   ],
   "source": [
    "x = \"hello\"\n",
    "y = list(x)  # 将字符串转换为列表\n",
    "print(y)\n",
    "x = \"1234567\"\n",
    "y = list(x)  # 将字符串转换为列表\n",
    "print(y)"
   ]
  },
  {
   "cell_type": "code",
   "execution_count": 24,
   "metadata": {},
   "outputs": [
    {
     "name": "stdout",
     "output_type": "stream",
     "text": [
      "(1, 2, 3)\n"
     ]
    }
   ],
   "source": [
    "x = [1, 2, 3]\n",
    "y = tuple(x)  # 将列表转换为元组\n",
    "print(y)"
   ]
  },
  {
   "cell_type": "code",
   "execution_count": null,
   "metadata": {},
   "outputs": [],
   "source": [
    "x = [1, 2, 2, 3]\n",
    "y = set(x)  # 将列表转换为集合，去除重复元素\n"
   ]
  },
  {
   "cell_type": "code",
   "execution_count": null,
   "metadata": {},
   "outputs": [],
   "source": [
    "x = [(\"a\", 1), (\"b\", 2), (\"c\", 3)]\n",
    "y = dict(x)  # 将包含键值对的列表转换为字典\n"
   ]
  },
  {
   "cell_type": "markdown",
   "metadata": {},
   "source": [
    "# jieba"
   ]
  },
  {
   "cell_type": "markdown",
   "metadata": {},
   "source": [
    "# file文件（和数据格式化"
   ]
  },
  {
   "cell_type": "code",
   "execution_count": null,
   "metadata": {},
   "outputs": [],
   "source": [
    "file = open(\"example.txt\",\"r\")\n",
    "content = file.read()\n",
    "line = file.readline()\n",
    "lines = file.readlines()\n",
    "file.write(\"This is a new line\")\n",
    "file.close()\n",
    "\n",
    "# with 自动关闭文件\n",
    "with open(\"example.txt\",\"r\") as file:\n",
    "    content = file.read()\n",
    "    line = file.readline()\n",
    "    lines = file.readlines()\n",
    "    file.write(\"This is a new line\")"
   ]
  },
  {
   "cell_type": "code",
   "execution_count": null,
   "metadata": {},
   "outputs": [],
   "source": []
  },
  {
   "cell_type": "markdown",
   "metadata": {},
   "source": [
    "# 作业"
   ]
  },
  {
   "cell_type": "code",
   "execution_count": 1,
   "metadata": {},
   "outputs": [
    {
     "name": "stdout",
     "output_type": "stream",
     "text": [
      "(0.00,0.00) 0.0\n",
      "(100.00,0.00) 100.0\n",
      "(19.10,-58.78) 61.8033988749895\n",
      "(50.00,36.33) 61.80339887498947\n",
      "(80.90,-58.78) 100.0\n"
     ]
    },
    {
     "ename": "",
     "evalue": "",
     "output_type": "error",
     "traceback": [
      "\u001b[1;31m在当前单元格或上一个单元格中执行代码时 Kernel 崩溃。\n",
      "\u001b[1;31m请查看单元格中的代码，以确定故障的可能原因。\n",
      "\u001b[1;31m单击<a href='https://aka.ms/vscodeJupyterKernelCrash'>此处</a>了解详细信息。\n",
      "\u001b[1;31m有关更多详细信息，请查看 Jupyter <a href='command:jupyter.viewOutput'>log</a>。"
     ]
    }
   ],
   "source": [
    "import turtle as t\n",
    "for i in range(5):\n",
    "  print(t.pos(),abs(t.pos()))\n",
    "  t.forward(100) \n",
    "  t.right(144)\n",
    "t.done()\n",
    "# import turtle as t\n",
    "# while True:\n",
    "#     t.forward(100) \n",
    "#     t.right(144)\n",
    "#     if abs(t.pos())<1 :\n",
    "#       break\n",
    "# t.done()"
   ]
  },
  {
   "cell_type": "code",
   "execution_count": 1,
   "metadata": {},
   "outputs": [
    {
     "name": "stdout",
     "output_type": "stream",
     "text": [
      "{'1':,c  '4':}\n",
      "':,b  '3':,e \n",
      "a\n",
      "{'a': 1; 'b': 2; 'c': 3; 'd': 4; 'e': 5}\n",
      "4\n"
     ]
    }
   ],
   "source": [
    "# look clearly   str \n",
    "s = \"{'a': 1, 'b': 2, 'c': 3, 'd': 4, 'e': 5}\" \n",
    "print(s[::3])\n",
    "print(s[1::3])\n",
    "print(s[2::-3]) \n",
    "print(s.replace(\",\", \";\"))\n",
    "print(s.count(\",\"))"
   ]
  },
  {
   "cell_type": "code",
   "execution_count": 2,
   "metadata": {},
   "outputs": [
    {
     "name": "stdout",
     "output_type": "stream",
     "text": [
      "3, 6, 11, 13\n"
     ]
    }
   ],
   "source": [
    "i = 1\n",
    "while i < 10:\n",
    "    i = i + 2\n",
    "    if i > 6:\n",
    "        continue\n",
    "    print(i, end=\", \")\n",
    "    i += 1 \n",
    "else:\n",
    "    print(i, end=\", \") \n",
    "print(13)"
   ]
  },
  {
   "cell_type": "code",
   "execution_count": 7,
   "metadata": {},
   "outputs": [
    {
     "ename": "NameError",
     "evalue": "name 'sizeof' is not defined",
     "output_type": "error",
     "traceback": [
      "\u001b[0;31m---------------------------------------------------------------------------\u001b[0m",
      "\u001b[0;31mNameError\u001b[0m                                 Traceback (most recent call last)",
      "Cell \u001b[0;32mIn[7], line 2\u001b[0m\n\u001b[1;32m      1\u001b[0m ls \u001b[38;5;241m=\u001b[39m [\u001b[38;5;124m\"\u001b[39m\u001b[38;5;124m中国\u001b[39m\u001b[38;5;124m\"\u001b[39m, \u001b[38;5;124m\"\u001b[39m\u001b[38;5;124m法国\u001b[39m\u001b[38;5;124m\"\u001b[39m, \u001b[38;5;124m\"\u001b[39m\u001b[38;5;124m美国\u001b[39m\u001b[38;5;124m\"\u001b[39m, \u001b[38;5;124m\"\u001b[39m\u001b[38;5;124m德国\u001b[39m\u001b[38;5;124m\"\u001b[39m]\n\u001b[0;32m----> 2\u001b[0m \u001b[43msizeof\u001b[49m(\u001b[38;5;28mstr\u001b[39m(ls))\n",
      "\u001b[0;31mNameError\u001b[0m: name 'sizeof' is not defined"
     ]
    }
   ],
   "source": [
    "ls = [\"中国\", \"法国\", \"美国\", \"德国\"]\n",
    "str(ls)"
   ]
  },
  {
   "cell_type": "code",
   "execution_count": 14,
   "metadata": {},
   "outputs": [
    {
     "name": "stdout",
     "output_type": "stream",
     "text": [
      "中国法国美国德国\n",
      "中国法国\n",
      "美国德国\n"
     ]
    }
   ],
   "source": [
    "# fo = open(\"output.txt\",\"w+\")\n",
    "fo = open(\"output.txt\",\"w+\",encoding=\"utf-8\")\t\n",
    "ls = [\"中国\", \"法国\", \"美国\", \"德国\"]\n",
    "fo.writelines(ls)\n",
    "fo.seek(0)\n",
    "for line in fo:\n",
    "    print(line)\n",
    "fo.seek(0)\n",
    "print(fo.read(4))\n",
    "# fo.seek(4)\n",
    "print(fo.read(4))\t\t# 法国美国\n",
    "fo.close()"
   ]
  },
  {
   "cell_type": "code",
   "execution_count": 26,
   "metadata": {},
   "outputs": [
    {
     "name": "stdout",
     "output_type": "stream",
     "text": [
      "法国美国\n"
     ]
    }
   ],
   "source": [
    "# fo = open(\"output.txt\", \"w+\", encoding=\"utf-8\")\n",
    "# ls = [\"中国\\n\", \"法国\\n\", \"美国\\n\", \"德国\\n\"]  # 添加换行符\n",
    "# fo.writelines(ls)\n",
    "# fo.seek(4)\n",
    "# print(fo.read(4))\n",
    "# fo.close()\n",
    "# fo = open(\"output.txt\", \"w+\", encoding=\"utf-8\")  wromgn\n",
    "# fo = open(\"output.txt\", \"w+\", encoding=\"gbk\") right\n",
    "fo = open(\"output.txt\", \"w+\", encoding=\"GB2312\")\t\t# 手写肯定就不加encoding了 \n",
    "ls = [\"中国\", \"法国\", \"美国\", \"德国\"]  # 法国美国\n",
    "fo.writelines(ls)\n",
    "fo.seek(4)\n",
    "print(fo.read(4))\n",
    "fo.close()\n"
   ]
  },
  {
   "cell_type": "code",
   "execution_count": 14,
   "metadata": {},
   "outputs": [
    {
     "name": "stdout",
     "output_type": "stream",
     "text": [
      "56789abcdef\n"
     ]
    }
   ],
   "source": [
    "# f = open('tmp.txt', 'rb+')\n",
    "f = open('tmp.txt', 'wb')\n",
    "f.write(b'0123456789abcdef')\n",
    "\n",
    "# 打开文件以进行读取操作\n",
    "with open('tmp.txt', 'r') as f:\n",
    "    # 移动到文件的第 6 个字节\n",
    "    f.seek(5)\n",
    "    # 读取文件内容\n",
    "    print(f.read())\n",
    "\n",
    "# 移动到文件的第 6 个字节\n",
    "# f.seek(5)\n",
    "# print(f.read())\n",
    "# b'56789abcdef'"
   ]
  },
  {
   "cell_type": "code",
   "execution_count": 15,
   "metadata": {},
   "outputs": [
    {
     "name": "stdout",
     "output_type": "stream",
     "text": [
      "[0, 36]\n"
     ]
    }
   ],
   "source": [
    "numbers = list(range(10))\n",
    "squares = []\n",
    "for number in numbers[::3]:\n",
    "    if number % 2 == 0:\n",
    "        squares.append(number**2)\n",
    "print(squares)"
   ]
  },
  {
   "cell_type": "code",
   "execution_count": 18,
   "metadata": {},
   "outputs": [
    {
     "name": "stdout",
     "output_type": "stream",
     "text": [
      "[0, 1, 2, 3, 4, 5, 6, 7, 8, 9]\n",
      "[1, 2, 3, 4, 5, 6, 7, 8, 9]\n"
     ]
    }
   ],
   "source": [
    "num1 = list(range(10))\n",
    "num2 = list(range(1,10))\n",
    "print(num1)\t\n",
    "print(num2)\t"
   ]
  },
  {
   "cell_type": "code",
   "execution_count": 23,
   "metadata": {},
   "outputs": [
    {
     "name": "stdout",
     "output_type": "stream",
     "text": [
      "[0, 1, 2, 3, 4, 5, 6, 7, 8, 9] [2, 1] [] [1, 3, 5, 7, 9]\n"
     ]
    }
   ],
   "source": [
    "range(10),range(2,0,-1),range(4,10,-2),range(1,10,2)\n",
    "n1 = list(range(10))\n",
    "n2 = list(range(2,0,-1))\n",
    "n3 = list(range(4,10,-2))\n",
    "n4 = list(range(1,10,2))\t\n",
    "print(n1,n2,n3,n4)"
   ]
  },
  {
   "cell_type": "code",
   "execution_count": null,
   "metadata": {},
   "outputs": [],
   "source": [
    "# 编写一个函数计算n阶阿波罗尼斯数列函数，并输出前20项。阿波罗尼斯数列：第一项为2，第二项为3；从第三项开始，每一项都是前两项的和加1。\n",
    "def apollonian_sequence(n):\n",
    "    sequence = [2, 3]  # 初始化阿波罗尼斯数列的前两项\n",
    "    # 计算阿波罗尼斯数列的第3项到第n项\n",
    "    for i in range(2, n):\n",
    "        sequence.append(sequence[-1] + sequence[-2] + 1)\n",
    "    return sequence\n",
    " \n",
    "# 输出前20项的阿波罗尼斯数列\n",
    "apollonian_sequence = apollonian_sequence(20)\n",
    "print(apollonian_sequence)\n",
    "# 方法2： \n",
    "def apollonian(n):\n",
    "    if n == 1:\n",
    "        return 2\n",
    "    elif n == 2:\n",
    "        return 3\n",
    "    else:\n",
    "        return apollonian (n - 1) + apollonian(n - 2) + 1\n",
    " \n",
    "# 输出前20项的阿波罗尼斯数列\n",
    "for i in range(1, 21):\n",
    "  print(apollonian(i), end=\" \")"
   ]
  },
  {
   "cell_type": "code",
   "execution_count": null,
   "metadata": {},
   "outputs": [],
   "source": [
    "# 根据用户输入的一个18位合法身份证号，输出其年龄和性别。（第17位代表性别，奇数为男，偶数为女）\n",
    "from datetime import datetime\n",
    "id_number = input(\"请输入18位ID：\")\n",
    " \n",
    "# 计算年龄\n",
    "birth_date = id_number[6:14]\n",
    "today = datetime.today().strftime(\"%Y%m%d\")\n",
    "age = int(today[:4]) - int(birth_date[:4])-(today[4:] < birth_date[4:])\n",
    " \n",
    "# 获取性别\n",
    "gender = \"男\" if int(id_number[16]) % 2 == 1 else \"女\"\n",
    " \n",
    "print(\"年龄：\", age, \"岁\")\n",
    "print(\"性别：\", gender)"
   ]
  },
  {
   "attachments": {
    "image.png": {
     "image/png": "[encoded data removed]"
    }
   },
   "cell_type": "markdown",
   "metadata": {},
   "source": [
    "![image.png](attachment:image.png)"
   ]
  },
  {
   "cell_type": "code",
   "execution_count": 40,
   "metadata": {},
   "outputs": [
    {
     "name": "stdout",
     "output_type": "stream",
     "text": [
      "33.99\n"
     ]
    }
   ],
   "source": [
    "s=0\n",
    "for i in range(1,101):\n",
    "    s += i/(3*i-1)\n",
    "print(\"{0:.2f}\".format(s))"
   ]
  },
  {
   "cell_type": "code",
   "execution_count": 2,
   "metadata": {},
   "outputs": [
    {
     "name": "stdout",
     "output_type": "stream",
     "text": [
      "['xBO1tGME', 'T0H8BcMv', 'wFZIJiax']\n"
     ]
    }
   ],
   "source": [
    "# 编程实现：使用大小写字母和数字组成的62个字符列表中随机生成3个8位密码\n",
    "ls = [chr(ord(\"A\")+i) for i in range(26)]+[chr(ord(\"0\")+i) for i in range(10)]+[chr(ord(\"a\")+i) for i in range(26)]\n",
    "import random\n",
    "lt = []\n",
    "for i in range(3):\n",
    "    s = \"\"\n",
    "    for j in range(8):\n",
    "      s += ls[random.randint(0,26*2+10)]\n",
    "    lt.append(s)\n",
    "print(lt)"
   ]
  },
  {
   "attachments": {
    "image.png": {
     "image/png": "[encoded data removed]"
    }
   },
   "cell_type": "markdown",
   "metadata": {},
   "source": [
    "![image.png](attachment:image.png)"
   ]
  },
  {
   "cell_type": "code",
   "execution_count": null,
   "metadata": {},
   "outputs": [],
   "source": [
    "import turtle\n",
    "turtle.pencolor(\"red\")\n",
    "turtle.pensize(5)\n",
    "\n",
    "for i in range(3):\n",
    "  turtle.forward(120)\n",
    "  turtle.left(120)\n",
    "  \n",
    "turtle.penup()  \n",
    "turtle.goto(30,10 * 3**0.5)\n",
    "# turtle.goto(30,30**0.5)\t#wrong\n",
    "turtle.pendown()\n",
    "\n",
    "for i in range(3):\n",
    "  turtle.forward(60)\n",
    "  turtle.left(120)\n",
    "t.done()"
   ]
  },
  {
   "cell_type": "code",
   "execution_count": 3,
   "metadata": {},
   "outputs": [
    {
     "name": "stdout",
     "output_type": "stream",
     "text": [
      "0             6\n",
      "1             4\n",
      "4             2\n",
      "3             1\n",
      "5             1\n"
     ]
    }
   ],
   "source": [
    "# 给定一个身份证号码，输出出现频率最高的前五个数字及其对应的频率。\n",
    "id_number = '34052419800101001X'\n",
    "counts = {} \n",
    "# 统计每个数字的出现次数\n",
    "for digit in id_number:    \n",
    "  if digit.isdigit():        \n",
    "    counts[digit] = counts.get(digit,0)+1 \n",
    "    \n",
    "items = list(counts.items())\n",
    "items.sort(key=lambda x:x[1], reverse=True) \n",
    "for i in range(5):    \n",
    "  word, count = items[i]    \n",
    "  print(\"{0:<10}{1:>5}\".format(word, count))"
   ]
  },
  {
   "cell_type": "code",
   "execution_count": 15,
   "metadata": {},
   "outputs": [
    {
     "name": "stdout",
     "output_type": "stream",
     "text": [
      "[1, 2, 3, 4]\n",
      "[1, 0, 3, 4]\n"
     ]
    }
   ],
   "source": [
    "# 请分析以下代码的输出结果，如果把list2 = list1.copy()改为list2 = list1输出有什么变化？\n",
    "list1 = [1, 2, 3, 4]\n",
    "list2 = list1.copy()\n",
    "list2[1] = 0\n",
    "print(list1)\n",
    "print(list2)\n",
    "\n",
    "# 改前：\n",
    "# [1, 2, 3, 4]\n",
    "# [1, 0, 3, 4]\n",
    "# 改后：\n",
    "# [1, 0, 3, 4]\n",
    "# [1, 0, 3, 4]"
   ]
  },
  {
   "cell_type": "code",
   "execution_count": 16,
   "metadata": {},
   "outputs": [
    {
     "name": "stdout",
     "output_type": "stream",
     "text": [
      "[1, 0, 3, 4]\n",
      "[1, 0, 3, 4]\n"
     ]
    }
   ],
   "source": [
    "list1 = [1, 2, 3, 4]\n",
    "list2 = list1\n",
    "list2[1] = 0\n",
    "print(list1)\n",
    "print(list2)"
   ]
  },
  {
   "cell_type": "code",
   "execution_count": 21,
   "metadata": {},
   "outputs": [
    {
     "name": "stdout",
     "output_type": "stream",
     "text": [
      "3.3333333333333335\n"
     ]
    }
   ],
   "source": [
    "# 请分析以下代码的输出结果，如果y = 0改为y = 5输出有什么变化？\n",
    "def divide(a, b):\n",
    "    try:\n",
    "        result = a / b\n",
    "        return result\n",
    "    except ZeroDivisionError:\n",
    "        print(\"Error: Division by zero!\")\n",
    "        return None\n",
    " \n",
    "x = 10\n",
    "y = 3\n",
    "print(divide(x, y))\n",
    "\n",
    "# 改前：\n",
    "# Error: Division by zero!\n",
    "# None\n",
    "# 改后：\n",
    "# 2.0"
   ]
  },
  {
   "cell_type": "code",
   "execution_count": 29,
   "metadata": {},
   "outputs": [
    {
     "name": "stdout",
     "output_type": "stream",
     "text": [
      "32\n"
     ]
    }
   ],
   "source": [
    "# 输入一个四位数，取出百位和十位数字，将其颠倒后输出。eg：abcd---cb\n",
    "x = eval(input())\t\t# 1234\n",
    "b = x//100%10\t\t\t\t# 2\n",
    "c = x//10%10\t\t\t\t# 3\n",
    "y = 10*c+b\t\t\t\t\t# 32\n",
    "print(y)"
   ]
  },
  {
   "cell_type": "code",
   "execution_count": null,
   "metadata": {},
   "outputs": [],
   "source": [
    "# 请分析以下代码的输出结果。\n",
    "lst1 = list('1234')\n",
    "lst2 = list('5678')\n",
    "f =lambda a, b: a + b\n",
    "sum1 = f(lst1, lst2)\n",
    "print(sum1)\n",
    "\n",
    "# ['1', '2', '3', '4', '5', '6', '7', '8']"
   ]
  },
  {
   "cell_type": "markdown",
   "metadata": {},
   "source": [
    "# daily"
   ]
  },
  {
   "cell_type": "code",
   "execution_count": 4,
   "metadata": {},
   "outputs": [
    {
     "name": "stdout",
     "output_type": "stream",
     "text": [
      "gallahad the pure\n",
      "robin the brave\n"
     ]
    }
   ],
   "source": [
    "knights = {'gallahad': 'the pure', 'robin': 'the brave'}\n",
    "for k, v in knights.items():\n",
    "    print(k, v)"
   ]
  },
  {
   "cell_type": "code",
   "execution_count": 7,
   "metadata": {},
   "outputs": [
    {
     "name": "stdout",
     "output_type": "stream",
     "text": [
      "{'red': 1, 'green': 2, 3: 'blue'}\n",
      "blue\n"
     ]
    }
   ],
   "source": [
    "x={\"red\":1,\"green\":2}\n",
    "x[3]=\"blue\"\n",
    "print(x)\n",
    "print(x.get(3,\"not found\"))"
   ]
  },
  {
   "cell_type": "code",
   "execution_count": 8,
   "metadata": {},
   "outputs": [
    {
     "name": "stdout",
     "output_type": "stream",
     "text": [
      "[2, 3, 5, 7]\n"
     ]
    }
   ],
   "source": [
    "a=[ ]\n",
    "for i in range(2,10):\n",
    "    count = 0\n",
    "    for x in range(2,i-1):\n",
    "        if i % x == 0:\n",
    "            count += 1\n",
    "    if count == 0:\n",
    "        a.append(i)\n",
    "print(a)"
   ]
  },
  {
   "cell_type": "code",
   "execution_count": 9,
   "metadata": {},
   "outputs": [
    {
     "name": "stdout",
     "output_type": "stream",
     "text": [
      "['PP', 'yy', 'tt', 'hh', 'oo', 'nn']\n"
     ]
    }
   ],
   "source": [
    "list1 = [i*2 for i in 'Python']\n",
    "print(list1)"
   ]
  },
  {
   "cell_type": "code",
   "execution_count": 14,
   "metadata": {},
   "outputs": [
    {
     "name": "stdout",
     "output_type": "stream",
     "text": [
      "{1, 2} {1, 2, 4, 5} {3} {1, 2, 3, 4, 5}\n",
      "{1, 2} {1, 2, 4, 5} {3} {1, 2, 3, 4, 5}\n"
     ]
    }
   ],
   "source": [
    "x={1,2,3}\n",
    "y={3,4,5}\n",
    "print(x-y,x^y,x&y,x|y)\t\t# \t差-(补)\t\t\t\t对称差^(|-&)\t\t\t    交&\t\t  \t并|\t\t\t\t\t\t\t\t\t\t\n",
    "\t\t\t\t\t\t\t\t\t\t\t\t\t# difference,symmetric_difference,intersection,union\n",
    "\n",
    "(x.difference(y),x.symmetric_difference(y),x.intersection(y),x.union(y))\t\t# 同上"
   ]
  },
  {
   "cell_type": "code",
   "execution_count": 15,
   "metadata": {},
   "outputs": [
    {
     "data": {
      "text/plain": [
       "('human', 'tiger', 'dog', 'cat')"
      ]
     },
     "execution_count": 15,
     "metadata": {},
     "output_type": "execute_result"
    }
   ],
   "source": [
    "t=(\"cat\", \"dog\", \"tiger\", \"human\")\n",
    "t[::-1]"
   ]
  },
  {
   "cell_type": "code",
   "execution_count": 16,
   "metadata": {},
   "outputs": [
    {
     "data": {
      "text/plain": [
       "(2, 4, 6, 8)"
      ]
     },
     "execution_count": 16,
     "metadata": {},
     "output_type": "execute_result"
    }
   ],
   "source": [
    "tuple(range(2,10,2))"
   ]
  },
  {
   "cell_type": "markdown",
   "metadata": {},
   "source": [
    "# 变量的作用域"
   ]
  },
  {
   "cell_type": "code",
   "execution_count": null,
   "metadata": {},
   "outputs": [],
   "source": []
  },
  {
   "cell_type": "code",
   "execution_count": 27,
   "metadata": {},
   "outputs": [
    {
     "name": "stdout",
     "output_type": "stream",
     "text": [
      "15\n",
      "15\n"
     ]
    }
   ],
   "source": [
    "s=5 \n",
    "def f(x): \n",
    "    global s \n",
    "    s=s+x \n",
    "    return s \n",
    "a=10 \n",
    "print(f(a))\n",
    "print(s)"
   ]
  },
  {
   "cell_type": "code",
   "execution_count": 6,
   "metadata": {},
   "outputs": [
    {
     "name": "stdout",
     "output_type": "stream",
     "text": [
      "6\n"
     ]
    }
   ],
   "source": [
    "sum = lambda x,y: x*y\n",
    "print(sum(2,3))"
   ]
  },
  {
   "cell_type": "code",
   "execution_count": 32,
   "metadata": {},
   "outputs": [
    {
     "name": "stdout",
     "output_type": "stream",
     "text": [
      "start: 4698310016\n",
      "[1, 2, 3, 3]\n",
      "next: 4698310016\n",
      "f2: 4698309824\n",
      "[1, 2, 3, 3]\n",
      "f1: [1, 2, 3, 3]\n",
      "f1: [4, 5, 6, 7]\n",
      "f1: 4698148672\n",
      "[4, 5, 6, 7]\n",
      "f2: 4698309824\n",
      "[4, 5, 6, 7]\n"
     ]
    }
   ],
   "source": [
    "list2 = [1,2,3,3]\t\t\t# address A\n",
    "print(\"start:\",id(list2))\n",
    "def f1(li):\n",
    "  # print(\"f1:\",list2)\t报错\n",
    "  global list2 \t\t\t\t#! address C\n",
    "  print(\"f1:\",list2)\n",
    "  list2 = [4,5,6,7]\n",
    "  print(\"f1:\",list2)\n",
    "  print(\"f1:\",id(list2))\n",
    "def f2(li):\n",
    "  list2 = [8,8,9,9]\t\n",
    "  #! address B\n",
    "  print(\"f2:\",id(liist2))\n",
    "  \n",
    "print(list2)\t\t\t\t\t# address A\n",
    "print(\"next:\",id(list2))\n",
    "\n",
    "f2(list2)\n",
    "print(list2)\t\t\t\t\t# address A\n",
    "\n",
    "f1(list2)\n",
    "print(list2)\t\t\t\t\t# address A\n",
    "\n",
    "f2(list2)\n",
    "print(list2)\t\t\t\t\t# address A"
   ]
  },
  {
   "cell_type": "code",
   "execution_count": 5,
   "metadata": {},
   "outputs": [
    {
     "name": "stdout",
     "output_type": "stream",
     "text": [
      "append2: ['?']\n",
      "append1: ['A']\n",
      "append2: ['B']\n",
      "['A']\n",
      "1\n",
      "append1: ['A', 'C']\n",
      "['A', 'C']\n",
      "2\n"
     ]
    }
   ],
   "source": [
    "list1 = []\n",
    "\n",
    "def append1(item):\t\t\t\t\t\t\t\t\t\t# list1作用域存在于整个程序，不限于函数\n",
    "    global list1\n",
    "    list1.append(item)\t\t\t\t\t\t\t\t#! append to the global list1\n",
    "    print(\"append1:\",list1)\t\t\t\t\t\t#!  \n",
    "\n",
    "def append2(item):\t\t\t\t\t\t\t\t\t\t# list1作用域仅限于append2函数，结束则消失，与global地址不一样\n",
    "    list1 = []\n",
    "    list1.append(item)\t\t\t\t\t\t\t\t#! create a new list and append to it\n",
    "    print(\"append2:\",list1)\t\t\t\t\t\t#! just change local list1\t,the global not change\n",
    "\t\t\t\t\t\t\t\t\t\t\t\t\t\t\t\t\t\t\t#! because the local list1 is created in the function\n",
    "\t\t\t\t\t\t\t\t\t\t\t\t\t\t\t\t\t\t\t#! 函数中local被覆盖了，global变量没有改变，出了函数local die,global still exist\n",
    "    \n",
    "append2(\"?\")\n",
    "append1(\"A\")\n",
    "append2(\"B\")\n",
    "\n",
    "print(list1)\n",
    "print(len(list1))\n",
    "\n",
    "append1(\"C\")\n",
    "print(list1)\n",
    "print(len(list1))"
   ]
  },
  {
   "cell_type": "markdown",
   "metadata": {},
   "source": [
    "# 值传递和引用传递"
   ]
  },
  {
   "cell_type": "code",
   "execution_count": 7,
   "metadata": {},
   "outputs": [
    {
     "name": "stdout",
     "output_type": "stream",
     "text": [
      "10,11,[1, 2, 3]\n",
      "6,[1, 2, 3, 4]\n",
      "10,10\n"
     ]
    }
   ],
   "source": [
    "\n",
    "# 对于不可变对象（如整数、字符串、元组等），参数传递方式类似于按值传递。\n",
    "#! 对于不可变对象（如整数），函数参数接收的是变量的副本，对参数的修改不会影响到原始变量。\n",
    "def modify_number(num):\n",
    "    num = num + 1\n",
    "    return num\n",
    "\n",
    "# 对于可变对象（如列表、字典等），参数传递方式类似于按引用传递。\n",
    "#! 对于可变对象（如列表），函数参数接收的是变量的引用，对参数的修改会影响到原始变量。\n",
    "def modify_list(lst):\n",
    "    lst.append(4)\n",
    "    return lst\n",
    "\n",
    "original_number = 10\n",
    "modified_number = modify_number(original_number)\n",
    "print(original_number, end=\",\")\t# 10\n",
    "print(modified_number, end=\",\")\t# 11\n",
    "\n",
    "original_list = [1, 2, 3]\n",
    "print(original_list)\t\n",
    "print(sum(original_list), end=\",\") # 6\n",
    "\n",
    "modified_list = modify_list(original_list)\t\t\t#! 引用传递\n",
    "\n",
    "print(original_list)\t# 10\n",
    "print(sum(original_list), end=\",\")\t# 10\n",
    "\n",
    "#! 原始列表 original_list 和修改后的列表 modified_list 共享相同的内存地址，\n",
    "#! 在修改列表的函数 modify_list() 中，对原始列表的修改也会反映在修改后的列表上。\n",
    "#! 因此，当我们计算修改后的列表的总和时，实际上也包括了新增的元素 4。\n",
    "\n",
    "print(sum( modified_list ))\t# 10\n",
    "\n",
    "# 10,11,10,10"
   ]
  },
  {
   "cell_type": "code",
   "execution_count": 17,
   "metadata": {},
   "outputs": [
    {
     "name": "stdout",
     "output_type": "stream",
     "text": [
      "[1, 2, 3]\n"
     ]
    }
   ],
   "source": [
    "# 参数传递的特殊情况：\n",
    "#! 在某些情况下，即使是对可变对象的修改也不会影响到原始对象，这通常发生在重新分配对象的情况下。\n",
    "def modify_list(lst):\n",
    "    lst = [4, 5, 6]  #! 重新分配了一个新的列表对象，不再指向原始列表对象\n",
    "\n",
    "original_list = [1, 2, 3]\n",
    "modify_list(original_list)\n",
    "print(original_list)  # 输出：[1, 2, 3]，\n",
    "# 本来应该是按引用传递，因为传入的是可变对象，但是\n",
    "# 重新分配了，函数内的 lst 不再指向原始列表 original_list\n",
    "# 参考前面变量的作用域部分，list1，list2\n"
   ]
  },
  {
   "cell_type": "code",
   "execution_count": 1,
   "metadata": {},
   "outputs": [
    {
     "name": "stdout",
     "output_type": "stream",
     "text": [
      "15\n"
     ]
    }
   ],
   "source": [
    "# 假设 modified_list 是一个包含数值的列表\n",
    "modified_list = [1, 2, 3, 4, 5]\n",
    "\n",
    "# 对列表中的元素求和\n",
    "total_sum = sum(modified_list)\n",
    "print(total_sum)\n"
   ]
  },
  {
   "cell_type": "markdown",
   "metadata": {},
   "source": [
    "# daily"
   ]
  },
  {
   "cell_type": "code",
   "execution_count": 16,
   "metadata": {},
   "outputs": [
    {
     "name": "stdout",
     "output_type": "stream",
     "text": [
      "6\n"
     ]
    }
   ],
   "source": [
    "sum2 = lambda x,y: x*y\n",
    "print(sum2(2,3))"
   ]
  },
  {
   "cell_type": "code",
   "execution_count": 14,
   "metadata": {},
   "outputs": [
    {
     "name": "stdout",
     "output_type": "stream",
     "text": [
      "hello\n",
      "end\n"
     ]
    }
   ],
   "source": [
    "# try-except合法， try-finally 也合法，但是不推荐使用\n",
    "# 即try 语句后面必须跟至少一个 except 或 finally 语句\n",
    "\n",
    "try:\n",
    "  print(\"hello\")\n",
    "finally:\n",
    "  print(\"end\")"
   ]
  },
  {
   "cell_type": "code",
   "execution_count": 15,
   "metadata": {},
   "outputs": [
    {
     "name": "stdout",
     "output_type": "stream",
     "text": [
      "2 3 5 7 "
     ]
    }
   ],
   "source": [
    "for i in range(2, 10):\n",
    "    for j in range(2, int(i ** 0.5) + 1):\n",
    "        if i % j == 0:\n",
    "            break\n",
    "    else:\n",
    "        print(i, end=' ')\n",
    "\n",
    "# "
   ]
  },
  {
   "cell_type": "code",
   "execution_count": 24,
   "metadata": {},
   "outputs": [
    {
     "name": "stdout",
     "output_type": "stream",
     "text": [
      "1,2,4,5,*\n"
     ]
    }
   ],
   "source": [
    "for i in range(1,6):\n",
    "  if i%3==0:\n",
    "    continue\n",
    "  print(i,end=\",\") \n",
    "print(\"*\")  \n",
    "\n",
    "# 1,2,4,5,*"
   ]
  },
  {
   "cell_type": "code",
   "execution_count": 25,
   "metadata": {},
   "outputs": [
    {
     "name": "stdout",
     "output_type": "stream",
     "text": [
      "37\n"
     ]
    }
   ],
   "source": [
    "i=1\n",
    "s=0\n",
    "while i<=10:\n",
    "    if i%3!=0: \t\t# 1,2,4,5,7,8,10\n",
    "      s=s+i \n",
    "    i=i+1 \n",
    "print(s) \n",
    "\n",
    "# 37"
   ]
  },
  {
   "cell_type": "code",
   "execution_count": 40,
   "metadata": {},
   "outputs": [
    {
     "name": "stdout",
     "output_type": "stream",
     "text": [
      "12'  '12' '12'34\n",
      "\n",
      "\n",
      "43'21\n",
      "43'21\n",
      "12'3\n"
     ]
    }
   ],
   "source": [
    "str=\"abcd'12'34\"\n",
    "print(str[5:8],str[-1:-6],str[4:8],str[-6:])\n",
    "print(str[-1:6])\n",
    "print(str[-1:-6])\n",
    "print(str[-1:-6:-1])\n",
    "print(str[:-6:-1])\n",
    "print(str[-5:-1])"
   ]
  },
  {
   "cell_type": "code",
   "execution_count": 43,
   "metadata": {},
   "outputs": [
    {
     "name": "stdout",
     "output_type": "stream",
     "text": [
      "['o', 'wo']\n",
      "['o ', 'o']\n"
     ]
    }
   ],
   "source": [
    "str=\"hello world\"\n",
    "print(str[-7:8].split())\n",
    "print(str[-7:8].split(\"w\"))"
   ]
  },
  {
   "cell_type": "markdown",
   "metadata": {},
   "source": [
    "# pdf fighting"
   ]
  },
  {
   "cell_type": "code",
   "execution_count": 25,
   "metadata": {},
   "outputs": [
    {
     "data": {
      "text/plain": [
       "(50.0, 50)"
      ]
     },
     "execution_count": 25,
     "metadata": {},
     "output_type": "execute_result"
    }
   ],
   "source": [
    "eval('500/10'),eval('500//10')"
   ]
  },
  {
   "cell_type": "code",
   "execution_count": 27,
   "metadata": {},
   "outputs": [
    {
     "data": {
      "text/plain": [
       "(5.0, 0.000123)"
      ]
     },
     "execution_count": 27,
     "metadata": {},
     "output_type": "execute_result"
    }
   ],
   "source": [
    "abs(-3+4j),1.23e-4+5.67e+8j.real\t# 345,1.23e-4,5.67e+8,.real取实部"
   ]
  },
  {
   "cell_type": "code",
   "execution_count": 39,
   "metadata": {},
   "outputs": [
    {
     "name": "stdout",
     "output_type": "stream",
     "text": [
      "5.5\n",
      "0o5\n",
      "0o10\n"
     ]
    }
   ],
   "source": [
    "x = (3**4+5-6*7) / 8\n",
    "print(x)\n",
    "# print((oct(x)))\t\t# 八进制\n",
    "print((oct(int(x))))\t\t# 八进制\n",
    "print(oct(8))\n",
    "# bin(x),oct(x),hex(x)\t\t# 2,8,16\t输入整数"
   ]
  },
  {
   "cell_type": "markdown",
   "metadata": {},
   "source": [
    "# 2021"
   ]
  },
  {
   "cell_type": "code",
   "execution_count": 17,
   "metadata": {},
   "outputs": [
    {
     "name": "stdout",
     "output_type": "stream",
     "text": [
      "6 11 12\n"
     ]
    }
   ],
   "source": [
    "# `1`\n",
    "\n",
    "x=y=10\n",
    "x, y, z=6,x+1,x+2\n",
    "print(x, y, z)\n",
    "\n",
    "# 6,11,12\n",
    "#! 6 11 12\t\t没有逗号，空格隔开"
   ]
  },
  {
   "cell_type": "code",
   "execution_count": 19,
   "metadata": {},
   "outputs": [
    {
     "name": "stdout",
     "output_type": "stream",
     "text": [
      "3 8\n"
     ]
    },
    {
     "data": {
      "text/plain": [
       "(3, 8)"
      ]
     },
     "execution_count": 19,
     "metadata": {},
     "output_type": "execute_result"
    }
   ],
   "source": [
    "print(1+2,3+5)\t\t# 没有逗号，空格隔开\n",
    "1+2,3+5\t\t\t\t\t\t# 元组tuple形式输出(,)"
   ]
  },
  {
   "cell_type": "code",
   "execution_count": 20,
   "metadata": {},
   "outputs": [
    {
     "name": "stdout",
     "output_type": "stream",
     "text": [
      "2\n"
     ]
    }
   ],
   "source": [
    "# `2`\n",
    "#!!!! not > and > or\t\t内括号到外括号\n",
    "#!   if not x or y 不是 if not x or not y\n",
    "\n",
    "x=1; y={}; z=(6,)\n",
    "if not x or y:\n",
    "  print(1)\n",
    "elif not x or not y and z:\n",
    "  print(2)\n",
    "elif not x or y or not y and x:\n",
    "  print(3) \n",
    "else:\n",
    "  print(4)\n",
    "  \n",
    "# 1 "
   ]
  },
  {
   "cell_type": "code",
   "execution_count": 2,
   "metadata": {},
   "outputs": [
    {
     "name": "stdout",
     "output_type": "stream",
     "text": [
      "1\n",
      "True\n",
      "True\n",
      "1\n",
      "\n"
     ]
    }
   ],
   "source": [
    "x,y,z = 1,0,0\n",
    "print(x or y and not z)\t\t\t#\t{x [t (-z)]}  1\n",
    "print(x and y or not z)\t\t\t# {[x,y](-z)}\t\t1\n",
    "print(not x and y or not z) # {[(-x) y](-z)} \t1\n",
    "print()"
   ]
  },
  {
   "cell_type": "code",
   "execution_count": 11,
   "metadata": {},
   "outputs": [
    {
     "name": "stdout",
     "output_type": "stream",
     "text": [
      "9\n",
      "False\n",
      "1\n",
      "8\n",
      "{}\n"
     ]
    }
   ],
   "source": [
    "print(1 and 2 and 3 and 9)\t\t# 真则返回最后一个值\n",
    "print(1 and 2 and 3 and False and () and [] )\t\t# 假则返回第一个假\n",
    "print(1 or 2 or 3 or 9)\t\t# 真则返回第一个真\n",
    "print(0 or 0 or 8 or 9)\n",
    "print([] or () or None or {})\t\t# 假则返回最后一个值\n",
    "\n"
   ]
  },
  {
   "cell_type": "code",
   "execution_count": 23,
   "metadata": {},
   "outputs": [
    {
     "name": "stdout",
     "output_type": "stream",
     "text": [
      "(6,)\n"
     ]
    },
    {
     "data": {
      "text/plain": [
       "tuple"
      ]
     },
     "execution_count": 23,
     "metadata": {},
     "output_type": "execute_result"
    }
   ],
   "source": [
    "z = (6,)\n",
    "print(z)\n",
    "type(z)"
   ]
  },
  {
   "cell_type": "code",
   "execution_count": null,
   "metadata": {},
   "outputs": [],
   "source": [
    "# `3`\n",
    "\n",
    "i=0\n",
    "while i<10:\n",
    "\tif i<1:\n",
    "\t\tcontinue\n",
    "\tif i==5:\n",
    "\t\tbreak\n",
    "\ti+=1\n",
    "# print(i)\t\t# \n",
    "# 循环次数？\t\t无限次"
   ]
  },
  {
   "cell_type": "code",
   "execution_count": 23,
   "metadata": {},
   "outputs": [
    {
     "name": "stdout",
     "output_type": "stream",
     "text": [
      "{1, 2, 3, 4}\n",
      "set()\n",
      "set()\n",
      "()\n",
      "set()\n",
      "{}\n",
      "set()\n",
      "{}\n",
      "<class 'dict'>\n",
      "set()\n",
      "<class 'set'>\n",
      "{}\n",
      "<class 'dict'>\n"
     ]
    }
   ],
   "source": [
    "# `4`\n",
    "\n",
    "s1=set([1,2,2,3,3,3,4])\t# list->set\n",
    "print(s1) \t\t\n",
    "s2={1,2,5,6,4}\t\t# set\n",
    "\n",
    "print(s1&s2-s1.intersection(s2)) # {1,2,4}-{1,2,4}\n",
    "\n",
    "s3 = s1&s2-s1.intersection(s2)\n",
    "\n",
    "print(s3) \n",
    "s4 = ()\t\t\t# tuple\n",
    "print(s4) \n",
    "s44 = set()\n",
    "print(s44) \n",
    "s5 = {}\n",
    "print(s5)\n",
    "s55 = set({}) \n",
    "print(s55)\n",
    "\n",
    "t1 = {}\n",
    "print(t1)\n",
    "print(type(t1))\n",
    "t2 = set()\n",
    "print(t2)\n",
    "print(type(t2))\n",
    "# t3 = dict()\n",
    "# print(t3)\n",
    "# print(type(t3))\n",
    "\n",
    "# {}"
   ]
  },
  {
   "cell_type": "code",
   "execution_count": 28,
   "metadata": {},
   "outputs": [
    {
     "name": "stdout",
     "output_type": "stream",
     "text": [
      "1: 4356743488\n",
      "1: 4356157440\n",
      "[1, 2, 3, 4],[1, 2, 3]\n"
     ]
    }
   ],
   "source": [
    "# `5`\n",
    "\n",
    "x=[1,2,3]\n",
    "print(\"1:\",id(x))\n",
    "def f(x): \n",
    "\tx=x+[4]\n",
    "\tprint(\"1:\",id(x))\n",
    "\tprint(x, end=',') \n",
    "f(x)\n",
    "print(x)\n",
    "\n",
    "# [1,2,3,4],[1,2,3,4]made"
   ]
  },
  {
   "cell_type": "code",
   "execution_count": null,
   "metadata": {},
   "outputs": [],
   "source": [
    "# `6`\n",
    "\n",
    "f=open('f.txt','w')\n",
    "f.writelines(['Python programming.']) \n",
    "f.close()\n",
    "f=open('f.txt','rb')\n",
    "f.seek(10,1)\n",
    "print(f.tell())"
   ]
  },
  {
   "cell_type": "code",
   "execution_count": 2,
   "metadata": {},
   "outputs": [
    {
     "name": "stdout",
     "output_type": "stream",
     "text": [
      "1,2,3\n",
      "['1', '2', '3']\n",
      "('1', '2', '3')\n"
     ]
    }
   ],
   "source": [
    "values=input()\n",
    "l=values.split(\",\")\n",
    "t=tuple(l)\n",
    "print(values)\n",
    "print(l)\n",
    "print(t)"
   ]
  },
  {
   "cell_type": "code",
   "execution_count": 4,
   "metadata": {},
   "outputs": [
    {
     "name": "stdout",
     "output_type": "stream",
     "text": [
      "Age 值为 : 20\n",
      "Name 值为 : Mary\n",
      "Sex 值为 : None\n",
      "Sex 值为 : None\n",
      "Sex 值为 : NA\n"
     ]
    }
   ],
   "source": [
    "\n",
    "# get ()方法的应用举例\n",
    "dict = {'Name': 'Mary', 'Age': 20}\n",
    "\n",
    "print (\"Age 值为 : %s\" %  dict.get('Age'))\n",
    "print (\"Name 值为 : %s\" %  dict.get('Name'))\n",
    "print (\"Sex 值为 : %s\" %  dict.get('Sex'))\n",
    "print (\"Sex 值为 : %s\" %  dict.get( \"NA\"))\n",
    "print (\"Sex 值为 : %s\" %  dict.get('Sex', \"NA\"))"
   ]
  }
 ],
 "metadata": {
  "kernelspec": {
   "display_name": "lasted",
   "language": "python",
   "name": "python3"
  },
  "language_info": {
   "codemirror_mode": {
    "name": "ipython",
    "version": 3
   },
   "file_extension": ".py",
   "mimetype": "text/x-python",
   "name": "python",
   "nbconvert_exporter": "python",
   "pygments_lexer": "ipython3",
   "version": "3.12.2"
  }
 },
 "nbformat": 4,
 "nbformat_minor": 2
}
