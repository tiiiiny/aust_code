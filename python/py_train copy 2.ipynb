{
 "cells": [
  {
   "cell_type": "markdown",
   "metadata": {},
   "source": [
    "# 1_29"
   ]
  },
  {
   "cell_type": "code",
   "execution_count": null,
   "metadata": {},
   "outputs": [],
   "source": []
  },
  {
   "cell_type": "code",
   "execution_count": null,
   "metadata": {},
   "outputs": [],
   "source": [
    "str1 = input(\"请输入一个人的名字：\")\n",
    "str2 = input(\"请输入一个国家名字：\")\n",
    "print (\"世界这么大，{}想去{}看看。\".format(str1,str2))"
   ]
  },
  {
   "cell_type": "code",
   "execution_count": null,
   "metadata": {},
   "outputs": [],
   "source": [
    "n = input(\"请输入整数N：\")\n",
    "sum = 0\n",
    "for i in range (int(n)):\n",
    "\tsum += i+1\n",
    "print(\"1到N求和结果：\",sum)"
   ]
  },
  {
   "cell_type": "code",
   "execution_count": null,
   "metadata": {},
   "outputs": [],
   "source": [
    "for i in range (1,10):\n",
    "    for j in range (1,i+1):\n",
    "        print(\"{}*{}={:2}\".format(j,i,i*j),end = '  ')\n",
    "    print('')"
   ]
  },
  {
   "cell_type": "code",
   "execution_count": null,
   "metadata": {},
   "outputs": [],
   "source": [
    "sum ,tmp= 0,1\n",
    "for i in range (1,11):\n",
    "    tmp*=i\n",
    "    sum+=tmp\n",
    "print(\"运算结果是：{}\".format(sum))"
   ]
  },
  {
   "cell_type": "code",
   "execution_count": null,
   "metadata": {},
   "outputs": [],
   "source": [
    "n = 1\n",
    "for i in range(4,0,-1):\n",
    "    n = (n+1)<<1\n",
    "    print(n)"
   ]
  },
  {
   "cell_type": "markdown",
   "metadata": {},
   "source": [
    "# 2_56"
   ]
  },
  {
   "cell_type": "code",
   "execution_count": null,
   "metadata": {},
   "outputs": [],
   "source": [
    "#e1.1TempConvert.py\n",
    "TempStr = input(\"请输入带有符号的温度值：\")\n",
    "if TempStr[-1] in ['F','f']:\n",
    "    C = (eval(TempStr[0:-1])-32)/1.8\n",
    "    print(\"转换后的温度是{:.0f}C\".format(C))\n",
    "elif TempStr[-1] in ['C','c']:\n",
    "    F = 1.8*eval(TempStr[0:-1]) + 32\n",
    "    print(\"转换后的温度是{:.0f}F\".format(F))\n",
    "else:\n",
    "    print(\"输入格式错误\")"
   ]
  },
  {
   "cell_type": "code",
   "execution_count": null,
   "metadata": {},
   "outputs": [],
   "source": [
    "#e1.1TempConvert.py\n",
    "TempStr = input(\"请输入带有符号的温度值：\")\n",
    "if TempStr[-1] in ['F','f']:\n",
    "    C = (eval(TempStr[0:-1])-32)/1.8\n",
    "    print(\"转换后的温度是{:.0f}C\".format(C))\n",
    "elif TempStr[-1] in ['C','c']:\n",
    "    F = 1.8*eval(TempStr[0:-1]) + 32\n",
    "    print(\"转换后的温度是{:.0f}F\".format(F))\n",
    "else:\n",
    "    print(\"输入格式错误\")"
   ]
  },
  {
   "cell_type": "code",
   "execution_count": 1,
   "metadata": {},
   "outputs": [
    {
     "ename": "IndexError",
     "evalue": "string index out of range",
     "output_type": "error",
     "traceback": [
      "\u001b[0;31m---------------------------------------------------------------------------\u001b[0m",
      "\u001b[0;31mIndexError\u001b[0m                                Traceback (most recent call last)",
      "Cell \u001b[0;32mIn[1], line 2\u001b[0m\n\u001b[1;32m      1\u001b[0m TempStr \u001b[38;5;241m=\u001b[39m \u001b[38;5;28minput\u001b[39m(\u001b[38;5;124m\"\u001b[39m\u001b[38;5;124m请输入带有符号的金额：(¥/$)\u001b[39m\u001b[38;5;124m\"\u001b[39m)\n\u001b[0;32m----> 2\u001b[0m \u001b[38;5;28;01mif\u001b[39;00m \u001b[43mTempStr\u001b[49m\u001b[43m[\u001b[49m\u001b[38;5;241;43m-\u001b[39;49m\u001b[38;5;241;43m1\u001b[39;49m\u001b[43m]\u001b[49m \u001b[38;5;129;01min\u001b[39;00m [\u001b[38;5;124m'\u001b[39m\u001b[38;5;124m¥\u001b[39m\u001b[38;5;124m'\u001b[39m]:\n\u001b[1;32m      3\u001b[0m     C \u001b[38;5;241m=\u001b[39m \u001b[38;5;28meval\u001b[39m(TempStr[\u001b[38;5;241m0\u001b[39m:\u001b[38;5;241m-\u001b[39m\u001b[38;5;241m1\u001b[39m])\u001b[38;5;241m/\u001b[39m\u001b[38;5;241m6\u001b[39m\n\u001b[1;32m      4\u001b[0m     \u001b[38;5;28mprint\u001b[39m(\u001b[38;5;124m\"\u001b[39m\u001b[38;5;124m转换后的金额是\u001b[39m\u001b[38;5;132;01m{:.0f}\u001b[39;00m\u001b[38;5;124m$\u001b[39m\u001b[38;5;124m\"\u001b[39m\u001b[38;5;241m.\u001b[39mformat(C))\n",
      "\u001b[0;31mIndexError\u001b[0m: string index out of range"
     ]
    }
   ],
   "source": [
    "TempStr = input(\"请输入带有符号的金额：(¥/$)\")\n",
    "if TempStr[-1] in ['¥']:\n",
    "    C = eval(TempStr[0:-1])/6\n",
    "    print(\"转换后的金额是{:.0f}$\".format(C))\n",
    "elif TempStr[-1] in ['$']:\n",
    "    F = 6*eval(TempStr[0:-1])\n",
    "    print(\"转换后的金额是{:.0f}¥\".format(F))\n",
    "else:\n",
    "    print(\"输入格式错误\")"
   ]
  },
  {
   "cell_type": "code",
   "execution_count": 3,
   "metadata": {},
   "outputs": [
    {
     "name": "stdout",
     "output_type": "stream",
     "text": [
      "祝张三:2024新年快乐!\n"
     ]
    }
   ],
   "source": [
    "str1 = \"张三\"\n",
    "str2 = \"2024\"\t\n",
    "print (\"祝{}:{}新年快乐!\".format(str1,str2))"
   ]
  },
  {
   "cell_type": "code",
   "execution_count": null,
   "metadata": {},
   "outputs": [],
   "source": [
    "import turtle\n",
    "turtle.setup(650,350,200,200)"
   ]
  },
  {
   "cell_type": "markdown",
   "metadata": {},
   "source": [
    "# 2_3-15"
   ]
  },
  {
   "cell_type": "code",
   "execution_count": null,
   "metadata": {},
   "outputs": [],
   "source": [
    "import turtle as t\n",
    "t.setup(650,350,200,200)\n",
    "t.penup()\n",
    "t.fd(-250)\n",
    "t.pendown()\n",
    "t.pensize(25)\n",
    "t.pencolor(\"purple\")\n",
    "t.seth(-40)\n",
    "for i in range(4):\n",
    "\tt.circle(40,80)\n",
    "\tt.pencolor(\"red\")\n",
    "\tt.circle(-40,80)\n",
    "\tt.pencolor(\"green\")\n",
    "t.circle(40,80/2)\n",
    "t.pencolor(\"blue\")\n",
    "t.fd(40)\n",
    "t.circle(16,180)\n",
    "t.pencolor(\"black\")\n",
    "t.fd(40*2/3)"
   ]
  },
  {
   "cell_type": "code",
   "execution_count": null,
   "metadata": {},
   "outputs": [],
   "source": [
    "import turtle as t\n",
    "t.setup(650,350,200,200)\n",
    "t.penup()\n",
    "t.fd(-250)\n",
    "t.pendown()\n",
    "t.pensize(25)\n",
    "t.pencolor(\"purple\")\n",
    "t.seth(0)\n",
    "t.fd(100)\n",
    "t.pencolor(\"blue\")\n",
    "t.seth(120)\n",
    "t.fd(100)\n",
    "t.pencolor(\"green\")\n",
    "t.seth(240)\n",
    "t.fd(100)"
   ]
  },
  {
   "cell_type": "code",
   "execution_count": null,
   "metadata": {},
   "outputs": [],
   "source": [
    "import turtle as t\n",
    "t.setup(650,350,200,200)\n",
    "t.pensize(25)\n",
    "t.pencolor(\"green\")\n",
    "for i in range(3):\n",
    "\tt.penup()\n",
    "\tif(i==0):\n",
    "\t\tt.fd(-250)\n",
    "\telif(i==1):\n",
    "\t\tt.fd(100)\n",
    "\telse:\n",
    "\t\tt.seth(0)\n",
    "\t\tt.fd(100)\n",
    "\n",
    "\tt.pendown()\n",
    "\tt.seth(0)\n",
    "\tt.fd(100)\n",
    "\tt.seth(120)\n",
    "\tt.fd(100)\n",
    "\tt.seth(240)\n",
    "\tt.fd(100)"
   ]
  },
  {
   "cell_type": "code",
   "execution_count": null,
   "metadata": {},
   "outputs": [],
   "source": [
    "\n",
    "for i in range(3):\n",
    "    print(i)"
   ]
  },
  {
   "cell_type": "code",
   "execution_count": null,
   "metadata": {},
   "outputs": [],
   "source": [
    "import turtle as t\n",
    "t.setup(650,650,200,200)\n",
    "t.penup()\n",
    "t.pensize(10)\n",
    "t.pencolor(\"green\")\n",
    "for i in range(4):\n",
    "\tt.seth(i*90)\n",
    "\tfor j in range(3):\n",
    "\t\tif(j==1):\n",
    "\t\t\tt.pendown()\n",
    "\t\t\tt.fd(100)\n",
    "\t\telse:\n",
    "\t\t\tt.penup()\n",
    "\t\t\tt.fd(50)"
   ]
  },
  {
   "cell_type": "code",
   "execution_count": null,
   "metadata": {},
   "outputs": [],
   "source": []
  },
  {
   "cell_type": "code",
   "execution_count": null,
   "metadata": {},
   "outputs": [],
   "source": [
    "# waiting...\n",
    "\n",
    "import turtle as t\n",
    "t.setup(650,650,200,200)\n",
    "t.penup()\n",
    "t.pensize(10)\n",
    "t.pencolor(\"green\")\n",
    "t.pendown()\n",
    "x=0\n",
    "for j in range(4):\n",
    "\tx+=100\n",
    "\tfor i in range(3):\n",
    "\t\tt.seth((i+1)*90)\n",
    "\t\tt.fd(x)\n",
    "\tt.fd(x)\n",
    "\tx+=40\n",
    "\tt.seth(0)\n",
    "\tt.fd(x)"
   ]
  },
  {
   "cell_type": "code",
   "execution_count": null,
   "metadata": {},
   "outputs": [],
   "source": [
    "import turtle\n",
    "import math\n",
    " \n",
    "turtle.pensize(3)\n",
    "turtle.colormode(255)\n",
    " \n",
    "# 画背景\n",
    "turtle.pencolor(\"#ed120c\")\n",
    "turtle.fillcolor(\"#ed120c\")\n",
    "turtle.begin_fill()\n",
    "turtle.penup()\n",
    "turtle.goto(-150, 100)\n",
    "turtle.pendown()\n",
    " \n",
    "for i in [300, 200, 300, 200]:\n",
    "    turtle.forward(i)\n",
    "    turtle.right(90)\n",
    "turtle.left(90)\n",
    "turtle.end_fill()\n",
    "turtle.penup()\n",
    " \n",
    " \n",
    "# 画五角星函数，要求传入五角星中心坐标，五角星外接圆半径，五角星逆时针旋转角度（默认角度0度为向上，即大五角星方向）\n",
    "def Pentagram(x, y, radius, degree):\n",
    "    length = (radius * math.sqrt(8) // 3) * 2  # 根据五角星外接圆半径计算五角星长度\n",
    " \n",
    "    turtle.goto(x, y)  # 五角星外接圆中心坐标（即五角星中心坐标）\n",
    "    turtle.left(degree)  # 五角星逆时针旋转多少度\n",
    "    turtle.forward(radius)  # 前进外接圆半径距离，到达五角星顶点\n",
    "    turtle.pendown()\n",
    " \n",
    "    # 以下为标准画五角星代码，画笔颜色及填充颜色可以通过取色器取\n",
    "    turtle.right(162)\n",
    "    turtle.pencolor(\"#f4ec20\")\n",
    "    turtle.fillcolor(\"#f4ec20\")\n",
    "    turtle.begin_fill()\n",
    "    for _ in range(5):\n",
    "        turtle.forward(length)\n",
    "        turtle.right(144)\n",
    "    turtle.end_fill()\n",
    "    turtle.left(162)\n",
    " \n",
    "    turtle.right(degree)\n",
    "    turtle.penup()\n",
    " \n",
    " \n",
    "# 画大五角星\n",
    "Pentagram(-100, 50, 30, 0)\n",
    " \n",
    "# 画第一个小五角星\n",
    "degree1 = 90 + math.atan(3 / 5) * 180 / math.pi  # 计算第一个小五角星相对于大五角星的逆时针旋转角度，atan计算弧度需要转化为角度\n",
    "Pentagram(-50, 80, 10, degree1)\n",
    " \n",
    "# 画第二个小五角星\n",
    "degree2 = 90 + math.atan(1 / 7) * 180 / math.pi\n",
    "Pentagram(-30, 60, 10, degree2)\n",
    " \n",
    "# 画第三个小五角星\n",
    "degree3 = 90 - math.atan(2 / 7) * 180 / math.pi\n",
    "Pentagram(-30, 30, 10, degree3)\n",
    " \n",
    "# 画第四个小五角星\n",
    "degree4 = 90 - math.atan(4 / 5) * 180 / math.pi\n",
    "Pentagram(-50, 10, 10, degree4)\n",
    " \n",
    "turtle.hideturtle()\n",
    "turtle.done()"
   ]
  },
  {
   "cell_type": "code",
   "execution_count": null,
   "metadata": {},
   "outputs": [],
   "source": [
    "import turtle\n",
    "\n",
    "\n",
    "def flyTo(x, y):\n",
    "    turtle.penup()\n",
    "    turtle.goto(x, y)\n",
    "    turtle.pendown()\n",
    "def drawEye():\n",
    "    turtle.tracer(False)\n",
    "    a = 2.5\n",
    "    for i in range(120):\n",
    "        if 0 <= i < 30 or 60 <= i < 90:\n",
    "            a -= 0.05\n",
    "        else:\n",
    "            a += 0.05\n",
    "        turtle.left(3)\n",
    "        turtle.fd(a)\n",
    "    turtle.tracer(True)\n",
    "def beard():\n",
    "    \"\"\" 画胡子， 一共六根\n",
    "    \"\"\"\n",
    "    # 左边第一根胡子\n",
    "    flyTo(-37, 135)\n",
    "    turtle.seth(165)\n",
    "    turtle.fd(60)\n",
    "    # 左边第二根胡子\n",
    "    flyTo(-37, 125)\n",
    "    turtle.seth(180)\n",
    "    turtle.fd(60)\n",
    "    # 左边第三根胡子\n",
    "    flyTo(-37, 115)\n",
    "    turtle.seth(193)\n",
    "    turtle.fd(60)\n",
    "    # 右边第一根胡子\n",
    "    flyTo(37, 135)\n",
    "    turtle.seth(15)\n",
    "    turtle.fd(60)\n",
    "    # 右边第二根胡子\n",
    "    flyTo(37, 125)\n",
    "    turtle.seth(0)\n",
    "    turtle.fd(60)\n",
    "    # 右边第三根胡子\n",
    "    flyTo(37, 115)\n",
    "    turtle.seth(-13)\n",
    "    turtle.fd(60)\n",
    "def drawRedScarf():\n",
    "    \"\"\" 画围巾\n",
    "    \"\"\"\n",
    "    turtle.fillcolor(\"red\")  # 填充颜色\n",
    "    turtle.begin_fill()\n",
    "    turtle.seth(0)  # 朝向右\n",
    "    turtle.fd(200)  # 前进10个单位\n",
    "    turtle.circle(-5, 90)\n",
    "    turtle.fd(10)\n",
    "    turtle.circle(-5, 90)\n",
    "    turtle.fd(207)\n",
    "    turtle.circle(-5, 90)\n",
    "    turtle.fd(10)\n",
    "    turtle.circle(-5, 90)\n",
    "    turtle.end_fill()\n",
    "def drawMouse():\n",
    "    flyTo(5, 148)\n",
    "    turtle.seth(270)\n",
    "    turtle.fd(100)\n",
    "    turtle.seth(0)\n",
    "    turtle.circle(120, 50)\n",
    "    turtle.seth(230)\n",
    "    turtle.circle(-120, 100)\n",
    "def drawRedNose():\n",
    "    flyTo(-10, 158)\n",
    "    turtle.fillcolor(\"red\")  # 填充颜色\n",
    "    turtle.begin_fill()\n",
    "    turtle.circle(20)\n",
    "    turtle.end_fill()\n",
    "def drawBlackdrawEye():\n",
    "    turtle.seth(0)\n",
    "    flyTo(-20, 195)\n",
    "    turtle.fillcolor(\"#000000\")  # 填充颜色\n",
    "    turtle.begin_fill()\n",
    "    turtle.circle(13)\n",
    "    turtle.end_fill()\n",
    "    turtle.pensize(6)\n",
    "    flyTo(20, 205)\n",
    "    turtle.seth(75)\n",
    "    turtle.circle(-10, 150)\n",
    "    turtle.pensize(3)\n",
    "    flyTo(-17, 200)\n",
    "    turtle.seth(0)\n",
    "    turtle.fillcolor(\"#ffffff\")\n",
    "    turtle.begin_fill()\n",
    "    turtle.circle(5)\n",
    "    turtle.end_fill()\n",
    "    flyTo(0, 0)\n",
    "def drawFace():\n",
    "    turtle.forward(183)  # 前行183个单位\n",
    "    turtle.fillcolor(\"white\")  # 填充颜色为白色\n",
    "    turtle.begin_fill()  # 开始填充\n",
    "    turtle.left(45)  # 左转45度\n",
    "    turtle.circle(120, 100)  # 右边那半边脸\n",
    "    turtle.seth(90)  # 朝向向上\n",
    "    drawEye()  # 画右眼睛\n",
    "    turtle.seth(180)  # 朝向左\n",
    "    turtle.penup()  # 抬笔\n",
    "    turtle.fd(60)  # 前行60\n",
    "    turtle.pendown()  # 落笔\n",
    "    turtle.seth(90)  # 朝向上\n",
    "    drawEye()  # 画左眼睛\n",
    "    turtle.penup()  # 抬笔\n",
    "    turtle.seth(180)  # 朝向左\n",
    "    turtle.fd(64)  # 前进64\n",
    "    turtle.pendown()  # 落笔\n",
    "    turtle.seth(215)  # 修改朝向\n",
    "    turtle.circle(120, 100)  # 左边那半边脸\n",
    "    turtle.end_fill()  #\n",
    "def drawHead():\n",
    "    \"\"\" 画了一个被切掉下半部分的圆\n",
    "    \"\"\"\n",
    "    turtle.penup()  # 抬笔\n",
    "    turtle.circle(150, 40)  # 画圆, 半径150，圆周角40\n",
    "    turtle.pendown()  # 落笔\n",
    "    turtle.fillcolor(\"#00a0de\")  # 填充色\n",
    "    turtle.begin_fill()  # 开始填充\n",
    "    turtle.circle(150, 280)  # 画圆，半径150, 圆周角280\n",
    "    turtle.end_fill()\n",
    "def drawAll():\n",
    "    drawHead()\n",
    "    drawRedScarf()\n",
    "    drawFace()\n",
    "    drawRedNose()\n",
    "    drawMouse()\n",
    "    beard()\n",
    "    flyTo(0, 0)\n",
    "    turtle.seth(0)\n",
    "    turtle.penup()\n",
    "    turtle.circle(150, 50)\n",
    "    turtle.pendown()\n",
    "    turtle.seth(30)\n",
    "    turtle.fd(40)\n",
    "    turtle.seth(70)\n",
    "    turtle.circle(-30, 270)\n",
    "    turtle.fillcolor(\"#00a0de\")\n",
    "    turtle.begin_fill()\n",
    "    turtle.seth(230)\n",
    "    turtle.fd(80)\n",
    "    turtle.seth(90)\n",
    "    turtle.circle(1000, 1)\n",
    "    turtle.seth(-89)\n",
    "    turtle.circle(-1000, 10)\n",
    "    turtle.seth(180)\n",
    "    turtle.fd(70)\n",
    "    turtle.seth(90)\n",
    "    turtle.circle(30, 180)\n",
    "    turtle.seth(180)\n",
    "    turtle.fd(70)\n",
    "    turtle.seth(100)\n",
    "    turtle.circle(-1000, 9)\n",
    "    turtle.seth(-86)\n",
    "    turtle.circle(1000, 2)\n",
    "    turtle.seth(230)\n",
    "    turtle.fd(40)\n",
    "    turtle.circle(-30, 230)\n",
    "    turtle.seth(45)\n",
    "    turtle.fd(81)\n",
    "    turtle.seth(0)\n",
    "    turtle.fd(203)\n",
    "    turtle.circle(5, 90)\n",
    "    turtle.fd(10)\n",
    "    turtle.circle(5, 90)\n",
    "    turtle.fd(7)\n",
    "    turtle.seth(40)\n",
    "    turtle.circle(150, 10)\n",
    "    turtle.seth(30)\n",
    "    turtle.fd(40)\n",
    "    turtle.end_fill()\n",
    "    # 左手\n",
    "    turtle.seth(70)\n",
    "    turtle.fillcolor(\"#FFFFFF\")\n",
    "    turtle.begin_fill()\n",
    "    turtle.circle(-30)\n",
    "    turtle.end_fill()\n",
    "    # 脚\n",
    "    flyTo(103.74, -182.59)\n",
    "    turtle.seth(0)\n",
    "    turtle.fillcolor(\"#FFFFFF\")\n",
    "    turtle.begin_fill()\n",
    "    turtle.fd(15)\n",
    "    turtle.circle(-15, 180)\n",
    "    turtle.fd(90)\n",
    "    turtle.circle(-15, 180)\n",
    "    turtle.fd(10)\n",
    "    turtle.end_fill()\n",
    "    flyTo(-96.26, -182.59)\n",
    "    turtle.seth(180)\n",
    "    turtle.fillcolor(\"#FFFFFF\")\n",
    "    turtle.begin_fill()\n",
    "    turtle.fd(15)\n",
    "    turtle.circle(15, 180)\n",
    "    turtle.fd(90)\n",
    "    turtle.circle(15, 180)\n",
    "    turtle.fd(10)\n",
    "    turtle.end_fill()\n",
    "    # 右手\n",
    "    flyTo(-133.97, -91.81)\n",
    "    turtle.seth(50)\n",
    "    turtle.fillcolor(\"#FFFFFF\")\n",
    "    turtle.begin_fill()\n",
    "    turtle.circle(30)\n",
    "    turtle.end_fill()\n",
    "    # 口袋\n",
    "    flyTo(-103.42, 15.09)\n",
    "    turtle.seth(0)\n",
    "    turtle.fd(38)\n",
    "    turtle.seth(230)\n",
    "    turtle.begin_fill()\n",
    "    turtle.circle(90, 260)\n",
    "    turtle.end_fill()\n",
    "    flyTo(5, -40)\n",
    "    turtle.seth(0)\n",
    "    turtle.fd(70)\n",
    "    turtle.seth(-90)\n",
    "    turtle.circle(-70, 180)\n",
    "    turtle.seth(0)\n",
    "    turtle.fd(70)\n",
    "    # 铃铛\n",
    "    flyTo(-103.42, 15.09)\n",
    "    turtle.fd(90)\n",
    "    turtle.seth(70)\n",
    "    turtle.fillcolor(\"#ffd200\")\n",
    "    turtle.begin_fill()\n",
    "    turtle.circle(-20)\n",
    "    turtle.end_fill()\n",
    "    turtle.seth(170)\n",
    "    turtle.fillcolor(\"#ffd200\")\n",
    "    turtle.begin_fill()\n",
    "    turtle.circle(-2, 180)\n",
    "    turtle.seth(10)\n",
    "    turtle.circle(-100, 22)\n",
    "    turtle.circle(-2, 180)\n",
    "    turtle.seth(180 - 10)\n",
    "    turtle.circle(100, 22)\n",
    "    turtle.end_fill()\n",
    "    flyTo(-13.42, 15.09)\n",
    "    turtle.seth(250)\n",
    "    turtle.circle(20, 110)\n",
    "    turtle.seth(90)\n",
    "    turtle.fd(15)\n",
    "    turtle.dot(10)\n",
    "    flyTo(0, -150)\n",
    "    drawBlackdrawEye()\n",
    "def main():\n",
    "    turtle.screensize(800, 6000, \"#F0F0F0\")\n",
    "    turtle.pensize(3)\n",
    "    turtle.speed(9)\n",
    "    drawAll()\n",
    "if __name__ == \"__main__\":\n",
    "    main()\n",
    "    turtle.mainloop()\n"
   ]
  },
  {
   "cell_type": "code",
   "execution_count": null,
   "metadata": {},
   "outputs": [],
   "source": [
    "from turtle import * #导入turtle库\n",
    "height=160*3 #设置高\n",
    "width=240*3 #设置长\n",
    "a=pen()\n",
    "penup()\n",
    "goto(-400,400) #我测试了一下，-400，400作为国旗的左上角比较合适\n",
    "pencolor('red')\n",
    "pendown() #下笔\n",
    "def star(angle,long):\n",
    "    pencolor('yellow')\n",
    "    pendown()\n",
    "    setheading(0)\n",
    "    right(angle)\n",
    "    fillcolor('yellow')\n",
    "    begin_fill()\n",
    "    for i in range(5):\n",
    "        forward(long)\n",
    "        right(144)\n",
    "    end_fill()\n",
    " \n",
    "begin_fill()\n",
    "fillcolor('red')\n",
    " \n",
    "for j in range(2):\n",
    "    forward(width)\n",
    "    right(90)\n",
    "    forward(height)\n",
    "    right(90)\n",
    " \n",
    "end_fill()\n",
    " \n",
    "penup()\n",
    "goto(-400+width/30*2,400-height/20*4)\n",
    "star(0,width/30*6)\n",
    " \n",
    "penup()\n",
    "goto(-400+width/30*9,400-height/20*2)\n",
    "star(-45,width/30*2)\n",
    " \n",
    "penup()\n",
    "goto(-400+width/30*11,400-height/20*4)\n",
    "star(-10,width/30*2)\n",
    " \n",
    "penup()\n",
    "goto(-400+width/30*11,400-height/20*7)\n",
    "star(0,width/30*2)\n",
    " \n",
    "penup()\n",
    "goto(-400+width/30*9,400-height/20*10)\n",
    "star(-45,width/30*2)"
   ]
  },
  {
   "cell_type": "markdown",
   "metadata": {},
   "source": [
    "# 3_74"
   ]
  },
  {
   "cell_type": "code",
   "execution_count": 4,
   "metadata": {},
   "outputs": [
    {
     "data": {
      "text/plain": [
       "-2.4492935982947064e-16"
      ]
     },
     "execution_count": 4,
     "metadata": {},
     "output_type": "execute_result"
    }
   ],
   "source": [
    "# 3.8\n",
    "import math\n",
    "math.sin(2*math.pi)"
   ]
  },
  {
   "cell_type": "code",
   "execution_count": 5,
   "metadata": {},
   "outputs": [
    {
     "data": {
      "text/plain": [
       "-3"
      ]
     },
     "execution_count": 5,
     "metadata": {},
     "output_type": "execute_result"
    }
   ],
   "source": [
    "math.floor(-2.5)"
   ]
  },
  {
   "cell_type": "code",
   "execution_count": 6,
   "metadata": {},
   "outputs": [
    {
     "data": {
      "text/plain": [
       "1"
      ]
     },
     "execution_count": 6,
     "metadata": {},
     "output_type": "execute_result"
    }
   ],
   "source": [
    "math.ceil(3.5+math.floor(-2.5))"
   ]
  },
  {
   "cell_type": "code",
   "execution_count": 7,
   "metadata": {},
   "outputs": [
    {
     "data": {
      "text/plain": [
       "2"
      ]
     },
     "execution_count": 7,
     "metadata": {},
     "output_type": "execute_result"
    }
   ],
   "source": [
    "round(math.fabs(-2.5))"
   ]
  },
  {
   "cell_type": "code",
   "execution_count": 8,
   "metadata": {},
   "outputs": [
    {
     "data": {
      "text/plain": [
       "4.0"
      ]
     },
     "execution_count": 8,
     "metadata": {},
     "output_type": "execute_result"
    }
   ],
   "source": [
    "math.sqrt(math.pow(2,4))"
   ]
  },
  {
   "cell_type": "code",
   "execution_count": 9,
   "metadata": {},
   "outputs": [
    {
     "data": {
      "text/plain": [
       "1.0"
      ]
     },
     "execution_count": 9,
     "metadata": {},
     "output_type": "execute_result"
    }
   ],
   "source": [
    "math.log(math.e)"
   ]
  },
  {
   "cell_type": "code",
   "execution_count": 10,
   "metadata": {},
   "outputs": [
    {
     "data": {
      "text/plain": [
       "3"
      ]
     },
     "execution_count": 10,
     "metadata": {},
     "output_type": "execute_result"
    }
   ],
   "source": [
    "math.gcd(12,9)"
   ]
  },
  {
   "cell_type": "code",
   "execution_count": 11,
   "metadata": {},
   "outputs": [
    {
     "data": {
      "text/plain": [
       "1.0"
      ]
     },
     "execution_count": 11,
     "metadata": {},
     "output_type": "execute_result"
    }
   ],
   "source": [
    "math.fmod(36,5)"
   ]
  },
  {
   "cell_type": "code",
   "execution_count": 12,
   "metadata": {},
   "outputs": [
    {
     "name": "stdout",
     "output_type": "stream",
     "text": [
      "0.8203047484373349\n"
     ]
    }
   ],
   "source": [
    "# 3.9\n",
    "ans = math.radians(47)\n",
    "print(ans)"
   ]
  },
  {
   "cell_type": "code",
   "execution_count": 13,
   "metadata": {},
   "outputs": [
    {
     "name": "stdout",
     "output_type": "stream",
     "text": [
      "25.714285714285715\n"
     ]
    }
   ],
   "source": [
    "# 3.10\n",
    "ans = math.degrees(math.pi/7)\n",
    "print(ans)"
   ]
  },
  {
   "cell_type": "code",
   "execution_count": 14,
   "metadata": {},
   "outputs": [],
   "source": [
    "# 3.11\n"
   ]
  },
  {
   "cell_type": "code",
   "execution_count": null,
   "metadata": {},
   "outputs": [],
   "source": [
    "# 3.12\n",
    "def update_value(N):\n",
    "\tans = 1.0\n",
    "\tn = -0.001\n",
    "\tfor i in range(365):\n",
    "\t\tif i%7 in [1,2,3,4] :\n",
    "\t\t\tn += N\n",
    "\t\tans += n\n",
    "\treturn ans\n",
    "\n",
    "\n",
    "for N in [0.001,0.002,0.003,0.004,0.005,0.006,0.007,0.008,0.009,0.010]:\n",
    "\tprint(update_value(N))\n",
    "\n",
    "'''# 3.12\n",
    "def update_value(N):\n",
    "\tday = 1.0\n",
    "\tn = -0.001\n",
    "\tsum = 0.0\n",
    "\tfor i in range(365):\n",
    "\t\tif i%7 in [1,2,3,4] :\n",
    "\t\t\tn += N\n",
    "\t\tday = day*n\n",
    "\t\tsum += day\n",
    "\treturn day\n",
    "\n",
    "\n",
    "for N in [0.001,0.002,0.003,0.004,0.005,0.006,0.007,0.008,0.009,0.010]:\n",
    "\tprint(update_value(N))\n",
    "'''"
   ]
  },
  {
   "cell_type": "code",
   "execution_count": null,
   "metadata": {},
   "outputs": [],
   "source": [
    "# 3.15\n",
    "def update(N):\n",
    "\tans = 1.0\n",
    "\tn = -0.001\n",
    "\tsum =0.0\n",
    "\tfor i in range(360):\n",
    "\t\tif i%30 in [1,2,3,4,5,6,7,8,9,10] :\n",
    "\t\t\tn += N\n",
    "\t\tans = ans*n\n",
    "\t\tsum += ans\n",
    "\treturn ans\n",
    "\n",
    "for N in [0.001,0.002,0.003,0.004,0.005,0.006,0.007,0.008,0.009,0.010]:\n",
    "\tprint(update(N))\n"
   ]
  },
  {
   "cell_type": "code",
   "execution_count": null,
   "metadata": {},
   "outputs": [],
   "source": [
    "# p94 3.6\n",
    "'''\n",
    "import time \n",
    "scale = 10\n",
    "print(\"------执行开始------\")\n",
    "for i in range(scale+1):\n",
    "    a,b = '**'*i,'..'*(scale-i)\n",
    "    c = (i/scale)*100\n",
    "    print(\"%{:^3.0f}[{}->{}]\" .format(c,a,b))\n",
    "    time.sleep(0.1)\n",
    "print(\"------执行结束------\")\n",
    "'''\n",
    "import time \n",
    "scale = 100\n",
    "for i in range(scale):\n",
    "    a = '·'*i\n",
    "    print(\"Starting {} {}%\" .format(a,i))\n",
    "    time.sleep(0.01)\n",
    "i+=1\n",
    "a = '·'*i\n",
    "print(\"Starting {} Done!\" .format(a))"
   ]
  },
  {
   "cell_type": "code",
   "execution_count": null,
   "metadata": {},
   "outputs": [],
   "source": [
    "# p7576 3.4\n",
    "dayup, dayfactor = 1.0, 0.01\n",
    "for i in range(365) :\n",
    "    if i % 7 in [6,0]:\n",
    "        dayup = dayup * (1 - dayfactor)\n",
    "    else:\n",
    "        dayup = dayup * (1 + dayfactor)\n",
    "print(\"向上5天向下2天的力量：{:.2f}.\".format(dayup))\n"
   ]
  },
  {
   "cell_type": "markdown",
   "metadata": {},
   "source": [
    "# 4_329"
   ]
  },
  {
   "cell_type": "code",
   "execution_count": 6,
   "metadata": {},
   "outputs": [
    {
     "name": "stdout",
     "output_type": "stream",
     "text": [
      "+ -  -  -  - + -  -  -  - +\n",
      "|            |            |\n",
      "|            |            |\n",
      "|            |            |\n",
      "|            |            |\n",
      "+ -  -  -  - + -  -  -  - +\n",
      "|            |            |\n",
      "|            |            |\n",
      "|            |            |\n",
      "|            |            |\n",
      "+ -  -  -  - + -  -  -  - +\n"
     ]
    }
   ],
   "source": [
    "# 1\n",
    "s = \" - \"*4\n",
    "for i in range(11):\n",
    "  if i%5==0 :\n",
    "    print(\"+\" + s + \"+\" +s+\"+\")\n",
    "  else:\n",
    "    print(\"|\" + \" \"*12 + \"|\"+ \" \"*12 + \"|\")"
   ]
  },
  {
   "cell_type": "code",
   "execution_count": 13,
   "metadata": {},
   "outputs": [
    {
     "name": "stdout",
     "output_type": "stream",
     "text": [
      "+ -  -  -  - + -  -  -  - +\n",
      "|            |            |\n",
      "|            |            |\n",
      "|            |            |\n",
      "|            |            |\n",
      "+ -  -  -  - + -  -  -  - +\n",
      "|            |            |\n",
      "|            |            |\n",
      "|            |            |\n",
      "|            |            |\n",
      "+ -  -  -  - + -  -  -  - +\n"
     ]
    }
   ],
   "source": [
    "# 1 双重循环\n",
    "#  使用双层循环语句控制单个字符打印完成94页田字格的输出\n",
    "for i in range(11):\n",
    "  if i%5==0 :\n",
    "    for j in range(11):\n",
    "      if j%5==0 :\n",
    "        print(\"+\",end ='')\n",
    "      else:\n",
    "        print(\" - \",end ='')\n",
    "  else:\n",
    "    for j in range(11):\n",
    "      if j%5==0 :\n",
    "        print(\"|\",end ='')\n",
    "      else:\n",
    "        print(\"   \",end ='')\n",
    "  print()"
   ]
  },
  {
   "cell_type": "code",
   "execution_count": null,
   "metadata": {},
   "outputs": [],
   "source": [
    "# 2 猜字游戏\n",
    "# 4.4\n",
    "\t\t# 4.1\n",
    "# import random\n",
    "from random import *\n",
    "rand=randint(0,10)\n",
    "guess = int(input())\n",
    "i =1\n",
    "while guess != rand :\n",
    "  i+=1\n",
    "  if rand > guess:\n",
    "    print(\"遗憾，太小了\")\n",
    "  elif rand < guess:\n",
    "    print(\"遗憾，太大了\")\n",
    "  else:\n",
    "    break\n",
    "  guess = int(input())\n",
    "print(\"预测{}次，你猜中了！\".format(i))\n",
    "\n",
    "#4.4\n",
    "\n"
   ]
  },
  {
   "cell_type": "code",
   "execution_count": null,
   "metadata": {},
   "outputs": [],
   "source": [
    "#4.4\n",
    "from random import *\n",
    "from numpy import double\n",
    "r=random()*100\n",
    "guess = double(input())\n",
    "i =1\n",
    "while guess != r :\n",
    "  i+=1\n",
    "  if r > guess:\n",
    "    print(\"遗憾，太小了\")\n",
    "  elif r < guess:\n",
    "    print(\"遗憾，太大了\")\n",
    "  else:\n",
    "    break\n",
    "  guess = double(input())\n",
    "print(\"预测{}次，你猜中了！\".format(i))"
   ]
  },
  {
   "cell_type": "code",
   "execution_count": 32,
   "metadata": {},
   "outputs": [
    {
     "name": "stdout",
     "output_type": "stream",
     "text": [
      "输入的不是整数\n"
     ]
    }
   ],
   "source": [
    "# 4.5\n",
    "from random import *\n",
    "r=randint(0,100)\n",
    "gu = input()\n",
    "\n",
    "try:\n",
    "  int(gu)\n",
    "  i =1\n",
    "  while guess != r :\n",
    "    i+=1\n",
    "    if r > guess:\n",
    "      print(\"遗憾，太小了\")\n",
    "    elif r < guess:\n",
    "      print(\"遗憾，太大了\")\n",
    "    else:\n",
    "      break\n",
    "    guess = int(input())\n",
    "    print(\"预测{}次，你猜中了！\".format(i))\n",
    "except ValueError:\n",
    "  print(\"输入的不是整数\")\n",
    "  guess = int(input())"
   ]
  },
  {
   "cell_type": "code",
   "execution_count": 38,
   "metadata": {},
   "outputs": [
    {
     "name": "stdout",
     "output_type": "stream",
     "text": [
      "遗憾，太小了\n",
      "遗憾，太大了\n",
      "遗憾，太大了\n",
      "遗憾，太大了\n",
      "遗憾，太大了\n",
      "遗憾，太大了\n",
      "遗憾，太大了\n",
      "遗憾，太小了\n",
      "遗憾，太大了\n",
      "遗憾，太大了\n",
      "遗憾，太小了\n",
      "遗憾，太小了\n",
      "遗憾，太小了\n",
      "遗憾，太大了\n",
      "预测14次，你猜中了！\n"
     ]
    }
   ],
   "source": [
    "# 4.5\n",
    "from random import *\n",
    "\n",
    "def is_not_integer(gu):\n",
    "  try:\n",
    "    int(gu)\n",
    "    return False\n",
    "  except ValueError:\n",
    "    return True\n",
    "\n",
    "r=randint(0,100)\n",
    "gu = input()\n",
    "i =0\n",
    "while guess != r :\n",
    "  i+=1\n",
    "  if is_not_integer(gu):\n",
    "    print(\"输入的不是整数\")\n",
    "    break\n",
    "  elif r > guess:\n",
    "    print(\"遗憾，太小了\")\n",
    "  elif r < guess:\n",
    "    print(\"遗憾，太大了\")\n",
    "  else:\n",
    "    break\n",
    "  guess = int(input())\n",
    "if not is_not_integer(gu):\n",
    "\tprint(\"预测{}次，你猜中了！\".format(i))"
   ]
  },
  {
   "cell_type": "code",
   "execution_count": 92,
   "metadata": {},
   "outputs": [
    {
     "name": "stdout",
     "output_type": "stream",
     "text": [
      "3.42232\n"
     ]
    }
   ],
   "source": [
    "# 3 蒙特卡洛方法计算曲线y=x3在区间(1, 2)内和x轴所围面积\n",
    "from random import *\n",
    "count =0\n",
    "for i in range (1,100001):\n",
    "  x,y=random()+1,random()*10-2\n",
    "  if pow(x,3) < y:\n",
    "    count+=1\n",
    "print(count/100000*8)"
   ]
  },
  {
   "cell_type": "markdown",
   "metadata": {},
   "source": [
    "# 5"
   ]
  },
  {
   "cell_type": "code",
   "execution_count": 2,
   "metadata": {},
   "outputs": [
    {
     "data": {
      "text/plain": [
       "False"
      ]
     },
     "execution_count": 2,
     "metadata": {},
     "output_type": "execute_result"
    }
   ],
   "source": [
    "# 5.1 回文数判定\n",
    "def isPalindrome(s):\n",
    "    return s == s[::-1]\n",
    "  \n",
    "isPalindrome(input(\"Enter a string: \"))\n"
   ]
  },
  {
   "cell_type": "code",
   "execution_count": 8,
   "metadata": {},
   "outputs": [
    {
     "name": "stdout",
     "output_type": "stream",
     "text": [
      "12345\n",
      "0987654321\n",
      "08642\n",
      "0741\n"
     ]
    }
   ],
   "source": [
    "#test\n",
    "s = '1234567890'\n",
    "print(s[0:5])\n",
    "print(s[::-1])\n",
    "print(s[::-2])\n",
    "print(s[::-3])"
   ]
  },
  {
   "cell_type": "code",
   "execution_count": 37,
   "metadata": {},
   "outputs": [
    {
     "name": "stdout",
     "output_type": "stream",
     "text": [
      "0 0 0 0\n"
     ]
    }
   ],
   "source": [
    "# 5.2\t\twrong\n",
    "\n",
    "def Count(str,n1,n2,n3,n4):\n",
    "  if(str == ' '):\n",
    "    n1+=1\n",
    "  elif str in [1,2,3,4,5,6,7,8,9,0]:\n",
    "    n2+=1\n",
    "  elif (str <'z' and str >'a') or (str <'Z' and str >'A') :\n",
    "    n3+=1\n",
    "  else:\n",
    "    n4+=1\n",
    "    \n",
    "\n",
    "n1,n2,n3,n4 = 0,0,0,0\n",
    "str = input()\n",
    "for i in str:\n",
    "  Count(i,n1,n2,n3,n4)\n",
    "print(n1,n2,n3,n4)"
   ]
  },
  {
   "cell_type": "code",
   "execution_count": 52,
   "metadata": {},
   "outputs": [
    {
     "name": "stdout",
     "output_type": "stream",
     "text": [
      "3 2 7 2\n"
     ]
    }
   ],
   "source": [
    "# 5.2\t\tright\n",
    "def Count(str):\n",
    "  n1,n2,n3,n4 = 0,0,0,0\n",
    "  for i in str:\n",
    "    # if(i == ' '):\n",
    "    if(i.isspace()):\n",
    "      n1+=1\n",
    "    # elif i in ['1','2','3','4','5','6','7','8','9','0']:\n",
    "    elif i.isdigit():\n",
    "      n2+=1\n",
    "    elif i.isalpha() :\n",
    "      n3+=1\n",
    "    else:\n",
    "      n4+=1\n",
    "  print(n1,n2,n3,n4)\n",
    "    \n",
    "\n",
    "# str = input()\n",
    "str = ' 0 ii.n9d;sfv '\n",
    "Count(str)\t\t# 3 2 7 2"
   ]
  },
  {
   "cell_type": "code",
   "execution_count": 10,
   "metadata": {},
   "outputs": [
    {
     "data": {
      "text/plain": [
       "False"
      ]
     },
     "execution_count": 10,
     "metadata": {},
     "output_type": "execute_result"
    }
   ],
   "source": [
    "# 5.3\n",
    "def isPrime(n):\n",
    "    if n == 1:\n",
    "        return False\n",
    "    for i in range(2, int(n ** 0.5) + 1):\n",
    "        if n % i == 0:\n",
    "            return False\n",
    "    return True\n",
    "  \n",
    "isPrime(int(input()))"
   ]
  },
  {
   "cell_type": "code",
   "execution_count": 32,
   "metadata": {},
   "outputs": [
    {
     "name": "stdout",
     "output_type": "stream",
     "text": [
      "4181\n"
     ]
    }
   ],
   "source": [
    "# 5.4\n",
    "def fib(a,b,n):\n",
    "  if(n==1):\n",
    "    return a\n",
    "  elif(n==2):\n",
    "    return b\n",
    "  else:\n",
    "    return fib(b,a+b,n-1)\n",
    "\n",
    "maxs = 0\n",
    "n=1\n",
    "while(maxs<5000):\n",
    "  res = maxs\n",
    "  maxs=max(maxs,fib(1,1,n))\n",
    "  n+=1\n",
    "\n",
    "print(res)"
   ]
  },
  {
   "cell_type": "markdown",
   "metadata": {},
   "source": [
    "# 6"
   ]
  },
  {
   "cell_type": "code",
   "execution_count": 2,
   "metadata": {},
   "outputs": [
    {
     "name": "stdout",
     "output_type": "stream",
     "text": [
      "4.106372549019609   4.0045918367346935\n",
      "52.80\n"
     ]
    }
   ],
   "source": [
    "# 6.1\n",
    "\n",
    "s=[5.0,4.7,3.6,4.7,5.0,4.2,3.5,3.9,5.0,3.2,4.6,4.5,3.5,3.2,4.9,3.3,4.1,4.3,3.2,4.8,4.3,3.5,3.2,3.3,4.1,3.8,4.1,3.6,5.1,4.2,3.6,3.9,4.0,4.5,4.7,3.5,3.8,3.6,4.5,3.2,4.5,3.4,4.5,4.6,4.2,4.2,5.0,3.2,4.0,3.2,4.3,3.0,3.7,4.8,5.0,3.8,4.4,4.7,4.5,3.2,4.1,3.6,4.8,5.0,5.1,4.9,3.9,4.1,4.6,3.0,4.7,4.2,4.6,3.7,5.1,4.5,4.5,4.4,3.3,4.6,3.6,3.7,4.9,3.1,3.0,4.5,4.7,4.0,4.1,5.1,4.7,4.7,4.1,4.2,3.9,4.4,3.9,4.5,3.9,4.8,4.5,3.0,3.3,3.2,3.0,3.5,3.6,4.8,4.6,3.3,4.5,3.7,4.0,3.4,4.8,3.6,4.4,4.4,4.8,5.0,3.2,3.6,4.1,3.3,3.7,3.4,4.1,4.1,3.6,5.1,4.5,3.3,4.6,4.9,4.6,3.8,3.4,4.7,4.7,4.6,4.4,3.0,4.3,4.6,3.8,4.4,3.8,3.0,5.0,3.6,4.7,3.9,4.3,4.4,4.2,4.0,3.8,5.0,4.2,3.4,4.1,4.1,4.0,5.0,4.7,4.8,3.9,4.4,3.5,4.4,3.6,3.2,4.7,3.1,4.4,3.7,3.3,4.5,3.7,4.3,4.7,4.6,5.1,3.2,3.8,3.6,3.7,4.2,4.5,4.5,3.5,3.2,3.8,3.6,3.3,3.7,4.8,3.5,3.1,5.0,4.8,3.6,3.5,3.5,4.1,3.9,4.4,4.1,4.7,3.2,4.3,4.4,3.5,4.5,4.0,3.3,3.3,3.5,4.8,4.6,3.4,4.4,3.4,4.0,3.9,5.1,3.8,3.2,4.9,3.9,4.7,3.1,4.5,3.6,3.2,3.3,4.5,4.4,4.1,3.2,4.7,4.9,3.7,3.7,3.1,3.9,4.5,3.1,3.8,4.5,5.0,5.0,5.0,4.0,5.0,4.9,3.8,4.2,3.4,4.9,4.3,4.0,4.2,3.2,4.2,3.1,4.2,4.0,4.6,4.9,4.7,3.3,3.4,3.8,3.7,4.4,3.4,3.2,4.5,3.8,4.8,4.1,4.1,4.7,3.4,3.7,4.6,4.3,3.3,3.0,4.8,3.7,3.0,4.7,3.4,3.4,3.9,3.6,3.4,4.2,3.7,4.7,3.3,5.0,3.3,4.0,3.1,3.2,4.5,4.1,3.9,3.1,3.2,4.9,3.5,3.8,4.5,3.5,4.2,4.5,3.5,4.7,3.3,4.7,4.3,4.9,4.5,4.5,3.6,4.8,3.8,4.5,3.1,3.5,4.6,4.5,3.9,3.5,5.0,4.1,4.6,4.8,4.8,4.4,3.8,4.5,3.2,3.6,3.4,5.0,4.4,3.7,3.6,3.2,4.5,3.0,3.9,3.6,4.6,4.4,4.4,3.4,3.8,4.4,4.4,3.5,4.9,4.2,4.6,3.4,4.9,3.9,5.1,4.2,4.8,3.1,3.9,4.7,4.8,4.1,3.8,3.4,4.5,4.5,3.1,3.2,3.3,4.0,4.5,3.8,4.5,3.8,4.2,4.4,3.5,4.5,3.3,4.9,3.2,3.0]\n",
    "t=[0,1,1,1,0,0,1,0,1,0,0,1,1,0,1,1,1,1,1,0,1,0,1,1,0,1,0,0,0,1,0,0,0,0,0,0,0,0,0,0,0,0,0,0,0,1,1,0,0,0,1,0,0,1,0,0,0,1,1,1,0,1,1,0,1,0,1,0,1,0,1,0,0,1,1,0,1,0,1,1,0,1,0,0,1,0,0,0,0,0,1,1,0,0,1,1,1,1,0,1,0,0,0,1,1,1,1,0,1,0,1,1,0,1,0,0,0,1,0,0,1,1,0,0,0,1,1,1,0,0,0,0,0,0,1,0,1,0,1,1,0,0,0,1,0,1,0,1,0,0,1,0,1,1,1,0,1,0,0,0,0,1,0,0,1,0,1,0,1,1,1,1,1,1,0,1,1,0,1,1,1,0,0,1,1,0,0,1,0,1,0,1,1,1,0,1,1,0,0,0,1,0,1,1,1,1,0,0,0,1,1,0,0,1,1,0,1,1,0,0,0,1,1,1,0,0,1,1,1,0,0,0,0,1,1,0,1,0,0,0,1,0,0,0,1,1,1,1,0,0,0,0,1,1,1,0,1,0,1,0,1,0,0,1,0,0,0,0,1,0,0,1,1,0,1,0,1,1,1,1,0,1,0,1,1,1,0,1,0,0,0,1,1,0,1,0,1,1,0,1,1,1,0,1,0,1,1,0,0,1,0,1,0,0,1,1,1,1,0,0,1,0,0,0,1,0,0,1,0,1,1,1,0,1,1,1,1,0,0,1,1,1,1,1,1,1,1,0,1,1,0,0,0,1,1,1,1,1,1,0,1,0,0,0,1,0,0,1,1,0,0,0,0,0,0,1,0,0,1,0,1,0,0,1,1,0,0,0,1,1,0,1,0,0,0,0,0,1,1,1]\n",
    "\n",
    "sum0,sum1,n0,n1 =0,0,0,0\n",
    "for i in range(len(s)):\n",
    "  if(t[i] == 0):\n",
    "    sum0 += s[i]\n",
    "    n0 += 1\n",
    "  else:\n",
    "    sum1 += s[i]\n",
    "    n1 += 1\n",
    "\n",
    "print(sum0/n0,' ',sum1/n1)\n",
    "print('{:.2f}'.format(abs(sum0-sum1)))\n"
   ]
  },
  {
   "cell_type": "code",
   "execution_count": 10,
   "metadata": {},
   "outputs": [
    {
     "name": "stdout",
     "output_type": "stream",
     "text": [
      "[0, 2, 0]\n"
     ]
    }
   ],
   "source": [
    "# 6.2\t\n",
    "def isf(n,i):\n",
    "  if n%i==0:\n",
    "    return True\n",
    "  else:\n",
    "    return False\n",
    "\n",
    "m=0\n",
    "n = int(input())\n",
    "a = [0]*n\n",
    "for i in range(2,n):\n",
    "  j=2\n",
    "  for j in range(2,i):\n",
    "    if isf(n,i):\n",
    "      break\n",
    "  if(j==i):\n",
    "    m+=1\n",
    "    a[m] = i\n",
    "print(a)"
   ]
  },
  {
   "cell_type": "code",
   "execution_count": 6,
   "metadata": {},
   "outputs": [
    {
     "name": "stdout",
     "output_type": "stream",
     "text": [
      "[True, True, True, True, True, True, True, True, True]\n",
      "[False, False, True, True, True, True, True, True, True]\n",
      "2到8范围内的全部素数为：\n",
      "[2, 3, 5, 7]\n"
     ]
    }
   ],
   "source": [
    "def sieve_of_eratosthenes(n):\n",
    "    # 初始化一个布尔列表，用于标记是否为素数，默认都是素数\n",
    "    is_prime = [True] * (n+1)\n",
    "    print(is_prime)\n",
    "    is_prime[0] = is_prime[1] = False  # 0和1不是素数\n",
    "    print(is_prime)\n",
    "\n",
    "    # 筛选法，从2开始遍历到根号n\n",
    "    for i in range(2, int(n**0.5) + 1):\n",
    "        if is_prime[i]:\n",
    "            # 将i的倍数标记为非素数\n",
    "            for j in range(i*i, n+1, i):\n",
    "                is_prime[j] = False\n",
    "\n",
    "    # 输出素数\n",
    "    primes = [i for i in range(2, n+1) if is_prime[i]]\n",
    "    return primes\n",
    "\n",
    "# 从键盘输入一个整数n\n",
    "n = int(input(\"请输入一个整数n: \"))\n",
    "\n",
    "# 调用筛选法求素数\n",
    "primes = sieve_of_eratosthenes(n)\n",
    "\n",
    "# 打印素数\n",
    "print(\"2到{}范围内的全部素数为：\".format(n))\n",
    "print(primes)\n"
   ]
  },
  {
   "cell_type": "code",
   "execution_count": 24,
   "metadata": {},
   "outputs": [
    {
     "name": "stdout",
     "output_type": "stream",
     "text": [
      "True\n"
     ]
    }
   ],
   "source": [
    "# 6.3\n",
    "import random\n",
    "\n",
    "def solve(a):\n",
    "  b = set(a)\n",
    "  c = list(b)\n",
    "  for i in a:\n",
    "    if(i in a and i in b):\n",
    "      return True\n",
    "  return False\n",
    "\n",
    "n =\trandint(2,100)\n",
    "a = [1,2,3,1,3,1,9]\n",
    "print(solve(a))\n"
   ]
  },
  {
   "cell_type": "code",
   "execution_count": null,
   "metadata": {},
   "outputs": [],
   "source": [
    "def has_duplicates(lst):\n",
    "    # 将列表转换为集合，利用集合的无重复性\n",
    "    unique_set = set(lst)\n",
    "    # 如果集合的长度小于列表的长度，说明有重复元素\n",
    "    return len(unique_set) < len(lst)\n",
    "\n",
    "# 测试函数\n",
    "def test_has_duplicates():\n",
    "    # 测试用例\n",
    "    test_cases = [\n",
    "        [1, 2, 3, 4, 5],\n",
    "        [1, 2, 3, 4, 5, 1],\n",
    "        [1, 2, 3, 4, 5, 5],\n",
    "        [1, 2, 3, 4, 4, 5, 5],\n",
    "        [],\n",
    "        [1],\n",
    "        [1, 1],\n",
    "        [1, 2, 3, 'a', 'b', 'a']\n",
    "    ]\n",
    "\n",
    "    # 执行测试\n",
    "    for lst in test_cases:\n",
    "        print(f\"List: {lst}, Has Duplicates: {has_duplicates(lst)}\")\n",
    "\n",
    "# 调用测试函数\n",
    "test_has_duplicates()\n"
   ]
  },
  {
   "cell_type": "code",
   "execution_count": 14,
   "metadata": {},
   "outputs": [
    {
     "data": {
      "text/plain": [
       "True"
      ]
     },
     "execution_count": 14,
     "metadata": {},
     "output_type": "execute_result"
    }
   ],
   "source": [
    "def check_list(lst):\n",
    "    lstx = list(set(lst))\n",
    "    return len(lst) > len(lstx)\n",
    "    # if len(lst) > len(lstx):\n",
    "    #     return True\n",
    "    # else:\n",
    "    #     return False\n",
    "# a = [1,1,2,3]\n",
    "l = list(map(int,input().split(\",\")))\n",
    "check_list(l)\n"
   ]
  },
  {
   "cell_type": "code",
   "execution_count": 5,
   "metadata": {},
   "outputs": [
    {
     "name": "stdout",
     "output_type": "stream",
     "text": [
      "23个人当中至少有两人生日相同的概率为：50.57%\n"
     ]
    }
   ],
   "source": [
    "import random\n",
    "def miss(num):\n",
    "    flag=0\n",
    "    for i in range(num):\n",
    "        ls=[]\n",
    "        for i in range(23):\n",
    "            birthday=random.choice(range(365))\n",
    "            ls.append(birthday)#列表储存生日信息\n",
    "        dount=set(ls)#利用set函数生成一个集合\n",
    "        if len(dount)!=len(ls):#利用集合里无重复元素性质，若两长度不等，说明列表含相同元素，即有人生日相同\n",
    "            flag+=1\n",
    "    return flag/num\n",
    "print(\"23个人当中至少有两人生日相同的概率为：{:.2f}%\".format(miss(10000)*100))"
   ]
  },
  {
   "cell_type": "code",
   "execution_count": 4,
   "metadata": {},
   "outputs": [
    {
     "name": "stdout",
     "output_type": "stream",
     "text": [
      "For 10 samples, probability of at least two sharing a birthday: 0.51\n",
      "For 100 samples, probability of at least two sharing a birthday: 0.50\n",
      "For 1000 samples, probability of at least two sharing a birthday: 0.51\n",
      "For 10000 samples, probability of at least two sharing a birthday: 0.51\n"
     ]
    }
   ],
   "source": [
    "import random\n",
    "\n",
    "def has_shared_birthday(num_people):\n",
    "    birthdays = [random.randint(1, 365) for _ in range(num_people)]\n",
    "    return len(birthdays) != len(set(birthdays))\n",
    "\n",
    "def calculate_probability(num_simulations, num_people):\n",
    "    num_successes = 0\n",
    "    for _ in range(num_simulations):\n",
    "        if has_shared_birthday(num_people):\n",
    "            num_successes += 1\n",
    "    return num_successes / num_simulations\n",
    "\n",
    "num_simulations = 10000\n",
    "for n in range(1, 5):\n",
    "    num_people = 10 ** n\n",
    "    probability = calculate_probability(num_simulations, 23)\n",
    "    print(f\"For {num_people} samples, probability of at least two sharing a birthday: {probability:.2f}\")\n"
   ]
  },
  {
   "cell_type": "markdown",
   "metadata": {},
   "source": [
    "# 7"
   ]
  },
  {
   "cell_type": "code",
   "execution_count": null,
   "metadata": {},
   "outputs": [],
   "source": [
    "excludes = {\"the\",\"and\",\"of\",\"you\",\"a\",\"i\",\"my\",\"in\"}\n",
    "\n",
    "def  getText():\n",
    "  txt = open(\"hamlet.txt\",\"r\").read()\n",
    "  txt = txt.lower()\n",
    "  for ch in '!\"#$%&()*+,-./:;<=>?@[\\\\]^_`{|}~':\n",
    "    txt = txt.replace(ch,\" \")\n",
    "    return txt\n",
    "\n",
    "halmetTxt = getText()\n",
    "words = halmetTxt.split()\n",
    "counts = {}\n",
    "for word in words:\n",
    "  counts[word] = counts.get(word,0) + 1\n",
    "  \n",
    "for word in excludes:\n",
    "  del(counts[word])\n",
    "  \n",
    "items = list(counts.items())\n",
    "items.sort(key=lambda x: x[1], reverse=True)\n",
    "for i in range(10):\n",
    "  word, count = items[i]\n",
    "  print(\"{0:<10} {1:>5}\".format(word, count))"
   ]
  },
  {
   "cell_type": "code",
   "execution_count": null,
   "metadata": {},
   "outputs": [],
   "source": [
    "import jieba\n",
    "excludes = {\"将军\",\"却说\",\"荆州\",\"二人\",\"不可\",\"不能\",\"如此\"}\n",
    "txt = open(\"三国演义.txt\",\"r\",encoding = \"utf-8\")\n",
    "words = jieba.lcut(txt)\n",
    "counts = {}\n",
    "for word in words:\n",
    "  if len(word) == 1:\n",
    "    continue\n",
    "  elif word ==\"诸葛亮\" or word ==\"孔明曰\":\n",
    "    rword = \"孔明\"\n",
    "  elif word ==\"关公\" or word ==\"云长\":\n",
    "    rword = \"关羽\"\n",
    "  elif word ==\"玄德\" or word ==\"玄德曰\":\n",
    "    rword = \"刘备\"\n",
    "  elif word ==\"孟德\" or word ==\"丞相\":\n",
    "    rword = \"曹操\"\n",
    "  else:\n",
    "    rword = word\n",
    "  counts[word] = counts.get(word,0) +1\n",
    "for word in excludes:\n",
    "  del(counts[word])\n",
    "items = list(counts.items())\n",
    "items.sort(key = lambda x:x[1],reverese = True)\n",
    "for i in range(15):\n",
    "  word, count = items[i]\n",
    "  print(\"{0:<10}{1:>5}\".format(word, count))"
   ]
  },
  {
   "cell_type": "code",
   "execution_count": null,
   "metadata": {},
   "outputs": [],
   "source": [
    "import random\n",
    "ls = [chr(ord(\"A\")+i) for i in range(26)] + [chr(ord(\"0\")+i) for i in range(10)] + [chr(ord(\"a\")+i) for i in range(26)]\n",
    "lt = []\n",
    "for i in range(10):\n",
    "  s = \"\"\n",
    "  for j in range(8):\n",
    "    s += ls[random.randint(0,26*2+10)]\n",
    "  lt.append(s)\n",
    "\n",
    "print(lt)"
   ]
  },
  {
   "cell_type": "code",
   "execution_count": 9,
   "metadata": {},
   "outputs": [
    {
     "name": "stdout",
     "output_type": "stream",
     "text": [
      "MGlVIsap\n",
      "3bx7WrpN\n",
      "OMUHF9pb\n",
      "vA44nHhf\n",
      "xsBGQiAj\n",
      "mBOOCJuA\n",
      "N2KXzzvC\n",
      "cVMogR7w\n",
      "dkfupRrA\n",
      "gw3VdjfN\n"
     ]
    }
   ],
   "source": [
    "import random\n",
    "\n",
    "# 定义包含26个大小写字母和9个数字的列表\n",
    "characters = [chr(i) for i in range(65, 91)] + [chr(i) for i in range(97, 123)] + [str(i) for i in range(10)]\n",
    "for _ in range(10):\n",
    "    password = ''.join(random.choices(characters, k=8))\n",
    "    print(password)\n"
   ]
  },
  {
   "cell_type": "code",
   "execution_count": 4,
   "metadata": {},
   "outputs": [
    {
     "name": "stdout",
     "output_type": "stream",
     "text": [
      "字符频率分析结果:\n"
     ]
    }
   ],
   "source": [
    "from collections import Counter\n",
    "import string\n",
    "\n",
    "def character_frequency(text):\n",
    "    # 移除标点符号\n",
    "    text = text.translate(str.maketrans('', '', string.punctuation))\n",
    "\n",
    "    # 移除空格\n",
    "    text = text.replace(' ', '')\n",
    "\n",
    "    # 统计每个字符的出现次数\n",
    "    freq = Counter(text)\n",
    "\n",
    "    # 按字符频率降序排序\n",
    "    freq = sorted(freq.items(), key=lambda x: x[1], reverse=True)\n",
    "\n",
    "    # 打印字符及其频率\n",
    "    for char, frequency in freq:\n",
    "        print(f\"{char}: {frequency}\")\n",
    "\n",
    "# 输入文本\n",
    "text = input(\"请输入文本: \")\n",
    "\n",
    "# 调用函数进行字符频率分析\n",
    "print(\"字符频率分析结果:\")\n",
    "character_frequency(text)\n"
   ]
  },
  {
   "cell_type": "code",
   "execution_count": null,
   "metadata": {},
   "outputs": [],
   "source": [
    "import jieba\n",
    "excludes = {\"大人\",\"却说\"}\n",
    "txt = open(\"红楼梦.txt\",\"r\",encoding = \"utf-8\")\n",
    "words = jieba.lcut(txt)\n",
    "counts = {}\n",
    "for word in words:\n",
    "  if len(word) == 1:\n",
    "    continue\n",
    "  elif word ==\"颦颦\" or word ==\"颦儿\" or word ==\"林姑娘\"or word ==\"林妹妹\"or word ==\"潇湘妃子\":\n",
    "    rword = \"林黛玉\"\n",
    "  elif word ==\"蘅芜君\" or word ==\"宝姐姐\" or word ==\"宝丫头\" or word ==\"宝姑娘\":\n",
    "    rword = \"薛宝钗\"\n",
    "  else:\n",
    "    rword = word\n",
    "  counts[word] = counts.get(word,0) +1\n",
    "for word in excludes:\n",
    "  del(counts[word])\n",
    "items = list(counts.items())\n",
    "items.sort(key = lambda x:x[1],reverese = True)\n",
    "for i in range(15):\n",
    "  word, count = items[i]\n",
    "  print(\"{0:<10}{1:>5}\".format(word, count))\n",
    "        "
   ]
  },
  {
   "cell_type": "markdown",
   "metadata": {},
   "source": [
    "# 8"
   ]
  },
  {
   "cell_type": "code",
   "execution_count": 5,
   "metadata": {},
   "outputs": [],
   "source": [
    "import keyword\n",
    "\n",
    "# 读取源文件\n",
    "with open(\"test1.py\", \"r\") as file:\n",
    "    lines = file.readlines()\n",
    "\n",
    "# 处理每一行，将非保留字的小写字母转换为大写字母\n",
    "new_lines = []\n",
    "for line in lines:\n",
    "    words = line.split()\n",
    "    new_words = []\n",
    "    for word in words:\n",
    "        if not keyword.iskeyword(word):\n",
    "            new_word = word.upper()\n",
    "        else:\n",
    "            new_word = word\n",
    "        new_words.append(new_word)\n",
    "    new_line = \" \".join(new_words)\n",
    "    new_lines.append(new_line)\n",
    "\n",
    "# 将修改后的内容写入新的源文件\n",
    "with open(\"modified_source.py\", \"w\") as file:\n",
    "    file.writelines(new_lines)\n"
   ]
  },
  {
   "cell_type": "code",
   "execution_count": 7,
   "metadata": {},
   "outputs": [
    {
     "name": "stdout",
     "output_type": "stream",
     "text": [
      "82.28712212515977\n"
     ]
    }
   ],
   "source": [
    "str = \"123456789\"\n",
    "s =0\n",
    "for i in range(8):\n",
    "  s += int(str[:i+2]) / int(str[:i+1])\n",
    "print(s)"
   ]
  },
  {
   "cell_type": "code",
   "execution_count": 9,
   "metadata": {},
   "outputs": [],
   "source": [
    "import jieba\n",
    "with open('A.txt', 'r', encoding='utf-8 ') as file:\n",
    "    content = file.read()\n",
    "words = jieba.lcut(content)\n",
    "filtered_words = [word for word in words if len(word) > 2]\n",
    "\n",
    "word_counts = {}\n",
    "for word in filtered_words:\n",
    "    if word in word_counts:\n",
    "        word_counts[word] += 1\n",
    "    else:\n",
    "        word_counts[word] = 1\n",
    "\n",
    "with open('B.txt', 'w', encoding='utf-8') as file:\n",
    "    for word, count in word_counts.items():\n",
    "        file.write(f'{word}: {count}\\n')\n",
    "        # file.write(\"{}: {}\\n\".format(word, count))\n"
   ]
  }
 ],
 "metadata": {
  "kernelspec": {
   "display_name": "Python 3",
   "language": "python",
   "name": "python3"
  },
  "language_info": {
   "codemirror_mode": {
    "name": "ipython",
    "version": 3
   },
   "file_extension": ".py",
   "mimetype": "text/x-python",
   "name": "python",
   "nbconvert_exporter": "python",
   "pygments_lexer": "ipython3",
   "version": "3.12.2"
  }
 },
 "nbformat": 4,
 "nbformat_minor": 2
}
