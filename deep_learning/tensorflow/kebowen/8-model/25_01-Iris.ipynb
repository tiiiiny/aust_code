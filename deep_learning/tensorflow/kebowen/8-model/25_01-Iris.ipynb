{
 "cells": [
  {
   "cell_type": "code",
   "execution_count": 3,
   "metadata": {},
   "outputs": [
    {
     "name": "stdout",
     "output_type": "stream",
     "text": [
      "(120, 4)\n",
      "(120,)\n",
      "(30, 4)\n",
      "(30,)\n",
      "x_train[:4] [[6.7 3.3 5.7 2.1]\n",
      " [5.7 3.8 1.7 0.3]\n",
      " [4.9 3.1 1.5 0.1]\n",
      " [4.8 3.  1.4 0.1]]\n",
      "y_train[:4] [2 0 0 0]\n",
      "y_train2[:4] [[0. 0. 1.]\n",
      " [1. 0. 0.]\n",
      " [1. 0. 0.]\n",
      " [1. 0. 0.]]\n"
     ]
    }
   ],
   "source": [
    "# 25_01-Iris.py\n",
    "from sklearn import datasets\n",
    "from sklearn.model_selection import train_test_split\n",
    "import tensorflow as tf\n",
    "import numpy as np\n",
    "iris = datasets.load_iris()\n",
    "category = 3\n",
    "dim = 4\n",
    "x_train ,x_test, y_train, y_test = train_test_split(iris.data, iris.target, test_size=0.2)\n",
    "print(x_train.shape)\n",
    "print(y_train.shape)\n",
    "print(x_test.shape)\n",
    "print(y_test.shape)\n",
    "y_train2 = tf.keras.utils.to_categorical(y_train, num_classes = (category))\n",
    "y_test2 = tf.keras.utils.to_categorical(y_test, num_classes = (category))\n",
    "print(\"x_train[:4]\",x_train[:4])\n",
    "print(\"y_train[:4]\",y_train[:4])\n",
    "print(\"y_train2[:4]\",y_train2[:4])\n",
    "\n"
   ]
  },
  {
   "cell_type": "code",
   "execution_count": 2,
   "metadata": {},
   "outputs": [
    {
     "name": "stdout",
     "output_type": "stream",
     "text": [
      "iris.data.shape =  (442, 10)\n",
      "dir(iris) =  ['DESCR', 'data', 'data_filename', 'data_module', 'feature_names', 'frame', 'target', 'target_filename']\n",
      "iris.target.shape =  (442,)\n",
      "No iris.feature_names = \n"
     ]
    }
   ],
   "source": [
    "# 25_02-IrisExcel.py\n",
    "import numpy as np\n",
    "from sklearn import datasets\n",
    "from sklearn.neighbors import KNeighborsClassifier\n",
    "\n",
    "# 获取鸢尾花的数据\n",
    "iris = datasets.load_diabetes()\n",
    "print(\"iris.data.shape = \", iris.data.shape)\n",
    "print(\"dir(iris) = \", dir(iris))\n",
    "print(\"iris.target.shape = \", iris.target.shape)\n",
    "try:\n",
    "\tprint(\"iris.target_names = \", iris.target_names)\n",
    "except:\n",
    "\tprint(\"No iris.feature_names = \")\n",
    "# import xlsxwriter\n",
    "import pandas as pd\n",
    "# 转换数据模式\n",
    "try:\n",
    "    df = pd.DataFrame(iris.data, columns=iris.feature_names)\n",
    "except:\n",
    "    df = pd.DataFrame(iris.data, columns= ['Sepal Length(cm)', 'Sepal Width(cm)', 'Petal Length(cm)', 'Petal Width(cm)'])\n",
    "df['target'] = iris.target\n",
    "\n",
    "#print(df.head())\n",
    "df.to_csv(\"iris.csv\",sep ='\\t')\n",
    "\n",
    "writer = pd.ExcelWriter('iris.xlsx', engine='xlsxwriter')\n",
    "df.to_excel(writer, sheet_name='Sheet1')\n",
    "# writer.save()\n",
    "# AttributeError: 'XlsxWriter' object has no attribute 'save'. Did you mean: '_save'?\n",
    "# 新版pandas中save方法已经被弃用，只用writer.close()保存即可\n",
    "writer.close()\n"
   ]
  },
  {
   "cell_type": "code",
   "execution_count": 4,
   "metadata": {},
   "outputs": [
    {
     "ename": "NameError",
     "evalue": "name 'model' is not defined",
     "output_type": "error",
     "traceback": [
      "\u001b[0;31m---------------------------------------------------------------------------\u001b[0m",
      "\u001b[0;31mNameError\u001b[0m                                 Traceback (most recent call last)",
      "Cell \u001b[0;32mIn[4], line 2\u001b[0m\n\u001b[1;32m      1\u001b[0m \u001b[38;5;66;03m# Iris-mlp-show\u001b[39;00m\n\u001b[0;32m----> 2\u001b[0m history \u001b[38;5;241m=\u001b[39m \u001b[43mmodel\u001b[49m\u001b[38;5;241m.\u001b[39mfit(x_train, y_train2, \n\u001b[1;32m      3\u001b[0m     epochs\u001b[38;5;241m=\u001b[39m\u001b[38;5;241m200\u001b[39m, \n\u001b[1;32m      4\u001b[0m     batch_size\u001b[38;5;241m=\u001b[39m\u001b[38;5;241m128\u001b[39m)\n",
      "\u001b[0;31mNameError\u001b[0m: name 'model' is not defined"
     ]
    }
   ],
   "source": [
    "# Iris-mlp-show\n",
    "history = .fit(x_train, y_train2, \n",
    "    epochs=200, \n",
    "    batch_size=128)"
   ]
  }
 ],
 "metadata": {
  "kernelspec": {
   "display_name": "Tianluo",
   "language": "python",
   "name": "python3"
  },
  "language_info": {
   "codemirror_mode": {
    "name": "ipython",
    "version": 3
   },
   "file_extension": ".py",
   "mimetype": "text/x-python",
   "name": "python",
   "nbconvert_exporter": "python",
   "pygments_lexer": "ipython3",
   "version": "3.11.5"
  }
 },
 "nbformat": 4,
 "nbformat_minor": 2
}
