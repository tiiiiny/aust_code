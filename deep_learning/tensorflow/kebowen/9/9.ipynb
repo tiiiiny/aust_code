{
 "cells": [
  {
   "cell_type": "code",
   "execution_count": null,
   "metadata": {},
   "outputs": [],
   "source": [
    "# 32_01_Random.py\n",
    "\n",
    "import tensorflow as tf\n",
    "import numpy as np\n",
    "x1 = np.random.random((100,2)) * - 4 - 1\n",
    "x2 = np.random.random((100,2)) * 4 + 1\n",
    "x_train = np.concatenate((x1,x2))\n",
    "y1 = np.zeros((100,),dtype = int)\n",
    "y2 = np.ones((100,),dtype = int)\n",
    "y_train = np.concatenate((y1,y2))\n",
    "import matplotlib.pyplot as plt\n",
    "plt.plot(x1[:,0],x1[:,1],'yo')\n",
    "plt.plot(x2[:,0],x2[:,1],'bo')\n",
    "plt.show()"
   ]
  },
  {
   "cell_type": "code",
   "execution_count": null,
   "metadata": {},
   "outputs": [],
   "source": []
  }
 ],
 "metadata": {
  "kernelspec": {
   "display_name": "Tianluo",
   "language": "python",
   "name": "python3"
  },
  "language_info": {
   "codemirror_mode": {
    "name": "ipython",
    "version": 3
   },
   "file_extension": ".py",
   "mimetype": "text/x-python",
   "name": "python",
   "nbconvert_exporter": "python",
   "pygments_lexer": "ipython3",
   "version": "3.11.5"
  }
 },
 "nbformat": 4,
 "nbformat_minor": 2
}
