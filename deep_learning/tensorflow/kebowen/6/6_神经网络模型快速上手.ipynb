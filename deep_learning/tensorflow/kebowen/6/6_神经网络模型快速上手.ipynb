{
 "cells": [
  {
   "cell_type": "code",
   "execution_count": 1,
   "metadata": {},
   "outputs": [],
   "source": [
    "# 创建数据集\n",
    "import tensorflow as tf\n",
    "import numpy as np\n",
    "x1 = np.random.random((500,1))\n",
    "x2 = np.random.random((500,1)) +1\n",
    "x_train = np.concatenate((x1,x2))\n",
    "y1 = np.zeros((500,),dtype = int)\n",
    "y2 = np.ones((500,),dtype = int)\n",
    "y_train = np.concatenate((y1,y2))"
   ]
  },
  {
   "cell_type": "code",
   "execution_count": 2,
   "metadata": {},
   "outputs": [],
   "source": [
    "# 构造模型\n",
    "model = tf.keras.models.Sequential([\n",
    "tf.keras.layers.Dense(10,activation =tf.nn.relu,input_dim =1),\n",
    "tf.keras.layers.Dense(10,activation =tf.nn.relu),\n",
    "tf.keras.layers.Dense(2,activation = tf.nn.softmax)\n",
    "])"
   ]
  },
  {
   "cell_type": "code",
   "execution_count": 3,
   "metadata": {},
   "outputs": [],
   "source": [
    "# 编译\n",
    "model.compile(optimizer = 'adam',\n",
    "\tloss ='sparse_categorical_crossentropy',\n",
    "\tmetrics = ['accuracy'])"
   ]
  },
  {
   "cell_type": "code",
   "execution_count": 4,
   "metadata": {},
   "outputs": [
    {
     "name": "stdout",
     "output_type": "stream",
     "text": [
      "Epoch 1/20\n",
      "8/8 [==============================] - 0s 1ms/step - loss: 0.7653 - accuracy: 0.4540\n",
      "Epoch 2/20\n",
      "8/8 [==============================] - 0s 2ms/step - loss: 0.7422 - accuracy: 0.3330\n",
      "Epoch 3/20\n",
      "8/8 [==============================] - 0s 1ms/step - loss: 0.7224 - accuracy: 0.1200\n",
      "Epoch 4/20\n",
      "8/8 [==============================] - 0s 575us/step - loss: 0.7050 - accuracy: 0.3480\n",
      "Epoch 5/20\n",
      "8/8 [==============================] - 0s 1ms/step - loss: 0.6875 - accuracy: 0.5000\n",
      "Epoch 6/20\n",
      "8/8 [==============================] - 0s 795us/step - loss: 0.6703 - accuracy: 0.5000\n",
      "Epoch 7/20\n",
      "8/8 [==============================] - 0s 2ms/step - loss: 0.6593 - accuracy: 0.5560\n",
      "Epoch 8/20\n",
      "8/8 [==============================] - 0s 6ms/step - loss: 0.6482 - accuracy: 0.5840\n",
      "Epoch 9/20\n",
      "8/8 [==============================] - 0s 1ms/step - loss: 0.6360 - accuracy: 0.6140\n",
      "Epoch 10/20\n",
      "8/8 [==============================] - 0s 804us/step - loss: 0.6239 - accuracy: 0.6400\n",
      "Epoch 11/20\n",
      "8/8 [==============================] - 0s 704us/step - loss: 0.6124 - accuracy: 0.6660\n",
      "Epoch 12/20\n",
      "8/8 [==============================] - 0s 730us/step - loss: 0.6005 - accuracy: 0.6980\n",
      "Epoch 13/20\n",
      "8/8 [==============================] - 0s 653us/step - loss: 0.5878 - accuracy: 0.7200\n",
      "Epoch 14/20\n",
      "8/8 [==============================] - 0s 794us/step - loss: 0.5741 - accuracy: 0.7550\n",
      "Epoch 15/20\n",
      "8/8 [==============================] - 0s 623us/step - loss: 0.5579 - accuracy: 0.7830\n",
      "Epoch 16/20\n",
      "8/8 [==============================] - 0s 617us/step - loss: 0.5416 - accuracy: 0.8100\n",
      "Epoch 17/20\n",
      "8/8 [==============================] - 0s 619us/step - loss: 0.5240 - accuracy: 0.8330\n",
      "Epoch 18/20\n",
      "8/8 [==============================] - 0s 653us/step - loss: 0.5055 - accuracy: 0.8550\n",
      "Epoch 19/20\n",
      "8/8 [==============================] - 0s 716us/step - loss: 0.4856 - accuracy: 0.8690\n",
      "Epoch 20/20\n",
      "8/8 [==============================] - 0s 501us/step - loss: 0.4651 - accuracy: 0.8800\n"
     ]
    },
    {
     "data": {
      "text/plain": [
       "<keras.src.callbacks.History at 0x2a93b5c90>"
      ]
     },
     "execution_count": 4,
     "metadata": {},
     "output_type": "execute_result"
    }
   ],
   "source": [
    "# 训练\n",
    "model.fit(x = x_train,y = y_train,\n",
    "        epochs = 20,\n",
    "        batch_size = 132)"
   ]
  },
  {
   "cell_type": "code",
   "execution_count": 5,
   "metadata": {},
   "outputs": [
    {
     "name": "stdout",
     "output_type": "stream",
     "text": [
      "1/1 [==============================] - 0s 82ms/step - loss: 0.4261 - accuracy: 1.0000\n",
      "score: [0.4261432886123657, 1.0]\n"
     ]
    }
   ],
   "source": [
    "# 评估正确率\n",
    "x_test = np.array([[0.22],[0.33],[1.22],[1.33]])\n",
    "y_test = np.array([0,0,1,1])\n",
    "score = model.evaluate(x_test, y_test,batch_size= 128)\n",
    "print(\"score:\",score)\n"
   ]
  },
  {
   "cell_type": "code",
   "execution_count": 6,
   "metadata": {},
   "outputs": [
    {
     "name": "stdout",
     "output_type": "stream",
     "text": [
      "1/1 [==============================] - 0s 41ms/step\n",
      "predict:  [[0.6619224  0.3380776 ]\n",
      " [0.64922816 0.3507719 ]\n",
      " [0.36337715 0.6366228 ]\n",
      " [0.33529848 0.6647015 ]]\n",
      "Ans: 0 0 1 1\n",
      "1/1 [==============================] - 0s 9ms/step\n",
      "predict_classes:  [0 0 1 1]\n",
      "y_test: [0 0 1 1]\n"
     ]
    }
   ],
   "source": [
    "# 预测\n",
    "predict = model.predict(x_test)\n",
    "print(\"predict: \", predict)\n",
    "print(\"Ans:\",np.argmax(predict[0]),np.argmax(predict[1]),\n",
    "\tnp.argmax(predict[2]),np.argmax(predict[3]))\n",
    "# predict2 = model.predict_classes(x_test)\n",
    "predict2 = model.predict(x_test)\n",
    "predict2_class = np.argmax(predict2, axis=1)\n",
    "\n",
    "print(\"predict_classes: \", predict2_class)\n",
    "print(\"y_test:\",y_test[:10])\n"
   ]
  },
  {
   "cell_type": "markdown",
   "metadata": {},
   "source": [
    "注释报错因为版本问题，，2.6以上删除了predict_classes函数\n",
    "两种解决方法：\n",
    "1，使用低版本tensorflow\n",
    "2，使用np.argmax()函数"
   ]
  }
 ],
 "metadata": {
  "kernelspec": {
   "display_name": "Python 3 (ipykernel)",
   "language": "python",
   "name": "python3"
  },
  "language_info": {
   "codemirror_mode": {
    "name": "ipython",
    "version": 3
   },
   "file_extension": ".py",
   "mimetype": "text/x-python",
   "name": "python",
   "nbconvert_exporter": "python",
   "pygments_lexer": "ipython3",
   "version": "3.11.2"
  }
 },
 "nbformat": 4,
 "nbformat_minor": 4
}
