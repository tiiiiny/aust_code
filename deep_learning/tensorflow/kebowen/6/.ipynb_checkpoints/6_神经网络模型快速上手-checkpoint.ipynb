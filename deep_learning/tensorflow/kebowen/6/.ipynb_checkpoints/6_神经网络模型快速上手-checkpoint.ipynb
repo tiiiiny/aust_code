{
 "cells": [
  {
   "cell_type": "code",
   "execution_count": 2,
   "metadata": {},
   "outputs": [],
   "source": [
    "# 创建数据集\n",
    "import tensorflow as tf\n",
    "import numpy as np\n",
    "x1 = np.random.random((500,1))\n",
    "x2 = np.random.random((500,1)) +1\n",
    "x_train = np.concatenate((x1,x2))\n",
    "y1 = np.zeros((500,),dtype = int)\n",
    "y2 = np.ones((500,),dtype = int)\n",
    "y_train = np.concatenate((y1,y2))"
   ]
  },
  {
   "cell_type": "code",
   "execution_count": 4,
   "metadata": {},
   "outputs": [],
   "source": [
    "# 构造模型\n",
    "model = tf.keras.models.Sequential([\n",
    "tf.keras.layers.Dense(10,activation =tf.nn.relu,input_dim =1),\n",
    "tf.keras.layers.Dense(10,activation =tf.nn.relu),\n",
    "tf.keras.layers.Dense(2,activation = tf.nn.softmax)\n",
    "])"
   ]
  },
  {
   "cell_type": "code",
   "execution_count": 5,
   "metadata": {},
   "outputs": [],
   "source": [
    "# 编译\n",
    "model.compile(optimizer = 'adam',\n",
    "\tloss ='sparse_categorical_crossentropy',\n",
    "\tmetrics = ['accuracy'])"
   ]
  },
  {
   "cell_type": "code",
   "execution_count": 6,
   "metadata": {},
   "outputs": [
    {
     "name": "stdout",
     "output_type": "stream",
     "text": [
      "Epoch 1/20\n"
     ]
    },
    {
     "name": "stderr",
     "output_type": "stream",
     "text": [
      "2023-12-28 03:14:09.453499: W tensorflow/tsl/platform/profile_utils/cpu_utils.cc:128] Failed to get CPU frequency: 0 Hz\n"
     ]
    },
    {
     "name": "stdout",
     "output_type": "stream",
     "text": [
      "8/8 [==============================] - 0s 1ms/step - loss: 0.7803 - accuracy: 0.4700\n",
      "Epoch 2/20\n",
      "8/8 [==============================] - 0s 471us/step - loss: 0.7449 - accuracy: 0.3290\n",
      "Epoch 3/20\n",
      "8/8 [==============================] - 0s 877us/step - loss: 0.7156 - accuracy: 0.1960\n",
      "Epoch 4/20\n",
      "8/8 [==============================] - 0s 683us/step - loss: 0.6929 - accuracy: 0.5000\n",
      "Epoch 5/20\n",
      "8/8 [==============================] - 0s 465us/step - loss: 0.6734 - accuracy: 0.5000\n",
      "Epoch 6/20\n",
      "8/8 [==============================] - 0s 518us/step - loss: 0.6558 - accuracy: 0.5000\n",
      "Epoch 7/20\n",
      "8/8 [==============================] - 0s 533us/step - loss: 0.6393 - accuracy: 0.5000\n",
      "Epoch 8/20\n",
      "8/8 [==============================] - 0s 753us/step - loss: 0.6239 - accuracy: 0.5160\n",
      "Epoch 9/20\n",
      "8/8 [==============================] - 0s 502us/step - loss: 0.6093 - accuracy: 0.5750\n",
      "Epoch 10/20\n",
      "8/8 [==============================] - 0s 451us/step - loss: 0.5952 - accuracy: 0.6050\n",
      "Epoch 11/20\n",
      "8/8 [==============================] - 0s 762us/step - loss: 0.5817 - accuracy: 0.6320\n",
      "Epoch 12/20\n",
      "8/8 [==============================] - 0s 477us/step - loss: 0.5688 - accuracy: 0.6630\n",
      "Epoch 13/20\n",
      "8/8 [==============================] - 0s 566us/step - loss: 0.5560 - accuracy: 0.6950\n",
      "Epoch 14/20\n",
      "8/8 [==============================] - 0s 836us/step - loss: 0.5431 - accuracy: 0.7230\n",
      "Epoch 15/20\n",
      "8/8 [==============================] - 0s 494us/step - loss: 0.5299 - accuracy: 0.7460\n",
      "Epoch 16/20\n",
      "8/8 [==============================] - 0s 521us/step - loss: 0.5168 - accuracy: 0.7700\n",
      "Epoch 17/20\n",
      "8/8 [==============================] - 0s 1ms/step - loss: 0.5038 - accuracy: 0.7860\n",
      "Epoch 18/20\n",
      "8/8 [==============================] - 0s 559us/step - loss: 0.4914 - accuracy: 0.8000\n",
      "Epoch 19/20\n",
      "8/8 [==============================] - 0s 631us/step - loss: 0.4793 - accuracy: 0.8100\n",
      "Epoch 20/20\n",
      "8/8 [==============================] - 0s 466us/step - loss: 0.4675 - accuracy: 0.8210\n"
     ]
    },
    {
     "data": {
      "text/plain": [
       "<keras.callbacks.History at 0x1085b7450>"
      ]
     },
     "execution_count": 6,
     "metadata": {},
     "output_type": "execute_result"
    }
   ],
   "source": [
    "# 训练\n",
    "model.fit(x = x_train,y = y_train,\n",
    "        epochs = 20,\n",
    "        batch_size = 132)"
   ]
  },
  {
   "cell_type": "code",
   "execution_count": 9,
   "metadata": {},
   "outputs": [
    {
     "name": "stdout",
     "output_type": "stream",
     "text": [
      "1/1 [==============================] - 0s 109ms/step - loss: 0.4276 - accuracy: 1.0000\n",
      "score: [0.42758709192276, 1.0]\n"
     ]
    }
   ],
   "source": [
    "# 评估正确率\n",
    "x_test = np.array([[0.22],[0.33],[1.22],[1.33]])\n",
    "y_test = np.array([0,0,1,1])\n",
    "score = model.evaluate(x_test, y_test,batch_size= 128)\n",
    "print(\"score:\",score)\n"
   ]
  },
  {
   "cell_type": "code",
   "execution_count": 26,
   "metadata": {},
   "outputs": [
    {
     "name": "stdout",
     "output_type": "stream",
     "text": [
      "1/1 [==============================] - 0s 70ms/step\n",
      "predict:  [[0.6016297  0.39837036]\n",
      " [0.598152   0.40184802]\n",
      " [0.3075691  0.6924309 ]\n",
      " [0.2744156  0.72558445]]\n",
      "Ans: 0 0 1 1\n",
      "1/1 [==============================] - 0s 11ms/step\n",
      "predict_classes:  [0 0 1 1]\n",
      "y_test: [0 0 1 1]\n"
     ]
    }
   ],
   "source": [
    "# 预测\n",
    "predict = model.predict(x_test)\n",
    "print(\"predict: \", predict)\n",
    "print(\"Ans:\",np.argmax(predict[0]),np.argmax(predict[1]),\n",
    "\tnp.argmax(predict[2]),np.argmax(predict[3]))\n",
    "# predict2 = model.predict_classes(x_test)\n",
    "predict2 = model.predict(x_test)\n",
    "predict2_class = np.argmax(predict2, axis=1)\n",
    "\n",
    "print(\"predict_classes: \", predict2_class)\n",
    "print(\"y_test:\",y_test[:10])\n"
   ]
  },
  {
   "cell_type": "markdown",
   "metadata": {},
   "source": [
    "注释报错因为版本问题，，2.6以上删除了predict_classes函数\n",
    "两种解决方法：\n",
    "1，使用低版本tensorflow\n",
    "2，使用np.argmax()函数"
   ]
  }
 ],
 "metadata": {
  "kernelspec": {
   "display_name": "Tianluo",
   "language": "python",
   "name": "python3"
  },
  "language_info": {
   "codemirror_mode": {
    "name": "ipython",
    "version": 3
   },
   "file_extension": ".py",
   "mimetype": "text/x-python",
   "name": "python",
   "nbconvert_exporter": "python",
   "pygments_lexer": "ipython3",
   "version": "3.11.5"
  }
 },
 "nbformat": 4,
 "nbformat_minor": 2
}
